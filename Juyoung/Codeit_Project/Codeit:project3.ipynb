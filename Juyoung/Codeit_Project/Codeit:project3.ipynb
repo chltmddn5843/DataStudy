{
 "cells": [
  {
   "cell_type": "markdown",
   "source": [
    "### 1. 라이브러리 & 데이터 리딩"
   ],
   "metadata": {
    "collapsed": false
   },
   "id": "eb0c36a4505cce93"
  },
  {
   "cell_type": "code",
   "execution_count": 3,
   "id": "initial_id",
   "metadata": {
    "collapsed": true,
    "ExecuteTime": {
     "end_time": "2024-03-09T14:31:17.067374Z",
     "start_time": "2024-03-09T14:31:17.062164Z"
    }
   },
   "outputs": [],
   "source": [
    "# 수치화를 위한 라이브러리 \n",
    "import pandas as pd \n",
    "import numpy as np \n",
    "\n",
    "# 시각화를 위한 라이브러리 \n",
    "import matplotlib.pyplot as plt\n",
    "import seaborn as sns"
   ]
  },
  {
   "cell_type": "code",
   "outputs": [],
   "source": [
    "# 한글 깨짐 방지\n",
    "from matplotlib import rc\n",
    "rc('font', family ='AppleGothic')"
   ],
   "metadata": {
    "collapsed": false,
    "ExecuteTime": {
     "end_time": "2024-03-09T14:31:39.106109Z",
     "start_time": "2024-03-09T14:31:39.101439Z"
    }
   },
   "id": "a95be280f1d2d35c",
   "execution_count": 8
  },
  {
   "cell_type": "code",
   "outputs": [
    {
     "data": {
      "text/plain": "     ID signup_ym  birth_year  annual_income marital_status  children  \\\n0  5524   2020-12        1965     75579400.0             미혼         0   \n1  2174   2022-06        1962     60247200.0             미혼         2   \n2  4141   2021-11        1973     93096900.0         배우자 있음         0   \n3  6182   2022-05        1992     34639800.0         배우자 있음         1   \n4  5324   2022-04        1989     75780900.0         배우자 있음         1   \n\n   recency  amount_alcohol  amount_fruit  amount_meat  amount_fish  \\\n0       58          825500        114400       709800       223600   \n1       38           14300          1300         7800         2600   \n2       26          553800         63700       165100       144300   \n3       26           14300          5200        26000        13000   \n4       94          224900         55900       153400        59800   \n\n   amount_snack  amount_general  num_purchase_web  num_purchase_store  \\\n0        114400          114400                 8                   4   \n1          1300            7800                 1                   2   \n2         27300           54600                 8                  10   \n3          3900            6500                 2                   4   \n4         35100           19500                 5                   6   \n\n   num_purchase_discount  promotion_1  promotion_2  promotion_3  promotion_4  \\\n0                      3            0            0            0            0   \n1                      2            0            0            0            0   \n2                      1            0            0            0            0   \n3                      2            0            0            0            0   \n4                      5            0            0            0            0   \n\n   promotion_5  promotion_6  revenue  \n0            0            1       11  \n1            0            0       11  \n2            0            0       11  \n3            0            0       11  \n4            0            0       11  ",
      "text/html": "<div>\n<style scoped>\n    .dataframe tbody tr th:only-of-type {\n        vertical-align: middle;\n    }\n\n    .dataframe tbody tr th {\n        vertical-align: top;\n    }\n\n    .dataframe thead th {\n        text-align: right;\n    }\n</style>\n<table border=\"1\" class=\"dataframe\">\n  <thead>\n    <tr style=\"text-align: right;\">\n      <th></th>\n      <th>ID</th>\n      <th>signup_ym</th>\n      <th>birth_year</th>\n      <th>annual_income</th>\n      <th>marital_status</th>\n      <th>children</th>\n      <th>recency</th>\n      <th>amount_alcohol</th>\n      <th>amount_fruit</th>\n      <th>amount_meat</th>\n      <th>amount_fish</th>\n      <th>amount_snack</th>\n      <th>amount_general</th>\n      <th>num_purchase_web</th>\n      <th>num_purchase_store</th>\n      <th>num_purchase_discount</th>\n      <th>promotion_1</th>\n      <th>promotion_2</th>\n      <th>promotion_3</th>\n      <th>promotion_4</th>\n      <th>promotion_5</th>\n      <th>promotion_6</th>\n      <th>revenue</th>\n    </tr>\n  </thead>\n  <tbody>\n    <tr>\n      <th>0</th>\n      <td>5524</td>\n      <td>2020-12</td>\n      <td>1965</td>\n      <td>75579400.0</td>\n      <td>미혼</td>\n      <td>0</td>\n      <td>58</td>\n      <td>825500</td>\n      <td>114400</td>\n      <td>709800</td>\n      <td>223600</td>\n      <td>114400</td>\n      <td>114400</td>\n      <td>8</td>\n      <td>4</td>\n      <td>3</td>\n      <td>0</td>\n      <td>0</td>\n      <td>0</td>\n      <td>0</td>\n      <td>0</td>\n      <td>1</td>\n      <td>11</td>\n    </tr>\n    <tr>\n      <th>1</th>\n      <td>2174</td>\n      <td>2022-06</td>\n      <td>1962</td>\n      <td>60247200.0</td>\n      <td>미혼</td>\n      <td>2</td>\n      <td>38</td>\n      <td>14300</td>\n      <td>1300</td>\n      <td>7800</td>\n      <td>2600</td>\n      <td>1300</td>\n      <td>7800</td>\n      <td>1</td>\n      <td>2</td>\n      <td>2</td>\n      <td>0</td>\n      <td>0</td>\n      <td>0</td>\n      <td>0</td>\n      <td>0</td>\n      <td>0</td>\n      <td>11</td>\n    </tr>\n    <tr>\n      <th>2</th>\n      <td>4141</td>\n      <td>2021-11</td>\n      <td>1973</td>\n      <td>93096900.0</td>\n      <td>배우자 있음</td>\n      <td>0</td>\n      <td>26</td>\n      <td>553800</td>\n      <td>63700</td>\n      <td>165100</td>\n      <td>144300</td>\n      <td>27300</td>\n      <td>54600</td>\n      <td>8</td>\n      <td>10</td>\n      <td>1</td>\n      <td>0</td>\n      <td>0</td>\n      <td>0</td>\n      <td>0</td>\n      <td>0</td>\n      <td>0</td>\n      <td>11</td>\n    </tr>\n    <tr>\n      <th>3</th>\n      <td>6182</td>\n      <td>2022-05</td>\n      <td>1992</td>\n      <td>34639800.0</td>\n      <td>배우자 있음</td>\n      <td>1</td>\n      <td>26</td>\n      <td>14300</td>\n      <td>5200</td>\n      <td>26000</td>\n      <td>13000</td>\n      <td>3900</td>\n      <td>6500</td>\n      <td>2</td>\n      <td>4</td>\n      <td>2</td>\n      <td>0</td>\n      <td>0</td>\n      <td>0</td>\n      <td>0</td>\n      <td>0</td>\n      <td>0</td>\n      <td>11</td>\n    </tr>\n    <tr>\n      <th>4</th>\n      <td>5324</td>\n      <td>2022-04</td>\n      <td>1989</td>\n      <td>75780900.0</td>\n      <td>배우자 있음</td>\n      <td>1</td>\n      <td>94</td>\n      <td>224900</td>\n      <td>55900</td>\n      <td>153400</td>\n      <td>59800</td>\n      <td>35100</td>\n      <td>19500</td>\n      <td>5</td>\n      <td>6</td>\n      <td>5</td>\n      <td>0</td>\n      <td>0</td>\n      <td>0</td>\n      <td>0</td>\n      <td>0</td>\n      <td>0</td>\n      <td>11</td>\n    </tr>\n  </tbody>\n</table>\n</div>"
     },
     "execution_count": 42,
     "metadata": {},
     "output_type": "execute_result"
    }
   ],
   "source": [
    "df = pd.read_csv('data-3/customer_data.csv', sep='\\t') # 쉼표가 아닌, tab으로 구분 되어있음\n",
    "\n",
    "# pd.set_option('display.max_columns', None)\n",
    "# 생략되는 칼럼 없이 보여줌 \n",
    "\n",
    "df.head()"
   ],
   "metadata": {
    "collapsed": false,
    "ExecuteTime": {
     "end_time": "2024-03-09T15:25:58.678774Z",
     "start_time": "2024-03-09T15:25:58.617018Z"
    }
   },
   "id": "f900add49e19c16",
   "execution_count": 42
  },
  {
   "cell_type": "code",
   "outputs": [
    {
     "data": {
      "text/plain": "['ID',\n 'signup_ym',\n 'age',\n 'annual_income',\n 'marital_status',\n 'children',\n 'recency',\n 'amount_alcohol',\n 'amount_fruit',\n 'amount_meat',\n 'amount_fish',\n 'amount_snack',\n 'amount_general',\n 'num_purchase_web',\n 'num_purchase_store',\n 'num_purchase_discount',\n 'promotion_1',\n 'promotion_2',\n 'promotion_3',\n 'promotion_4',\n 'promotion_5',\n 'promotion_6',\n 'revenue']"
     },
     "execution_count": 45,
     "metadata": {},
     "output_type": "execute_result"
    }
   ],
   "source": [
    "df.columns.tolist()"
   ],
   "metadata": {
    "collapsed": false,
    "ExecuteTime": {
     "end_time": "2024-03-09T15:27:39.956826Z",
     "start_time": "2024-03-09T15:27:39.933256Z"
    }
   },
   "id": "fb597f6bd8a0fb3f",
   "execution_count": 45
  },
  {
   "cell_type": "markdown",
   "source": [
    "### 2. 결측치 및 칼럼처리"
   ],
   "metadata": {
    "collapsed": false
   },
   "id": "6aff3349eb64e07c"
  },
  {
   "cell_type": "code",
   "outputs": [
    {
     "data": {
      "text/plain": "(2240, 23)"
     },
     "execution_count": 12,
     "metadata": {},
     "output_type": "execute_result"
    }
   ],
   "source": [
    "# 데이터 크기 확인 \n",
    "df.shape"
   ],
   "metadata": {
    "collapsed": false,
    "ExecuteTime": {
     "end_time": "2024-03-09T14:44:46.495010Z",
     "start_time": "2024-03-09T14:44:46.474938Z"
    }
   },
   "id": "41230b89236f0eae",
   "execution_count": 12
  },
  {
   "cell_type": "markdown",
   "source": [
    "#### 2.1 결측치 확인"
   ],
   "metadata": {
    "collapsed": false
   },
   "id": "59d677178f317e67"
  },
  {
   "cell_type": "code",
   "outputs": [
    {
     "name": "stdout",
     "output_type": "stream",
     "text": [
      "<class 'pandas.core.frame.DataFrame'>\n",
      "RangeIndex: 2240 entries, 0 to 2239\n",
      "Data columns (total 23 columns):\n",
      " #   Column                 Non-Null Count  Dtype  \n",
      "---  ------                 --------------  -----  \n",
      " 0   ID                     2240 non-null   int64  \n",
      " 1   signup_ym              2240 non-null   object \n",
      " 2   birth_year             2240 non-null   int64  \n",
      " 3   annual_income          2216 non-null   float64\n",
      " 4   marital_status         2240 non-null   object \n",
      " 5   children               2240 non-null   int64  \n",
      " 6   recency                2240 non-null   int64  \n",
      " 7   amount_alcohol         2240 non-null   int64  \n",
      " 8   amount_fruit           2240 non-null   int64  \n",
      " 9   amount_meat            2240 non-null   int64  \n",
      " 10  amount_fish            2240 non-null   int64  \n",
      " 11  amount_snack           2240 non-null   int64  \n",
      " 12  amount_general         2240 non-null   int64  \n",
      " 13  num_purchase_web       2240 non-null   int64  \n",
      " 14  num_purchase_store     2240 non-null   int64  \n",
      " 15  num_purchase_discount  2240 non-null   int64  \n",
      " 16  promotion_1            2240 non-null   int64  \n",
      " 17  promotion_2            2240 non-null   int64  \n",
      " 18  promotion_3            2240 non-null   int64  \n",
      " 19  promotion_4            2240 non-null   int64  \n",
      " 20  promotion_5            2240 non-null   int64  \n",
      " 21  promotion_6            2240 non-null   int64  \n",
      " 22  revenue                2240 non-null   int64  \n",
      "dtypes: float64(1), int64(20), object(2)\n",
      "memory usage: 402.6+ KB\n"
     ]
    }
   ],
   "source": [
    "df.info()"
   ],
   "metadata": {
    "collapsed": false,
    "ExecuteTime": {
     "end_time": "2024-03-09T14:48:28.098025Z",
     "start_time": "2024-03-09T14:48:28.046826Z"
    }
   },
   "id": "25146c29d85818a5",
   "execution_count": 17
  },
  {
   "cell_type": "markdown",
   "source": [
    "- annual income에 결측치가 존재함"
   ],
   "metadata": {
    "collapsed": false
   },
   "id": "9bceeebe126d902d"
  },
  {
   "cell_type": "code",
   "outputs": [
    {
     "data": {
      "text/plain": "ID                        0\nsignup_ym                 0\nbirth_year                0\nannual_income            24\nmarital_status            0\nchildren                  0\nrecency                   0\namount_alcohol            0\namount_fruit              0\namount_meat               0\namount_fish               0\namount_snack              0\namount_general            0\nnum_purchase_web          0\nnum_purchase_store        0\nnum_purchase_discount     0\npromotion_1               0\npromotion_2               0\npromotion_3               0\npromotion_4               0\npromotion_5               0\npromotion_6               0\nrevenue                   0\ndtype: int64"
     },
     "execution_count": 18,
     "metadata": {},
     "output_type": "execute_result"
    }
   ],
   "source": [
    "df.isnull().sum()"
   ],
   "metadata": {
    "collapsed": false,
    "ExecuteTime": {
     "end_time": "2024-03-09T14:49:33.702316Z",
     "start_time": "2024-03-09T14:49:33.670682Z"
    }
   },
   "id": "33bfd40d9c7e7f92",
   "execution_count": 18
  },
  {
   "cell_type": "markdown",
   "source": [
    "- annual_income에 24개의 null 값 존재. \n",
    "- 분석과정 이전에 처리 필요!"
   ],
   "metadata": {
    "collapsed": false
   },
   "id": "e0d3fd18085ed2a2"
  },
  {
   "cell_type": "markdown",
   "source": [
    "#### 2.2 annual_income의 결측치 처리\n",
    "- 240개의 데이터중에 24개만 결측치\n",
    "- 결측치 데이터를 삭제하는 것으로 결정 "
   ],
   "metadata": {
    "collapsed": false
   },
   "id": "c3fe200cdebe009a"
  },
  {
   "cell_type": "code",
   "outputs": [
    {
     "data": {
      "text/plain": "ID                       0\nsignup_ym                0\nbirth_year               0\nannual_income            0\nmarital_status           0\nchildren                 0\nrecency                  0\namount_alcohol           0\namount_fruit             0\namount_meat              0\namount_fish              0\namount_snack             0\namount_general           0\nnum_purchase_web         0\nnum_purchase_store       0\nnum_purchase_discount    0\npromotion_1              0\npromotion_2              0\npromotion_3              0\npromotion_4              0\npromotion_5              0\npromotion_6              0\nrevenue                  0\ndtype: int64"
     },
     "execution_count": 36,
     "metadata": {},
     "output_type": "execute_result"
    }
   ],
   "source": [
    "df = df.dropna()\n",
    "df.isnull().sum()"
   ],
   "metadata": {
    "collapsed": false,
    "ExecuteTime": {
     "end_time": "2024-03-09T15:05:18.913836Z",
     "start_time": "2024-03-09T15:05:18.880842Z"
    }
   },
   "id": "dc3112ea42ba0b78",
   "execution_count": 36
  },
  {
   "cell_type": "markdown",
   "source": [
    "- 결측치가 지워졌음을 확인할 수 있음"
   ],
   "metadata": {
    "collapsed": false
   },
   "id": "8ce4bcab9665974"
  },
  {
   "cell_type": "markdown",
   "source": [
    "#### 2.3 object_cols의 unique값 확인하기"
   ],
   "metadata": {
    "collapsed": false
   },
   "id": "870d2ca5745dc240"
  },
  {
   "cell_type": "code",
   "outputs": [
    {
     "data": {
      "text/plain": "Index(['signup_ym', 'marital_status'], dtype='object')"
     },
     "execution_count": 21,
     "metadata": {},
     "output_type": "execute_result"
    }
   ],
   "source": [
    "object_cols = df.columns[df.dtypes == 'object']\n",
    "object_cols"
   ],
   "metadata": {
    "collapsed": false,
    "ExecuteTime": {
     "end_time": "2024-03-09T14:56:00.801733Z",
     "start_time": "2024-03-09T14:56:00.786406Z"
    }
   },
   "id": "10a5f7b8ca1b6217",
   "execution_count": 21
  },
  {
   "cell_type": "code",
   "outputs": [],
   "source": [
    "def unique_val(df):\n",
    "    object_cols = df.columns[df.dtypes == 'object'] # object인 col 저장 \n",
    "    \n",
    "    for col in object_cols:\n",
    "        print(f'{col}의 unique값 갯수: {df[col].nunique()}개')\n",
    "        print(sorted(df[col].unique()),'\\n')"
   ],
   "metadata": {
    "collapsed": false,
    "ExecuteTime": {
     "end_time": "2024-03-09T15:25:47.093489Z",
     "start_time": "2024-03-09T15:25:47.073426Z"
    }
   },
   "id": "7162d6f23652015a",
   "execution_count": 39
  },
  {
   "cell_type": "code",
   "outputs": [
    {
     "name": "stdout",
     "output_type": "stream",
     "text": [
      "signup_ym의 unique값 갯수: 24개\n",
      "['2020-10', '2020-11', '2020-12', '2021-01', '2021-02', '2021-03', '2021-04', '2021-05', '2021-06', '2021-07', '2021-08', '2021-09', '2021-10', '2021-11', '2021-12', '2022-01', '2022-02', '2022-03', '2022-04', '2022-05', '2022-06', '2022-07', '2022-08', '2022-09'] \n",
      "\n",
      "marital_status의 unique값 갯수: 4개\n",
      "['미혼', '배우자 있음', '사별', '이혼'] \n"
     ]
    }
   ],
   "source": [
    "unique_val(df)"
   ],
   "metadata": {
    "collapsed": false,
    "ExecuteTime": {
     "end_time": "2024-03-09T15:25:47.582021Z",
     "start_time": "2024-03-09T15:25:47.571745Z"
    }
   },
   "id": "234aaeacbf2a2f6a",
   "execution_count": 40
  },
  {
   "cell_type": "markdown",
   "source": [
    "- 2020년: 10월 ~ 12월 \n",
    "- 2021년: 1월 ~ 12월 \n",
    "- 2022년: 1월 ~ 9월\n",
    "의 데이터 값 존재 "
   ],
   "metadata": {
    "collapsed": false
   },
   "id": "7527da00edb48f93"
  },
  {
   "cell_type": "markdown",
   "source": [
    "#### 2.4 age 칼럼 추가하기"
   ],
   "metadata": {
    "collapsed": false
   },
   "id": "4e2252deae69517d"
  },
  {
   "cell_type": "code",
   "outputs": [],
   "source": [
    "# datetime라이브러리로 올해의 연도 추출하기 \n",
    "import datetime\n",
    "year = datetime.datetime.today().year\n",
    "\n",
    "df['birth_year'] = year - df['birth_year']\n",
    "df = df.rename(columns={'birth_year':'age'})"
   ],
   "metadata": {
    "collapsed": false,
    "ExecuteTime": {
     "end_time": "2024-03-09T15:26:04.568919Z",
     "start_time": "2024-03-09T15:26:04.539967Z"
    }
   },
   "id": "76b94f183d22f184",
   "execution_count": 43
  },
  {
   "cell_type": "code",
   "outputs": [
    {
     "data": {
      "text/plain": "     ID signup_ym  age  annual_income marital_status  children  recency  \\\n0  5524   2020-12   59     75579400.0             미혼         0       58   \n1  2174   2022-06   62     60247200.0             미혼         2       38   \n2  4141   2021-11   51     93096900.0         배우자 있음         0       26   \n3  6182   2022-05   32     34639800.0         배우자 있음         1       26   \n4  5324   2022-04   35     75780900.0         배우자 있음         1       94   \n\n   amount_alcohol  amount_fruit  amount_meat  amount_fish  amount_snack  \\\n0          825500        114400       709800       223600        114400   \n1           14300          1300         7800         2600          1300   \n2          553800         63700       165100       144300         27300   \n3           14300          5200        26000        13000          3900   \n4          224900         55900       153400        59800         35100   \n\n   amount_general  num_purchase_web  num_purchase_store  \\\n0          114400                 8                   4   \n1            7800                 1                   2   \n2           54600                 8                  10   \n3            6500                 2                   4   \n4           19500                 5                   6   \n\n   num_purchase_discount  promotion_1  promotion_2  promotion_3  promotion_4  \\\n0                      3            0            0            0            0   \n1                      2            0            0            0            0   \n2                      1            0            0            0            0   \n3                      2            0            0            0            0   \n4                      5            0            0            0            0   \n\n   promotion_5  promotion_6  revenue  \n0            0            1       11  \n1            0            0       11  \n2            0            0       11  \n3            0            0       11  \n4            0            0       11  ",
      "text/html": "<div>\n<style scoped>\n    .dataframe tbody tr th:only-of-type {\n        vertical-align: middle;\n    }\n\n    .dataframe tbody tr th {\n        vertical-align: top;\n    }\n\n    .dataframe thead th {\n        text-align: right;\n    }\n</style>\n<table border=\"1\" class=\"dataframe\">\n  <thead>\n    <tr style=\"text-align: right;\">\n      <th></th>\n      <th>ID</th>\n      <th>signup_ym</th>\n      <th>age</th>\n      <th>annual_income</th>\n      <th>marital_status</th>\n      <th>children</th>\n      <th>recency</th>\n      <th>amount_alcohol</th>\n      <th>amount_fruit</th>\n      <th>amount_meat</th>\n      <th>amount_fish</th>\n      <th>amount_snack</th>\n      <th>amount_general</th>\n      <th>num_purchase_web</th>\n      <th>num_purchase_store</th>\n      <th>num_purchase_discount</th>\n      <th>promotion_1</th>\n      <th>promotion_2</th>\n      <th>promotion_3</th>\n      <th>promotion_4</th>\n      <th>promotion_5</th>\n      <th>promotion_6</th>\n      <th>revenue</th>\n    </tr>\n  </thead>\n  <tbody>\n    <tr>\n      <th>0</th>\n      <td>5524</td>\n      <td>2020-12</td>\n      <td>59</td>\n      <td>75579400.0</td>\n      <td>미혼</td>\n      <td>0</td>\n      <td>58</td>\n      <td>825500</td>\n      <td>114400</td>\n      <td>709800</td>\n      <td>223600</td>\n      <td>114400</td>\n      <td>114400</td>\n      <td>8</td>\n      <td>4</td>\n      <td>3</td>\n      <td>0</td>\n      <td>0</td>\n      <td>0</td>\n      <td>0</td>\n      <td>0</td>\n      <td>1</td>\n      <td>11</td>\n    </tr>\n    <tr>\n      <th>1</th>\n      <td>2174</td>\n      <td>2022-06</td>\n      <td>62</td>\n      <td>60247200.0</td>\n      <td>미혼</td>\n      <td>2</td>\n      <td>38</td>\n      <td>14300</td>\n      <td>1300</td>\n      <td>7800</td>\n      <td>2600</td>\n      <td>1300</td>\n      <td>7800</td>\n      <td>1</td>\n      <td>2</td>\n      <td>2</td>\n      <td>0</td>\n      <td>0</td>\n      <td>0</td>\n      <td>0</td>\n      <td>0</td>\n      <td>0</td>\n      <td>11</td>\n    </tr>\n    <tr>\n      <th>2</th>\n      <td>4141</td>\n      <td>2021-11</td>\n      <td>51</td>\n      <td>93096900.0</td>\n      <td>배우자 있음</td>\n      <td>0</td>\n      <td>26</td>\n      <td>553800</td>\n      <td>63700</td>\n      <td>165100</td>\n      <td>144300</td>\n      <td>27300</td>\n      <td>54600</td>\n      <td>8</td>\n      <td>10</td>\n      <td>1</td>\n      <td>0</td>\n      <td>0</td>\n      <td>0</td>\n      <td>0</td>\n      <td>0</td>\n      <td>0</td>\n      <td>11</td>\n    </tr>\n    <tr>\n      <th>3</th>\n      <td>6182</td>\n      <td>2022-05</td>\n      <td>32</td>\n      <td>34639800.0</td>\n      <td>배우자 있음</td>\n      <td>1</td>\n      <td>26</td>\n      <td>14300</td>\n      <td>5200</td>\n      <td>26000</td>\n      <td>13000</td>\n      <td>3900</td>\n      <td>6500</td>\n      <td>2</td>\n      <td>4</td>\n      <td>2</td>\n      <td>0</td>\n      <td>0</td>\n      <td>0</td>\n      <td>0</td>\n      <td>0</td>\n      <td>0</td>\n      <td>11</td>\n    </tr>\n    <tr>\n      <th>4</th>\n      <td>5324</td>\n      <td>2022-04</td>\n      <td>35</td>\n      <td>75780900.0</td>\n      <td>배우자 있음</td>\n      <td>1</td>\n      <td>94</td>\n      <td>224900</td>\n      <td>55900</td>\n      <td>153400</td>\n      <td>59800</td>\n      <td>35100</td>\n      <td>19500</td>\n      <td>5</td>\n      <td>6</td>\n      <td>5</td>\n      <td>0</td>\n      <td>0</td>\n      <td>0</td>\n      <td>0</td>\n      <td>0</td>\n      <td>0</td>\n      <td>11</td>\n    </tr>\n  </tbody>\n</table>\n</div>"
     },
     "execution_count": 44,
     "metadata": {},
     "output_type": "execute_result"
    }
   ],
   "source": [
    "df.head()"
   ],
   "metadata": {
    "collapsed": false,
    "ExecuteTime": {
     "end_time": "2024-03-09T15:26:08.452700Z",
     "start_time": "2024-03-09T15:26:08.424768Z"
    }
   },
   "id": "6edf4f158f9ca0ed",
   "execution_count": 44
  },
  {
   "cell_type": "markdown",
   "source": [
    "- birth_year 대신에 age 칼럼을 추가함?"
   ],
   "metadata": {
    "collapsed": false
   },
   "id": "34c6e1bb4a044144"
  },
  {
   "cell_type": "code",
   "outputs": [],
   "source": [],
   "metadata": {
    "collapsed": false
   },
   "id": "531909ed11c053f8"
  },
  {
   "cell_type": "markdown",
   "source": [
    "#### 2.5 구매 금액 합계 및 구매 횟수 칼럼 "
   ],
   "metadata": {
    "collapsed": false
   },
   "id": "7ff32cd8cb24a354"
  },
  {
   "cell_type": "code",
   "outputs": [
    {
     "data": {
      "text/plain": "     ID signup_ym  age  annual_income marital_status  children  recency  \\\n0  5524   2020-12   59     75579400.0             미혼         0       58   \n1  2174   2022-06   62     60247200.0             미혼         2       38   \n2  4141   2021-11   51     93096900.0         배우자 있음         0       26   \n3  6182   2022-05   32     34639800.0         배우자 있음         1       26   \n4  5324   2022-04   35     75780900.0         배우자 있음         1       94   \n\n   amount_alcohol  amount_fruit  amount_meat  amount_fish  amount_snack  \\\n0          825500        114400       709800       223600        114400   \n1           14300          1300         7800         2600          1300   \n2          553800         63700       165100       144300         27300   \n3           14300          5200        26000        13000          3900   \n4          224900         55900       153400        59800         35100   \n\n   amount_general  num_purchase_web  num_purchase_store  \\\n0          114400                 8                   4   \n1            7800                 1                   2   \n2           54600                 8                  10   \n3            6500                 2                   4   \n4           19500                 5                   6   \n\n   num_purchase_discount  promotion_1  promotion_2  promotion_3  promotion_4  \\\n0                      3            0            0            0            0   \n1                      2            0            0            0            0   \n2                      1            0            0            0            0   \n3                      2            0            0            0            0   \n4                      5            0            0            0            0   \n\n   promotion_5  promotion_6  revenue  amount_total  \n0            0            1       11       2102100  \n1            0            0       11         35100  \n2            0            0       11       1008800  \n3            0            0       11         68900  \n4            0            0       11        548600  ",
      "text/html": "<div>\n<style scoped>\n    .dataframe tbody tr th:only-of-type {\n        vertical-align: middle;\n    }\n\n    .dataframe tbody tr th {\n        vertical-align: top;\n    }\n\n    .dataframe thead th {\n        text-align: right;\n    }\n</style>\n<table border=\"1\" class=\"dataframe\">\n  <thead>\n    <tr style=\"text-align: right;\">\n      <th></th>\n      <th>ID</th>\n      <th>signup_ym</th>\n      <th>age</th>\n      <th>annual_income</th>\n      <th>marital_status</th>\n      <th>children</th>\n      <th>recency</th>\n      <th>amount_alcohol</th>\n      <th>amount_fruit</th>\n      <th>amount_meat</th>\n      <th>amount_fish</th>\n      <th>amount_snack</th>\n      <th>amount_general</th>\n      <th>num_purchase_web</th>\n      <th>num_purchase_store</th>\n      <th>num_purchase_discount</th>\n      <th>promotion_1</th>\n      <th>promotion_2</th>\n      <th>promotion_3</th>\n      <th>promotion_4</th>\n      <th>promotion_5</th>\n      <th>promotion_6</th>\n      <th>revenue</th>\n      <th>amount_total</th>\n    </tr>\n  </thead>\n  <tbody>\n    <tr>\n      <th>0</th>\n      <td>5524</td>\n      <td>2020-12</td>\n      <td>59</td>\n      <td>75579400.0</td>\n      <td>미혼</td>\n      <td>0</td>\n      <td>58</td>\n      <td>825500</td>\n      <td>114400</td>\n      <td>709800</td>\n      <td>223600</td>\n      <td>114400</td>\n      <td>114400</td>\n      <td>8</td>\n      <td>4</td>\n      <td>3</td>\n      <td>0</td>\n      <td>0</td>\n      <td>0</td>\n      <td>0</td>\n      <td>0</td>\n      <td>1</td>\n      <td>11</td>\n      <td>2102100</td>\n    </tr>\n    <tr>\n      <th>1</th>\n      <td>2174</td>\n      <td>2022-06</td>\n      <td>62</td>\n      <td>60247200.0</td>\n      <td>미혼</td>\n      <td>2</td>\n      <td>38</td>\n      <td>14300</td>\n      <td>1300</td>\n      <td>7800</td>\n      <td>2600</td>\n      <td>1300</td>\n      <td>7800</td>\n      <td>1</td>\n      <td>2</td>\n      <td>2</td>\n      <td>0</td>\n      <td>0</td>\n      <td>0</td>\n      <td>0</td>\n      <td>0</td>\n      <td>0</td>\n      <td>11</td>\n      <td>35100</td>\n    </tr>\n    <tr>\n      <th>2</th>\n      <td>4141</td>\n      <td>2021-11</td>\n      <td>51</td>\n      <td>93096900.0</td>\n      <td>배우자 있음</td>\n      <td>0</td>\n      <td>26</td>\n      <td>553800</td>\n      <td>63700</td>\n      <td>165100</td>\n      <td>144300</td>\n      <td>27300</td>\n      <td>54600</td>\n      <td>8</td>\n      <td>10</td>\n      <td>1</td>\n      <td>0</td>\n      <td>0</td>\n      <td>0</td>\n      <td>0</td>\n      <td>0</td>\n      <td>0</td>\n      <td>11</td>\n      <td>1008800</td>\n    </tr>\n    <tr>\n      <th>3</th>\n      <td>6182</td>\n      <td>2022-05</td>\n      <td>32</td>\n      <td>34639800.0</td>\n      <td>배우자 있음</td>\n      <td>1</td>\n      <td>26</td>\n      <td>14300</td>\n      <td>5200</td>\n      <td>26000</td>\n      <td>13000</td>\n      <td>3900</td>\n      <td>6500</td>\n      <td>2</td>\n      <td>4</td>\n      <td>2</td>\n      <td>0</td>\n      <td>0</td>\n      <td>0</td>\n      <td>0</td>\n      <td>0</td>\n      <td>0</td>\n      <td>11</td>\n      <td>68900</td>\n    </tr>\n    <tr>\n      <th>4</th>\n      <td>5324</td>\n      <td>2022-04</td>\n      <td>35</td>\n      <td>75780900.0</td>\n      <td>배우자 있음</td>\n      <td>1</td>\n      <td>94</td>\n      <td>224900</td>\n      <td>55900</td>\n      <td>153400</td>\n      <td>59800</td>\n      <td>35100</td>\n      <td>19500</td>\n      <td>5</td>\n      <td>6</td>\n      <td>5</td>\n      <td>0</td>\n      <td>0</td>\n      <td>0</td>\n      <td>0</td>\n      <td>0</td>\n      <td>0</td>\n      <td>11</td>\n      <td>548600</td>\n    </tr>\n  </tbody>\n</table>\n</div>"
     },
     "execution_count": 46,
     "metadata": {},
     "output_type": "execute_result"
    }
   ],
   "source": [
    "df['amount_total'] = (df['amount_alcohol'] +\n",
    "                      df['amount_fruit'] +\n",
    "                      df['amount_meat']+\n",
    "                      df['amount_fish']+\n",
    "                      df['amount_snack'] +\n",
    "                      df['amount_general'])\n",
    "df.head()"
   ],
   "metadata": {
    "collapsed": false,
    "ExecuteTime": {
     "end_time": "2024-03-09T15:40:03.060709Z",
     "start_time": "2024-03-09T15:40:03.016294Z"
    }
   },
   "id": "9b1273db87ec5476",
   "execution_count": 46
  },
  {
   "cell_type": "code",
   "outputs": [],
   "source": [],
   "metadata": {
    "collapsed": false
   },
   "id": "d7035f3d57754daa"
  }
 ],
 "metadata": {
  "kernelspec": {
   "display_name": "Python 3",
   "language": "python",
   "name": "python3"
  },
  "language_info": {
   "codemirror_mode": {
    "name": "ipython",
    "version": 2
   },
   "file_extension": ".py",
   "mimetype": "text/x-python",
   "name": "python",
   "nbconvert_exporter": "python",
   "pygments_lexer": "ipython2",
   "version": "2.7.6"
  }
 },
 "nbformat": 4,
 "nbformat_minor": 5
}
