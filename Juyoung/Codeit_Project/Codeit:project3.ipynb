{
 "cells": [
  {
   "cell_type": "markdown",
   "id": "eb0c36a4505cce93",
   "metadata": {
    "collapsed": false
   },
   "source": [
    "### 1. 라이브러리 & 데이터 리딩"
   ]
  },
  {
   "cell_type": "code",
   "execution_count": 39,
   "id": "initial_id",
   "metadata": {
    "collapsed": true,
    "ExecuteTime": {
     "end_time": "2024-03-13T03:26:42.778726Z",
     "start_time": "2024-03-13T03:26:42.768140Z"
    }
   },
   "outputs": [],
   "source": [
    "# 수치화를 위한 라이브러리 \n",
    "import pandas as pd \n",
    "import numpy as np \n",
    "\n",
    "# 시각화를 위한 라이브러리 \n",
    "import matplotlib.pyplot as plt\n",
    "import seaborn as sns"
   ]
  },
  {
   "cell_type": "code",
   "execution_count": 40,
   "id": "a95be280f1d2d35c",
   "metadata": {
    "collapsed": false,
    "ExecuteTime": {
     "end_time": "2024-03-13T03:26:43.057288Z",
     "start_time": "2024-03-13T03:26:43.053596Z"
    }
   },
   "outputs": [],
   "source": [
    "# 한글 깨짐 방지\n",
    "from matplotlib import rc\n",
    "rc('font', family ='AppleGothic')"
   ]
  },
  {
   "cell_type": "code",
   "execution_count": 41,
   "id": "f900add49e19c16",
   "metadata": {
    "collapsed": false,
    "ExecuteTime": {
     "end_time": "2024-03-13T03:26:43.150196Z",
     "start_time": "2024-03-13T03:26:43.093983Z"
    }
   },
   "outputs": [
    {
     "data": {
      "text/plain": "     ID signup_ym  birth_year  annual_income marital_status  children  \\\n0  5524   2020-12        1965     75579400.0             미혼         0   \n1  2174   2022-06        1962     60247200.0             미혼         2   \n2  4141   2021-11        1973     93096900.0         배우자 있음         0   \n3  6182   2022-05        1992     34639800.0         배우자 있음         1   \n4  5324   2022-04        1989     75780900.0         배우자 있음         1   \n\n   recency  amount_alcohol  amount_fruit  amount_meat  ...  num_purchase_web  \\\n0       58          825500        114400       709800  ...                 8   \n1       38           14300          1300         7800  ...                 1   \n2       26          553800         63700       165100  ...                 8   \n3       26           14300          5200        26000  ...                 2   \n4       94          224900         55900       153400  ...                 5   \n\n   num_purchase_store  num_purchase_discount  promotion_1  promotion_2  \\\n0                   4                      3            0            0   \n1                   2                      2            0            0   \n2                  10                      1            0            0   \n3                   4                      2            0            0   \n4                   6                      5            0            0   \n\n   promotion_3  promotion_4  promotion_5  promotion_6  revenue  \n0            0            0            0            1       11  \n1            0            0            0            0       11  \n2            0            0            0            0       11  \n3            0            0            0            0       11  \n4            0            0            0            0       11  \n\n[5 rows x 23 columns]",
      "text/html": "<div>\n<style scoped>\n    .dataframe tbody tr th:only-of-type {\n        vertical-align: middle;\n    }\n\n    .dataframe tbody tr th {\n        vertical-align: top;\n    }\n\n    .dataframe thead th {\n        text-align: right;\n    }\n</style>\n<table border=\"1\" class=\"dataframe\">\n  <thead>\n    <tr style=\"text-align: right;\">\n      <th></th>\n      <th>ID</th>\n      <th>signup_ym</th>\n      <th>birth_year</th>\n      <th>annual_income</th>\n      <th>marital_status</th>\n      <th>children</th>\n      <th>recency</th>\n      <th>amount_alcohol</th>\n      <th>amount_fruit</th>\n      <th>amount_meat</th>\n      <th>...</th>\n      <th>num_purchase_web</th>\n      <th>num_purchase_store</th>\n      <th>num_purchase_discount</th>\n      <th>promotion_1</th>\n      <th>promotion_2</th>\n      <th>promotion_3</th>\n      <th>promotion_4</th>\n      <th>promotion_5</th>\n      <th>promotion_6</th>\n      <th>revenue</th>\n    </tr>\n  </thead>\n  <tbody>\n    <tr>\n      <th>0</th>\n      <td>5524</td>\n      <td>2020-12</td>\n      <td>1965</td>\n      <td>75579400.0</td>\n      <td>미혼</td>\n      <td>0</td>\n      <td>58</td>\n      <td>825500</td>\n      <td>114400</td>\n      <td>709800</td>\n      <td>...</td>\n      <td>8</td>\n      <td>4</td>\n      <td>3</td>\n      <td>0</td>\n      <td>0</td>\n      <td>0</td>\n      <td>0</td>\n      <td>0</td>\n      <td>1</td>\n      <td>11</td>\n    </tr>\n    <tr>\n      <th>1</th>\n      <td>2174</td>\n      <td>2022-06</td>\n      <td>1962</td>\n      <td>60247200.0</td>\n      <td>미혼</td>\n      <td>2</td>\n      <td>38</td>\n      <td>14300</td>\n      <td>1300</td>\n      <td>7800</td>\n      <td>...</td>\n      <td>1</td>\n      <td>2</td>\n      <td>2</td>\n      <td>0</td>\n      <td>0</td>\n      <td>0</td>\n      <td>0</td>\n      <td>0</td>\n      <td>0</td>\n      <td>11</td>\n    </tr>\n    <tr>\n      <th>2</th>\n      <td>4141</td>\n      <td>2021-11</td>\n      <td>1973</td>\n      <td>93096900.0</td>\n      <td>배우자 있음</td>\n      <td>0</td>\n      <td>26</td>\n      <td>553800</td>\n      <td>63700</td>\n      <td>165100</td>\n      <td>...</td>\n      <td>8</td>\n      <td>10</td>\n      <td>1</td>\n      <td>0</td>\n      <td>0</td>\n      <td>0</td>\n      <td>0</td>\n      <td>0</td>\n      <td>0</td>\n      <td>11</td>\n    </tr>\n    <tr>\n      <th>3</th>\n      <td>6182</td>\n      <td>2022-05</td>\n      <td>1992</td>\n      <td>34639800.0</td>\n      <td>배우자 있음</td>\n      <td>1</td>\n      <td>26</td>\n      <td>14300</td>\n      <td>5200</td>\n      <td>26000</td>\n      <td>...</td>\n      <td>2</td>\n      <td>4</td>\n      <td>2</td>\n      <td>0</td>\n      <td>0</td>\n      <td>0</td>\n      <td>0</td>\n      <td>0</td>\n      <td>0</td>\n      <td>11</td>\n    </tr>\n    <tr>\n      <th>4</th>\n      <td>5324</td>\n      <td>2022-04</td>\n      <td>1989</td>\n      <td>75780900.0</td>\n      <td>배우자 있음</td>\n      <td>1</td>\n      <td>94</td>\n      <td>224900</td>\n      <td>55900</td>\n      <td>153400</td>\n      <td>...</td>\n      <td>5</td>\n      <td>6</td>\n      <td>5</td>\n      <td>0</td>\n      <td>0</td>\n      <td>0</td>\n      <td>0</td>\n      <td>0</td>\n      <td>0</td>\n      <td>11</td>\n    </tr>\n  </tbody>\n</table>\n<p>5 rows × 23 columns</p>\n</div>"
     },
     "execution_count": 41,
     "metadata": {},
     "output_type": "execute_result"
    }
   ],
   "source": [
    "df = pd.read_csv('data-3/customer_data.csv', sep='\\t') # 쉼표가 아닌, tab으로 구분 되어있음\n",
    "\n",
    "# pd.set_option('display.max_columns', None)\n",
    "# 생략되는 칼럼 없이 보여줌 \n",
    "\n",
    "df.head()"
   ]
  },
  {
   "cell_type": "code",
   "execution_count": 42,
   "id": "fb597f6bd8a0fb3f",
   "metadata": {
    "collapsed": false,
    "ExecuteTime": {
     "end_time": "2024-03-13T03:26:43.159098Z",
     "start_time": "2024-03-13T03:26:43.152529Z"
    }
   },
   "outputs": [
    {
     "data": {
      "text/plain": "['ID',\n 'signup_ym',\n 'birth_year',\n 'annual_income',\n 'marital_status',\n 'children',\n 'recency',\n 'amount_alcohol',\n 'amount_fruit',\n 'amount_meat',\n 'amount_fish',\n 'amount_snack',\n 'amount_general',\n 'num_purchase_web',\n 'num_purchase_store',\n 'num_purchase_discount',\n 'promotion_1',\n 'promotion_2',\n 'promotion_3',\n 'promotion_4',\n 'promotion_5',\n 'promotion_6',\n 'revenue']"
     },
     "execution_count": 42,
     "metadata": {},
     "output_type": "execute_result"
    }
   ],
   "source": [
    "df.columns.tolist()"
   ]
  },
  {
   "cell_type": "markdown",
   "id": "6aff3349eb64e07c",
   "metadata": {
    "collapsed": false
   },
   "source": [
    "### 2. 결측치 및 칼럼처리"
   ]
  },
  {
   "cell_type": "code",
   "execution_count": 43,
   "id": "41230b89236f0eae",
   "metadata": {
    "collapsed": false,
    "ExecuteTime": {
     "end_time": "2024-03-13T03:26:43.166500Z",
     "start_time": "2024-03-13T03:26:43.161918Z"
    }
   },
   "outputs": [
    {
     "data": {
      "text/plain": "(2240, 23)"
     },
     "execution_count": 43,
     "metadata": {},
     "output_type": "execute_result"
    }
   ],
   "source": [
    "# 데이터 크기 확인 \n",
    "df.shape"
   ]
  },
  {
   "cell_type": "markdown",
   "id": "59d677178f317e67",
   "metadata": {
    "collapsed": false
   },
   "source": [
    "#### 2.1 결측치 확인"
   ]
  },
  {
   "cell_type": "code",
   "execution_count": 44,
   "id": "25146c29d85818a5",
   "metadata": {
    "collapsed": false,
    "ExecuteTime": {
     "end_time": "2024-03-13T03:26:43.225863Z",
     "start_time": "2024-03-13T03:26:43.204220Z"
    }
   },
   "outputs": [
    {
     "name": "stdout",
     "output_type": "stream",
     "text": [
      "<class 'pandas.core.frame.DataFrame'>\n",
      "RangeIndex: 2240 entries, 0 to 2239\n",
      "Data columns (total 23 columns):\n",
      " #   Column                 Non-Null Count  Dtype  \n",
      "---  ------                 --------------  -----  \n",
      " 0   ID                     2240 non-null   int64  \n",
      " 1   signup_ym              2240 non-null   object \n",
      " 2   birth_year             2240 non-null   int64  \n",
      " 3   annual_income          2216 non-null   float64\n",
      " 4   marital_status         2240 non-null   object \n",
      " 5   children               2240 non-null   int64  \n",
      " 6   recency                2240 non-null   int64  \n",
      " 7   amount_alcohol         2240 non-null   int64  \n",
      " 8   amount_fruit           2240 non-null   int64  \n",
      " 9   amount_meat            2240 non-null   int64  \n",
      " 10  amount_fish            2240 non-null   int64  \n",
      " 11  amount_snack           2240 non-null   int64  \n",
      " 12  amount_general         2240 non-null   int64  \n",
      " 13  num_purchase_web       2240 non-null   int64  \n",
      " 14  num_purchase_store     2240 non-null   int64  \n",
      " 15  num_purchase_discount  2240 non-null   int64  \n",
      " 16  promotion_1            2240 non-null   int64  \n",
      " 17  promotion_2            2240 non-null   int64  \n",
      " 18  promotion_3            2240 non-null   int64  \n",
      " 19  promotion_4            2240 non-null   int64  \n",
      " 20  promotion_5            2240 non-null   int64  \n",
      " 21  promotion_6            2240 non-null   int64  \n",
      " 22  revenue                2240 non-null   int64  \n",
      "dtypes: float64(1), int64(20), object(2)\n",
      "memory usage: 402.6+ KB\n"
     ]
    }
   ],
   "source": [
    "df.info()"
   ]
  },
  {
   "cell_type": "markdown",
   "id": "9bceeebe126d902d",
   "metadata": {
    "collapsed": false
   },
   "source": [
    "- annual income에 결측치가 존재함"
   ]
  },
  {
   "cell_type": "code",
   "execution_count": 45,
   "id": "33bfd40d9c7e7f92",
   "metadata": {
    "collapsed": false,
    "ExecuteTime": {
     "end_time": "2024-03-13T03:26:43.244314Z",
     "start_time": "2024-03-13T03:26:43.236035Z"
    }
   },
   "outputs": [
    {
     "data": {
      "text/plain": "ID                        0\nsignup_ym                 0\nbirth_year                0\nannual_income            24\nmarital_status            0\nchildren                  0\nrecency                   0\namount_alcohol            0\namount_fruit              0\namount_meat               0\namount_fish               0\namount_snack              0\namount_general            0\nnum_purchase_web          0\nnum_purchase_store        0\nnum_purchase_discount     0\npromotion_1               0\npromotion_2               0\npromotion_3               0\npromotion_4               0\npromotion_5               0\npromotion_6               0\nrevenue                   0\ndtype: int64"
     },
     "execution_count": 45,
     "metadata": {},
     "output_type": "execute_result"
    }
   ],
   "source": [
    "df.isnull().sum()"
   ]
  },
  {
   "cell_type": "markdown",
   "id": "e0d3fd18085ed2a2",
   "metadata": {
    "collapsed": false
   },
   "source": [
    "- annual_income에 24개의 null 값 존재. \n",
    "- 분석과정 이전에 처리 필요!"
   ]
  },
  {
   "cell_type": "markdown",
   "id": "c3fe200cdebe009a",
   "metadata": {
    "collapsed": false
   },
   "source": [
    "#### 2.2 annual_income의 결측치 처리\n",
    "- 240개의 데이터중에 24개만 결측치\n",
    "- 결측치 데이터를 삭제하는 것으로 결정 "
   ]
  },
  {
   "cell_type": "code",
   "execution_count": 46,
   "id": "dc3112ea42ba0b78",
   "metadata": {
    "collapsed": false,
    "ExecuteTime": {
     "end_time": "2024-03-13T03:26:43.393183Z",
     "start_time": "2024-03-13T03:26:43.381484Z"
    }
   },
   "outputs": [
    {
     "data": {
      "text/plain": "ID                       0\nsignup_ym                0\nbirth_year               0\nannual_income            0\nmarital_status           0\nchildren                 0\nrecency                  0\namount_alcohol           0\namount_fruit             0\namount_meat              0\namount_fish              0\namount_snack             0\namount_general           0\nnum_purchase_web         0\nnum_purchase_store       0\nnum_purchase_discount    0\npromotion_1              0\npromotion_2              0\npromotion_3              0\npromotion_4              0\npromotion_5              0\npromotion_6              0\nrevenue                  0\ndtype: int64"
     },
     "execution_count": 46,
     "metadata": {},
     "output_type": "execute_result"
    }
   ],
   "source": [
    "df = df.dropna()\n",
    "df.isnull().sum()"
   ]
  },
  {
   "cell_type": "markdown",
   "id": "8ce4bcab9665974",
   "metadata": {
    "collapsed": false
   },
   "source": [
    "- 결측치가 지워졌음을 확인할 수 있음"
   ]
  },
  {
   "cell_type": "markdown",
   "id": "870d2ca5745dc240",
   "metadata": {
    "collapsed": false
   },
   "source": [
    "#### 2.3 object_cols의 unique값 확인하기"
   ]
  },
  {
   "cell_type": "code",
   "execution_count": 47,
   "id": "10a5f7b8ca1b6217",
   "metadata": {
    "collapsed": false,
    "ExecuteTime": {
     "end_time": "2024-03-13T03:26:43.544175Z",
     "start_time": "2024-03-13T03:26:43.534932Z"
    }
   },
   "outputs": [
    {
     "data": {
      "text/plain": "Index(['signup_ym', 'marital_status'], dtype='object')"
     },
     "execution_count": 47,
     "metadata": {},
     "output_type": "execute_result"
    }
   ],
   "source": [
    "object_cols = df.columns[df.dtypes == 'object']\n",
    "object_cols"
   ]
  },
  {
   "cell_type": "code",
   "execution_count": 48,
   "id": "7162d6f23652015a",
   "metadata": {
    "collapsed": false,
    "ExecuteTime": {
     "end_time": "2024-03-13T03:26:43.605275Z",
     "start_time": "2024-03-13T03:26:43.600266Z"
    }
   },
   "outputs": [],
   "source": [
    "def unique_val(df):\n",
    "    object_cols = df.columns[df.dtypes == 'object'] # object인 col 저장 \n",
    "    \n",
    "    for col in object_cols:\n",
    "        print(f'{col}의 unique값 갯수: {df[col].nunique()}개')\n",
    "        print(sorted(df[col].unique()),'\\n')"
   ]
  },
  {
   "cell_type": "code",
   "execution_count": 49,
   "id": "234aaeacbf2a2f6a",
   "metadata": {
    "collapsed": false,
    "ExecuteTime": {
     "end_time": "2024-03-13T03:26:43.708528Z",
     "start_time": "2024-03-13T03:26:43.702366Z"
    }
   },
   "outputs": [
    {
     "name": "stdout",
     "output_type": "stream",
     "text": [
      "signup_ym의 unique값 갯수: 24개\n",
      "['2020-10', '2020-11', '2020-12', '2021-01', '2021-02', '2021-03', '2021-04', '2021-05', '2021-06', '2021-07', '2021-08', '2021-09', '2021-10', '2021-11', '2021-12', '2022-01', '2022-02', '2022-03', '2022-04', '2022-05', '2022-06', '2022-07', '2022-08', '2022-09'] \n",
      "\n",
      "marital_status의 unique값 갯수: 4개\n",
      "['미혼', '배우자 있음', '사별', '이혼'] \n"
     ]
    }
   ],
   "source": [
    "unique_val(df)"
   ]
  },
  {
   "cell_type": "markdown",
   "id": "7527da00edb48f93",
   "metadata": {
    "collapsed": false
   },
   "source": [
    "- 2020년: 10월 ~ 12월 \n",
    "- 2021년: 1월 ~ 12월 \n",
    "- 2022년: 1월 ~ 9월\n",
    "의 데이터 값 존재 "
   ]
  },
  {
   "cell_type": "markdown",
   "id": "4e2252deae69517d",
   "metadata": {
    "collapsed": false
   },
   "source": [
    "#### 2.4 age 칼럼 추가하기"
   ]
  },
  {
   "cell_type": "code",
   "execution_count": 50,
   "id": "76b94f183d22f184",
   "metadata": {
    "collapsed": false,
    "ExecuteTime": {
     "end_time": "2024-03-13T03:26:43.735468Z",
     "start_time": "2024-03-13T03:26:43.726598Z"
    }
   },
   "outputs": [],
   "source": [
    "# datetime라이브러리로 올해의 연도 추출하기 \n",
    "import datetime\n",
    "year = datetime.datetime.today().year\n",
    "\n",
    "df['birth_year'] = year - df['birth_year']\n",
    "df = df.rename(columns={'birth_year':'age'})\n"
   ]
  },
  {
   "cell_type": "code",
   "execution_count": 51,
   "id": "6edf4f158f9ca0ed",
   "metadata": {
    "collapsed": false,
    "ExecuteTime": {
     "end_time": "2024-03-13T03:26:43.786826Z",
     "start_time": "2024-03-13T03:26:43.766622Z"
    }
   },
   "outputs": [
    {
     "data": {
      "text/plain": "     ID signup_ym  age  annual_income marital_status  children  recency  \\\n0  5524   2020-12   59     75579400.0             미혼         0       58   \n1  2174   2022-06   62     60247200.0             미혼         2       38   \n2  4141   2021-11   51     93096900.0         배우자 있음         0       26   \n3  6182   2022-05   32     34639800.0         배우자 있음         1       26   \n4  5324   2022-04   35     75780900.0         배우자 있음         1       94   \n\n   amount_alcohol  amount_fruit  amount_meat  ...  num_purchase_web  \\\n0          825500        114400       709800  ...                 8   \n1           14300          1300         7800  ...                 1   \n2          553800         63700       165100  ...                 8   \n3           14300          5200        26000  ...                 2   \n4          224900         55900       153400  ...                 5   \n\n   num_purchase_store  num_purchase_discount  promotion_1  promotion_2  \\\n0                   4                      3            0            0   \n1                   2                      2            0            0   \n2                  10                      1            0            0   \n3                   4                      2            0            0   \n4                   6                      5            0            0   \n\n   promotion_3  promotion_4  promotion_5  promotion_6  revenue  \n0            0            0            0            1       11  \n1            0            0            0            0       11  \n2            0            0            0            0       11  \n3            0            0            0            0       11  \n4            0            0            0            0       11  \n\n[5 rows x 23 columns]",
      "text/html": "<div>\n<style scoped>\n    .dataframe tbody tr th:only-of-type {\n        vertical-align: middle;\n    }\n\n    .dataframe tbody tr th {\n        vertical-align: top;\n    }\n\n    .dataframe thead th {\n        text-align: right;\n    }\n</style>\n<table border=\"1\" class=\"dataframe\">\n  <thead>\n    <tr style=\"text-align: right;\">\n      <th></th>\n      <th>ID</th>\n      <th>signup_ym</th>\n      <th>age</th>\n      <th>annual_income</th>\n      <th>marital_status</th>\n      <th>children</th>\n      <th>recency</th>\n      <th>amount_alcohol</th>\n      <th>amount_fruit</th>\n      <th>amount_meat</th>\n      <th>...</th>\n      <th>num_purchase_web</th>\n      <th>num_purchase_store</th>\n      <th>num_purchase_discount</th>\n      <th>promotion_1</th>\n      <th>promotion_2</th>\n      <th>promotion_3</th>\n      <th>promotion_4</th>\n      <th>promotion_5</th>\n      <th>promotion_6</th>\n      <th>revenue</th>\n    </tr>\n  </thead>\n  <tbody>\n    <tr>\n      <th>0</th>\n      <td>5524</td>\n      <td>2020-12</td>\n      <td>59</td>\n      <td>75579400.0</td>\n      <td>미혼</td>\n      <td>0</td>\n      <td>58</td>\n      <td>825500</td>\n      <td>114400</td>\n      <td>709800</td>\n      <td>...</td>\n      <td>8</td>\n      <td>4</td>\n      <td>3</td>\n      <td>0</td>\n      <td>0</td>\n      <td>0</td>\n      <td>0</td>\n      <td>0</td>\n      <td>1</td>\n      <td>11</td>\n    </tr>\n    <tr>\n      <th>1</th>\n      <td>2174</td>\n      <td>2022-06</td>\n      <td>62</td>\n      <td>60247200.0</td>\n      <td>미혼</td>\n      <td>2</td>\n      <td>38</td>\n      <td>14300</td>\n      <td>1300</td>\n      <td>7800</td>\n      <td>...</td>\n      <td>1</td>\n      <td>2</td>\n      <td>2</td>\n      <td>0</td>\n      <td>0</td>\n      <td>0</td>\n      <td>0</td>\n      <td>0</td>\n      <td>0</td>\n      <td>11</td>\n    </tr>\n    <tr>\n      <th>2</th>\n      <td>4141</td>\n      <td>2021-11</td>\n      <td>51</td>\n      <td>93096900.0</td>\n      <td>배우자 있음</td>\n      <td>0</td>\n      <td>26</td>\n      <td>553800</td>\n      <td>63700</td>\n      <td>165100</td>\n      <td>...</td>\n      <td>8</td>\n      <td>10</td>\n      <td>1</td>\n      <td>0</td>\n      <td>0</td>\n      <td>0</td>\n      <td>0</td>\n      <td>0</td>\n      <td>0</td>\n      <td>11</td>\n    </tr>\n    <tr>\n      <th>3</th>\n      <td>6182</td>\n      <td>2022-05</td>\n      <td>32</td>\n      <td>34639800.0</td>\n      <td>배우자 있음</td>\n      <td>1</td>\n      <td>26</td>\n      <td>14300</td>\n      <td>5200</td>\n      <td>26000</td>\n      <td>...</td>\n      <td>2</td>\n      <td>4</td>\n      <td>2</td>\n      <td>0</td>\n      <td>0</td>\n      <td>0</td>\n      <td>0</td>\n      <td>0</td>\n      <td>0</td>\n      <td>11</td>\n    </tr>\n    <tr>\n      <th>4</th>\n      <td>5324</td>\n      <td>2022-04</td>\n      <td>35</td>\n      <td>75780900.0</td>\n      <td>배우자 있음</td>\n      <td>1</td>\n      <td>94</td>\n      <td>224900</td>\n      <td>55900</td>\n      <td>153400</td>\n      <td>...</td>\n      <td>5</td>\n      <td>6</td>\n      <td>5</td>\n      <td>0</td>\n      <td>0</td>\n      <td>0</td>\n      <td>0</td>\n      <td>0</td>\n      <td>0</td>\n      <td>11</td>\n    </tr>\n  </tbody>\n</table>\n<p>5 rows × 23 columns</p>\n</div>"
     },
     "execution_count": 51,
     "metadata": {},
     "output_type": "execute_result"
    }
   ],
   "source": [
    "df.head()"
   ]
  },
  {
   "cell_type": "markdown",
   "id": "34c6e1bb4a044144",
   "metadata": {
    "collapsed": false
   },
   "source": [
    "- birth_year 대신에 age 칼럼을 추가함"
   ]
  },
  {
   "cell_type": "markdown",
   "id": "7ff32cd8cb24a354",
   "metadata": {
    "collapsed": false
   },
   "source": [
    "#### 2.5 구매 금액 합계 및 구매 횟수 칼럼 \n"
   ]
  },
  {
   "cell_type": "code",
   "execution_count": 52,
   "id": "9b1273db87ec5476",
   "metadata": {
    "collapsed": false,
    "ExecuteTime": {
     "end_time": "2024-03-13T03:26:43.829449Z",
     "start_time": "2024-03-13T03:26:43.809763Z"
    }
   },
   "outputs": [
    {
     "data": {
      "text/plain": "     ID signup_ym  age  annual_income marital_status  children  recency  \\\n0  5524   2020-12   59     75579400.0             미혼         0       58   \n1  2174   2022-06   62     60247200.0             미혼         2       38   \n2  4141   2021-11   51     93096900.0         배우자 있음         0       26   \n3  6182   2022-05   32     34639800.0         배우자 있음         1       26   \n4  5324   2022-04   35     75780900.0         배우자 있음         1       94   \n\n   amount_alcohol  amount_fruit  amount_meat  ...  num_purchase_web  \\\n0          825500        114400       709800  ...                 8   \n1           14300          1300         7800  ...                 1   \n2          553800         63700       165100  ...                 8   \n3           14300          5200        26000  ...                 2   \n4          224900         55900       153400  ...                 5   \n\n   num_purchase_store  num_purchase_discount  promotion_1  promotion_2  \\\n0                   4                      3            0            0   \n1                   2                      2            0            0   \n2                  10                      1            0            0   \n3                   4                      2            0            0   \n4                   6                      5            0            0   \n\n   promotion_3  promotion_4  promotion_5  promotion_6  revenue  \n0            0            0            0            1       11  \n1            0            0            0            0       11  \n2            0            0            0            0       11  \n3            0            0            0            0       11  \n4            0            0            0            0       11  \n\n[5 rows x 23 columns]",
      "text/html": "<div>\n<style scoped>\n    .dataframe tbody tr th:only-of-type {\n        vertical-align: middle;\n    }\n\n    .dataframe tbody tr th {\n        vertical-align: top;\n    }\n\n    .dataframe thead th {\n        text-align: right;\n    }\n</style>\n<table border=\"1\" class=\"dataframe\">\n  <thead>\n    <tr style=\"text-align: right;\">\n      <th></th>\n      <th>ID</th>\n      <th>signup_ym</th>\n      <th>age</th>\n      <th>annual_income</th>\n      <th>marital_status</th>\n      <th>children</th>\n      <th>recency</th>\n      <th>amount_alcohol</th>\n      <th>amount_fruit</th>\n      <th>amount_meat</th>\n      <th>...</th>\n      <th>num_purchase_web</th>\n      <th>num_purchase_store</th>\n      <th>num_purchase_discount</th>\n      <th>promotion_1</th>\n      <th>promotion_2</th>\n      <th>promotion_3</th>\n      <th>promotion_4</th>\n      <th>promotion_5</th>\n      <th>promotion_6</th>\n      <th>revenue</th>\n    </tr>\n  </thead>\n  <tbody>\n    <tr>\n      <th>0</th>\n      <td>5524</td>\n      <td>2020-12</td>\n      <td>59</td>\n      <td>75579400.0</td>\n      <td>미혼</td>\n      <td>0</td>\n      <td>58</td>\n      <td>825500</td>\n      <td>114400</td>\n      <td>709800</td>\n      <td>...</td>\n      <td>8</td>\n      <td>4</td>\n      <td>3</td>\n      <td>0</td>\n      <td>0</td>\n      <td>0</td>\n      <td>0</td>\n      <td>0</td>\n      <td>1</td>\n      <td>11</td>\n    </tr>\n    <tr>\n      <th>1</th>\n      <td>2174</td>\n      <td>2022-06</td>\n      <td>62</td>\n      <td>60247200.0</td>\n      <td>미혼</td>\n      <td>2</td>\n      <td>38</td>\n      <td>14300</td>\n      <td>1300</td>\n      <td>7800</td>\n      <td>...</td>\n      <td>1</td>\n      <td>2</td>\n      <td>2</td>\n      <td>0</td>\n      <td>0</td>\n      <td>0</td>\n      <td>0</td>\n      <td>0</td>\n      <td>0</td>\n      <td>11</td>\n    </tr>\n    <tr>\n      <th>2</th>\n      <td>4141</td>\n      <td>2021-11</td>\n      <td>51</td>\n      <td>93096900.0</td>\n      <td>배우자 있음</td>\n      <td>0</td>\n      <td>26</td>\n      <td>553800</td>\n      <td>63700</td>\n      <td>165100</td>\n      <td>...</td>\n      <td>8</td>\n      <td>10</td>\n      <td>1</td>\n      <td>0</td>\n      <td>0</td>\n      <td>0</td>\n      <td>0</td>\n      <td>0</td>\n      <td>0</td>\n      <td>11</td>\n    </tr>\n    <tr>\n      <th>3</th>\n      <td>6182</td>\n      <td>2022-05</td>\n      <td>32</td>\n      <td>34639800.0</td>\n      <td>배우자 있음</td>\n      <td>1</td>\n      <td>26</td>\n      <td>14300</td>\n      <td>5200</td>\n      <td>26000</td>\n      <td>...</td>\n      <td>2</td>\n      <td>4</td>\n      <td>2</td>\n      <td>0</td>\n      <td>0</td>\n      <td>0</td>\n      <td>0</td>\n      <td>0</td>\n      <td>0</td>\n      <td>11</td>\n    </tr>\n    <tr>\n      <th>4</th>\n      <td>5324</td>\n      <td>2022-04</td>\n      <td>35</td>\n      <td>75780900.0</td>\n      <td>배우자 있음</td>\n      <td>1</td>\n      <td>94</td>\n      <td>224900</td>\n      <td>55900</td>\n      <td>153400</td>\n      <td>...</td>\n      <td>5</td>\n      <td>6</td>\n      <td>5</td>\n      <td>0</td>\n      <td>0</td>\n      <td>0</td>\n      <td>0</td>\n      <td>0</td>\n      <td>0</td>\n      <td>11</td>\n    </tr>\n  </tbody>\n</table>\n<p>5 rows × 23 columns</p>\n</div>"
     },
     "execution_count": 52,
     "metadata": {},
     "output_type": "execute_result"
    }
   ],
   "source": [
    "data_amount_total = (df['amount_alcohol'] +\n",
    "                      df['amount_fruit'] +\n",
    "                      df['amount_meat']+\n",
    "                      df['amount_fish']+\n",
    "                      df['amount_snack'] +\n",
    "                      df['amount_general'])\n",
    "df.head()"
   ]
  },
  {
   "cell_type": "markdown",
   "id": "44d2648e694f6847",
   "metadata": {
    "collapsed": false
   },
   "source": [
    "amount_total 칼럼의 위치 옮기기"
   ]
  },
  {
   "cell_type": "code",
   "execution_count": 53,
   "id": "f4074b0a2ec7cb5d",
   "metadata": {
    "collapsed": false,
    "ExecuteTime": {
     "end_time": "2024-03-13T03:26:43.873963Z",
     "start_time": "2024-03-13T03:26:43.853173Z"
    }
   },
   "outputs": [
    {
     "data": {
      "text/plain": "     ID signup_ym  age  annual_income marital_status  children  recency  \\\n0  5524   2020-12   59     75579400.0             미혼         0       58   \n1  2174   2022-06   62     60247200.0             미혼         2       38   \n2  4141   2021-11   51     93096900.0         배우자 있음         0       26   \n3  6182   2022-05   32     34639800.0         배우자 있음         1       26   \n4  5324   2022-04   35     75780900.0         배우자 있음         1       94   \n\n   amount_alcohol  amount_fruit  amount_meat  ...  num_purchase_web  \\\n0          825500        114400       709800  ...                 8   \n1           14300          1300         7800  ...                 1   \n2          553800         63700       165100  ...                 8   \n3           14300          5200        26000  ...                 2   \n4          224900         55900       153400  ...                 5   \n\n   num_purchase_store  num_purchase_discount  promotion_1  promotion_2  \\\n0                   4                      3            0            0   \n1                   2                      2            0            0   \n2                  10                      1            0            0   \n3                   4                      2            0            0   \n4                   6                      5            0            0   \n\n   promotion_3  promotion_4  promotion_5  promotion_6  revenue  \n0            0            0            0            1       11  \n1            0            0            0            0       11  \n2            0            0            0            0       11  \n3            0            0            0            0       11  \n4            0            0            0            0       11  \n\n[5 rows x 24 columns]",
      "text/html": "<div>\n<style scoped>\n    .dataframe tbody tr th:only-of-type {\n        vertical-align: middle;\n    }\n\n    .dataframe tbody tr th {\n        vertical-align: top;\n    }\n\n    .dataframe thead th {\n        text-align: right;\n    }\n</style>\n<table border=\"1\" class=\"dataframe\">\n  <thead>\n    <tr style=\"text-align: right;\">\n      <th></th>\n      <th>ID</th>\n      <th>signup_ym</th>\n      <th>age</th>\n      <th>annual_income</th>\n      <th>marital_status</th>\n      <th>children</th>\n      <th>recency</th>\n      <th>amount_alcohol</th>\n      <th>amount_fruit</th>\n      <th>amount_meat</th>\n      <th>...</th>\n      <th>num_purchase_web</th>\n      <th>num_purchase_store</th>\n      <th>num_purchase_discount</th>\n      <th>promotion_1</th>\n      <th>promotion_2</th>\n      <th>promotion_3</th>\n      <th>promotion_4</th>\n      <th>promotion_5</th>\n      <th>promotion_6</th>\n      <th>revenue</th>\n    </tr>\n  </thead>\n  <tbody>\n    <tr>\n      <th>0</th>\n      <td>5524</td>\n      <td>2020-12</td>\n      <td>59</td>\n      <td>75579400.0</td>\n      <td>미혼</td>\n      <td>0</td>\n      <td>58</td>\n      <td>825500</td>\n      <td>114400</td>\n      <td>709800</td>\n      <td>...</td>\n      <td>8</td>\n      <td>4</td>\n      <td>3</td>\n      <td>0</td>\n      <td>0</td>\n      <td>0</td>\n      <td>0</td>\n      <td>0</td>\n      <td>1</td>\n      <td>11</td>\n    </tr>\n    <tr>\n      <th>1</th>\n      <td>2174</td>\n      <td>2022-06</td>\n      <td>62</td>\n      <td>60247200.0</td>\n      <td>미혼</td>\n      <td>2</td>\n      <td>38</td>\n      <td>14300</td>\n      <td>1300</td>\n      <td>7800</td>\n      <td>...</td>\n      <td>1</td>\n      <td>2</td>\n      <td>2</td>\n      <td>0</td>\n      <td>0</td>\n      <td>0</td>\n      <td>0</td>\n      <td>0</td>\n      <td>0</td>\n      <td>11</td>\n    </tr>\n    <tr>\n      <th>2</th>\n      <td>4141</td>\n      <td>2021-11</td>\n      <td>51</td>\n      <td>93096900.0</td>\n      <td>배우자 있음</td>\n      <td>0</td>\n      <td>26</td>\n      <td>553800</td>\n      <td>63700</td>\n      <td>165100</td>\n      <td>...</td>\n      <td>8</td>\n      <td>10</td>\n      <td>1</td>\n      <td>0</td>\n      <td>0</td>\n      <td>0</td>\n      <td>0</td>\n      <td>0</td>\n      <td>0</td>\n      <td>11</td>\n    </tr>\n    <tr>\n      <th>3</th>\n      <td>6182</td>\n      <td>2022-05</td>\n      <td>32</td>\n      <td>34639800.0</td>\n      <td>배우자 있음</td>\n      <td>1</td>\n      <td>26</td>\n      <td>14300</td>\n      <td>5200</td>\n      <td>26000</td>\n      <td>...</td>\n      <td>2</td>\n      <td>4</td>\n      <td>2</td>\n      <td>0</td>\n      <td>0</td>\n      <td>0</td>\n      <td>0</td>\n      <td>0</td>\n      <td>0</td>\n      <td>11</td>\n    </tr>\n    <tr>\n      <th>4</th>\n      <td>5324</td>\n      <td>2022-04</td>\n      <td>35</td>\n      <td>75780900.0</td>\n      <td>배우자 있음</td>\n      <td>1</td>\n      <td>94</td>\n      <td>224900</td>\n      <td>55900</td>\n      <td>153400</td>\n      <td>...</td>\n      <td>5</td>\n      <td>6</td>\n      <td>5</td>\n      <td>0</td>\n      <td>0</td>\n      <td>0</td>\n      <td>0</td>\n      <td>0</td>\n      <td>0</td>\n      <td>11</td>\n    </tr>\n  </tbody>\n</table>\n<p>5 rows × 24 columns</p>\n</div>"
     },
     "execution_count": 53,
     "metadata": {},
     "output_type": "execute_result"
    }
   ],
   "source": [
    "df.insert((df.columns.get_loc('amount_general')+1),'amount_total', data_amount_total )\n",
    "# insert 함수 활용 \n",
    "df.head()"
   ]
  },
  {
   "cell_type": "markdown",
   "id": "c7891a403250bc03",
   "metadata": {
    "collapsed": false
   },
   "source": [
    "- amount_general옆에 amount_total 칼럼이 추가된 것을 확인할 수 있음"
   ]
  },
  {
   "cell_type": "code",
   "execution_count": 54,
   "id": "bf97e704e4803a66",
   "metadata": {
    "collapsed": false,
    "ExecuteTime": {
     "end_time": "2024-03-13T03:26:43.914376Z",
     "start_time": "2024-03-13T03:26:43.908555Z"
    }
   },
   "outputs": [],
   "source": [
    "# purchase total 칼럼 만들기 \n",
    "data_purchase_total = (df['num_purchase_discount']+\n",
    "                       df['num_purchase_store']+\n",
    "                       df['num_purchase_discount'])"
   ]
  },
  {
   "cell_type": "code",
   "execution_count": 55,
   "id": "101b2e82a0c5a387",
   "metadata": {
    "collapsed": false,
    "ExecuteTime": {
     "end_time": "2024-03-13T03:26:44.036169Z",
     "start_time": "2024-03-13T03:26:44.017027Z"
    }
   },
   "outputs": [
    {
     "data": {
      "text/plain": "     ID signup_ym  age  annual_income marital_status  children  recency  \\\n0  5524   2020-12   59     75579400.0             미혼         0       58   \n1  2174   2022-06   62     60247200.0             미혼         2       38   \n2  4141   2021-11   51     93096900.0         배우자 있음         0       26   \n3  6182   2022-05   32     34639800.0         배우자 있음         1       26   \n4  5324   2022-04   35     75780900.0         배우자 있음         1       94   \n\n   amount_alcohol  amount_fruit  amount_meat  ...  num_purchase_store  \\\n0          825500        114400       709800  ...                   4   \n1           14300          1300         7800  ...                   2   \n2          553800         63700       165100  ...                  10   \n3           14300          5200        26000  ...                   4   \n4          224900         55900       153400  ...                   6   \n\n   num_purchase_discount  num_purchase_total  promotion_1  promotion_2  \\\n0                      3                  10            0            0   \n1                      2                   6            0            0   \n2                      1                  12            0            0   \n3                      2                   8            0            0   \n4                      5                  16            0            0   \n\n   promotion_3  promotion_4  promotion_5  promotion_6  revenue  \n0            0            0            0            1       11  \n1            0            0            0            0       11  \n2            0            0            0            0       11  \n3            0            0            0            0       11  \n4            0            0            0            0       11  \n\n[5 rows x 25 columns]",
      "text/html": "<div>\n<style scoped>\n    .dataframe tbody tr th:only-of-type {\n        vertical-align: middle;\n    }\n\n    .dataframe tbody tr th {\n        vertical-align: top;\n    }\n\n    .dataframe thead th {\n        text-align: right;\n    }\n</style>\n<table border=\"1\" class=\"dataframe\">\n  <thead>\n    <tr style=\"text-align: right;\">\n      <th></th>\n      <th>ID</th>\n      <th>signup_ym</th>\n      <th>age</th>\n      <th>annual_income</th>\n      <th>marital_status</th>\n      <th>children</th>\n      <th>recency</th>\n      <th>amount_alcohol</th>\n      <th>amount_fruit</th>\n      <th>amount_meat</th>\n      <th>...</th>\n      <th>num_purchase_store</th>\n      <th>num_purchase_discount</th>\n      <th>num_purchase_total</th>\n      <th>promotion_1</th>\n      <th>promotion_2</th>\n      <th>promotion_3</th>\n      <th>promotion_4</th>\n      <th>promotion_5</th>\n      <th>promotion_6</th>\n      <th>revenue</th>\n    </tr>\n  </thead>\n  <tbody>\n    <tr>\n      <th>0</th>\n      <td>5524</td>\n      <td>2020-12</td>\n      <td>59</td>\n      <td>75579400.0</td>\n      <td>미혼</td>\n      <td>0</td>\n      <td>58</td>\n      <td>825500</td>\n      <td>114400</td>\n      <td>709800</td>\n      <td>...</td>\n      <td>4</td>\n      <td>3</td>\n      <td>10</td>\n      <td>0</td>\n      <td>0</td>\n      <td>0</td>\n      <td>0</td>\n      <td>0</td>\n      <td>1</td>\n      <td>11</td>\n    </tr>\n    <tr>\n      <th>1</th>\n      <td>2174</td>\n      <td>2022-06</td>\n      <td>62</td>\n      <td>60247200.0</td>\n      <td>미혼</td>\n      <td>2</td>\n      <td>38</td>\n      <td>14300</td>\n      <td>1300</td>\n      <td>7800</td>\n      <td>...</td>\n      <td>2</td>\n      <td>2</td>\n      <td>6</td>\n      <td>0</td>\n      <td>0</td>\n      <td>0</td>\n      <td>0</td>\n      <td>0</td>\n      <td>0</td>\n      <td>11</td>\n    </tr>\n    <tr>\n      <th>2</th>\n      <td>4141</td>\n      <td>2021-11</td>\n      <td>51</td>\n      <td>93096900.0</td>\n      <td>배우자 있음</td>\n      <td>0</td>\n      <td>26</td>\n      <td>553800</td>\n      <td>63700</td>\n      <td>165100</td>\n      <td>...</td>\n      <td>10</td>\n      <td>1</td>\n      <td>12</td>\n      <td>0</td>\n      <td>0</td>\n      <td>0</td>\n      <td>0</td>\n      <td>0</td>\n      <td>0</td>\n      <td>11</td>\n    </tr>\n    <tr>\n      <th>3</th>\n      <td>6182</td>\n      <td>2022-05</td>\n      <td>32</td>\n      <td>34639800.0</td>\n      <td>배우자 있음</td>\n      <td>1</td>\n      <td>26</td>\n      <td>14300</td>\n      <td>5200</td>\n      <td>26000</td>\n      <td>...</td>\n      <td>4</td>\n      <td>2</td>\n      <td>8</td>\n      <td>0</td>\n      <td>0</td>\n      <td>0</td>\n      <td>0</td>\n      <td>0</td>\n      <td>0</td>\n      <td>11</td>\n    </tr>\n    <tr>\n      <th>4</th>\n      <td>5324</td>\n      <td>2022-04</td>\n      <td>35</td>\n      <td>75780900.0</td>\n      <td>배우자 있음</td>\n      <td>1</td>\n      <td>94</td>\n      <td>224900</td>\n      <td>55900</td>\n      <td>153400</td>\n      <td>...</td>\n      <td>6</td>\n      <td>5</td>\n      <td>16</td>\n      <td>0</td>\n      <td>0</td>\n      <td>0</td>\n      <td>0</td>\n      <td>0</td>\n      <td>0</td>\n      <td>11</td>\n    </tr>\n  </tbody>\n</table>\n<p>5 rows × 25 columns</p>\n</div>"
     },
     "execution_count": 55,
     "metadata": {},
     "output_type": "execute_result"
    }
   ],
   "source": [
    "df.insert((df.columns.get_loc('num_purchase_discount')+1), 'num_purchase_total', data_purchase_total)\n",
    "df.head()"
   ]
  },
  {
   "cell_type": "markdown",
   "id": "b915753b6fc5a5fd",
   "metadata": {
    "collapsed": false
   },
   "source": [
    "- num_purchase_total 칼럼 추가 "
   ]
  },
  {
   "cell_type": "markdown",
   "id": "b281626beb920b23",
   "metadata": {
    "collapsed": false
   },
   "source": [
    "#### 2.6 불필요한 칼럼 제거하기\n",
    "- revene 칼럼은 모든 데이터 행에 동일한 값 -> 의미 없음 -> 삭제\n",
    "- ID, 수치화 시각화하는데 큰 의미 차지x, index와 동일한 역할 -> 삭제 "
   ]
  },
  {
   "cell_type": "code",
   "execution_count": 56,
   "id": "dac0d746a626ed03",
   "metadata": {
    "collapsed": false,
    "ExecuteTime": {
     "end_time": "2024-03-13T03:26:44.157776Z",
     "start_time": "2024-03-13T03:26:44.140611Z"
    }
   },
   "outputs": [
    {
     "data": {
      "text/plain": "  signup_ym  age  annual_income marital_status  children  recency  \\\n0   2020-12   59     75579400.0             미혼         0       58   \n1   2022-06   62     60247200.0             미혼         2       38   \n2   2021-11   51     93096900.0         배우자 있음         0       26   \n3   2022-05   32     34639800.0         배우자 있음         1       26   \n4   2022-04   35     75780900.0         배우자 있음         1       94   \n\n   amount_alcohol  amount_fruit  amount_meat  amount_fish  ...  \\\n0          825500        114400       709800       223600  ...   \n1           14300          1300         7800         2600  ...   \n2          553800         63700       165100       144300  ...   \n3           14300          5200        26000        13000  ...   \n4          224900         55900       153400        59800  ...   \n\n   num_purchase_web  num_purchase_store  num_purchase_discount  \\\n0                 8                   4                      3   \n1                 1                   2                      2   \n2                 8                  10                      1   \n3                 2                   4                      2   \n4                 5                   6                      5   \n\n   num_purchase_total  promotion_1  promotion_2  promotion_3  promotion_4  \\\n0                  10            0            0            0            0   \n1                   6            0            0            0            0   \n2                  12            0            0            0            0   \n3                   8            0            0            0            0   \n4                  16            0            0            0            0   \n\n   promotion_5  promotion_6  \n0            0            1  \n1            0            0  \n2            0            0  \n3            0            0  \n4            0            0  \n\n[5 rows x 23 columns]",
      "text/html": "<div>\n<style scoped>\n    .dataframe tbody tr th:only-of-type {\n        vertical-align: middle;\n    }\n\n    .dataframe tbody tr th {\n        vertical-align: top;\n    }\n\n    .dataframe thead th {\n        text-align: right;\n    }\n</style>\n<table border=\"1\" class=\"dataframe\">\n  <thead>\n    <tr style=\"text-align: right;\">\n      <th></th>\n      <th>signup_ym</th>\n      <th>age</th>\n      <th>annual_income</th>\n      <th>marital_status</th>\n      <th>children</th>\n      <th>recency</th>\n      <th>amount_alcohol</th>\n      <th>amount_fruit</th>\n      <th>amount_meat</th>\n      <th>amount_fish</th>\n      <th>...</th>\n      <th>num_purchase_web</th>\n      <th>num_purchase_store</th>\n      <th>num_purchase_discount</th>\n      <th>num_purchase_total</th>\n      <th>promotion_1</th>\n      <th>promotion_2</th>\n      <th>promotion_3</th>\n      <th>promotion_4</th>\n      <th>promotion_5</th>\n      <th>promotion_6</th>\n    </tr>\n  </thead>\n  <tbody>\n    <tr>\n      <th>0</th>\n      <td>2020-12</td>\n      <td>59</td>\n      <td>75579400.0</td>\n      <td>미혼</td>\n      <td>0</td>\n      <td>58</td>\n      <td>825500</td>\n      <td>114400</td>\n      <td>709800</td>\n      <td>223600</td>\n      <td>...</td>\n      <td>8</td>\n      <td>4</td>\n      <td>3</td>\n      <td>10</td>\n      <td>0</td>\n      <td>0</td>\n      <td>0</td>\n      <td>0</td>\n      <td>0</td>\n      <td>1</td>\n    </tr>\n    <tr>\n      <th>1</th>\n      <td>2022-06</td>\n      <td>62</td>\n      <td>60247200.0</td>\n      <td>미혼</td>\n      <td>2</td>\n      <td>38</td>\n      <td>14300</td>\n      <td>1300</td>\n      <td>7800</td>\n      <td>2600</td>\n      <td>...</td>\n      <td>1</td>\n      <td>2</td>\n      <td>2</td>\n      <td>6</td>\n      <td>0</td>\n      <td>0</td>\n      <td>0</td>\n      <td>0</td>\n      <td>0</td>\n      <td>0</td>\n    </tr>\n    <tr>\n      <th>2</th>\n      <td>2021-11</td>\n      <td>51</td>\n      <td>93096900.0</td>\n      <td>배우자 있음</td>\n      <td>0</td>\n      <td>26</td>\n      <td>553800</td>\n      <td>63700</td>\n      <td>165100</td>\n      <td>144300</td>\n      <td>...</td>\n      <td>8</td>\n      <td>10</td>\n      <td>1</td>\n      <td>12</td>\n      <td>0</td>\n      <td>0</td>\n      <td>0</td>\n      <td>0</td>\n      <td>0</td>\n      <td>0</td>\n    </tr>\n    <tr>\n      <th>3</th>\n      <td>2022-05</td>\n      <td>32</td>\n      <td>34639800.0</td>\n      <td>배우자 있음</td>\n      <td>1</td>\n      <td>26</td>\n      <td>14300</td>\n      <td>5200</td>\n      <td>26000</td>\n      <td>13000</td>\n      <td>...</td>\n      <td>2</td>\n      <td>4</td>\n      <td>2</td>\n      <td>8</td>\n      <td>0</td>\n      <td>0</td>\n      <td>0</td>\n      <td>0</td>\n      <td>0</td>\n      <td>0</td>\n    </tr>\n    <tr>\n      <th>4</th>\n      <td>2022-04</td>\n      <td>35</td>\n      <td>75780900.0</td>\n      <td>배우자 있음</td>\n      <td>1</td>\n      <td>94</td>\n      <td>224900</td>\n      <td>55900</td>\n      <td>153400</td>\n      <td>59800</td>\n      <td>...</td>\n      <td>5</td>\n      <td>6</td>\n      <td>5</td>\n      <td>16</td>\n      <td>0</td>\n      <td>0</td>\n      <td>0</td>\n      <td>0</td>\n      <td>0</td>\n      <td>0</td>\n    </tr>\n  </tbody>\n</table>\n<p>5 rows × 23 columns</p>\n</div>"
     },
     "execution_count": 56,
     "metadata": {},
     "output_type": "execute_result"
    }
   ],
   "source": [
    "df = df.drop(columns = ['ID', 'revenue'])\n",
    "df.head()"
   ]
  },
  {
   "cell_type": "markdown",
   "id": "83c0bf0ed89382a2",
   "metadata": {
    "collapsed": false
   },
   "source": [
    "### 3. 데이터 분석"
   ]
  },
  {
   "cell_type": "markdown",
   "id": "8b1ee1053dbef7c8",
   "metadata": {
    "collapsed": false
   },
   "source": [
    "#### 3.1 인구통계학적 고객 정보 분석 \n",
    "- 나이 분포 파악하기\n",
    "- 연 소득 분포 파악하기 "
   ]
  },
  {
   "cell_type": "markdown",
   "id": "f7aa5d4bcb640925",
   "metadata": {
    "collapsed": false
   },
   "source": [
    "##### 3.1.1 나이분포 파악하기"
   ]
  },
  {
   "cell_type": "code",
   "execution_count": 57,
   "id": "9aa1191424347cdf",
   "metadata": {
    "collapsed": false,
    "ExecuteTime": {
     "end_time": "2024-03-13T03:26:44.556258Z",
     "start_time": "2024-03-13T03:26:44.220719Z"
    }
   },
   "outputs": [
    {
     "data": {
      "text/plain": "<Figure size 800x500 with 1 Axes>",
      "image/png": "[encoded data removed]"
     },
     "metadata": {},
     "output_type": "display_data"
    }
   ],
   "source": [
    "df = df[df['age'] < 100]\n",
    "plt.figure(figsize = (8,5))\n",
    "sns.histplot(data=df['age'], color='skyblue', edgecolor= 'white')\n",
    "plt.xlabel('나이(세)')\n",
    "plt.ylabel('고객 수 (명)')\n",
    "plt.show()"
   ]
  },
  {
   "cell_type": "markdown",
   "id": "3492e618",
   "metadata": {},
   "source": [
    "- 100세 이하의 데이터만 처리 \n",
    "- 40대가 가장 많은 분포를 차지함 \n",
    "- 20대, 70대로 갈수록 고객 수가 적어짐 "
   ]
  },
  {
   "cell_type": "markdown",
   "source": [
    "지금의 age 컬럼은 고객의 나이가 담긴 정수형 데이터인데요. 19세부터 75세까지 워낙 다양하게 분포되어 있어 개별 나이를 기준으로 고객을 분석하기는 어렵습니다. 나이를 10년 단위로 묶어 연령대 데이터로 바꿔 주면 각 연령대마다 경향이나 특성을 파악하고 분석하기 쉬워질 거예요. 이렇게 연속적인 데이터를 특정 구간으로 나누어 범주형 데이터로 바꾸는 과정을 데이터 구간화(Binning)라고 합니다. 데이터를 구간화할 때 자주 사용되는 함수로는 cut()이 있어요. cut() 함수를 이용하면 사용자가 지정한 구간대로 데이터를 나눌 수 있죠.\n",
    "현재 데이터에는 고객 나이가 19세부터 75세까지 분포되어 있으니 연령대는 10대부터 70대까지 존재할 겁니다. 이때 10대는 10세 이상 20세 미만, 20대는 20세 이상 30세 미만, 그리고 70대는 70세 이상 80세 미만을 뜻하고요. 이렇게 나눈 구간을 리스트로 표현하여 age_bins라는 변수에 먼저 넣어 주겠습니다."
   ],
   "metadata": {
    "collapsed": false
   },
   "id": "6b7160b20047670"
  },
  {
   "cell_type": "code",
   "outputs": [
    {
     "data": {
      "text/plain": "[10, 20, 30, 40, 50, 60, 70, 80]"
     },
     "execution_count": 58,
     "metadata": {},
     "output_type": "execute_result"
    }
   ],
   "source": [
    "age_bins = list(range(10, 81, 10))\n",
    "age_bins "
   ],
   "metadata": {
    "collapsed": false,
    "ExecuteTime": {
     "end_time": "2024-03-13T03:26:44.571477Z",
     "start_time": "2024-03-13T03:26:44.560880Z"
    }
   },
   "id": "c07719a60814ad2c",
   "execution_count": 58
  },
  {
   "cell_type": "code",
   "outputs": [
    {
     "data": {
      "text/plain": "['10대', '20대', '30대', '40대', '50대', '60대', '70대']"
     },
     "execution_count": 59,
     "metadata": {},
     "output_type": "execute_result"
    }
   ],
   "source": [
    "# age_labels 만들기 \n",
    "age_labels = [f'{x}대' for x in age_bins[:-1]]\n",
    "age_labels"
   ],
   "metadata": {
    "collapsed": false,
    "ExecuteTime": {
     "end_time": "2024-03-13T03:26:44.611082Z",
     "start_time": "2024-03-13T03:26:44.601867Z"
    }
   },
   "id": "a87f8a3fabed763e",
   "execution_count": 59
  },
  {
   "cell_type": "code",
   "outputs": [],
   "source": [
    "#ge_group = pd.cut(x=customer_df['age'], bins=age_bins, labels=age_labels, right=False)\n",
    "age_group = pd.cut(x = df['age'], bins = age_bins, labels = age_labels, right=False)"
   ],
   "metadata": {
    "collapsed": false,
    "ExecuteTime": {
     "end_time": "2024-03-13T03:26:44.917758Z",
     "start_time": "2024-03-13T03:26:44.904315Z"
    }
   },
   "id": "c8d19ee97f87ad38",
   "execution_count": 60
  },
  {
   "cell_type": "code",
   "outputs": [],
   "source": [
    "# 칼럼에 추가하기 \n",
    "df.insert((df.columns.get_loc('age')+1), 'age_group', age_group)"
   ],
   "metadata": {
    "collapsed": false,
    "ExecuteTime": {
     "end_time": "2024-03-13T03:26:45.108582Z",
     "start_time": "2024-03-13T03:26:45.101758Z"
    }
   },
   "id": "61fd19555547d2ba",
   "execution_count": 61
  },
  {
   "cell_type": "code",
   "outputs": [
    {
     "data": {
      "text/plain": "  signup_ym  age age_group  annual_income marital_status  children  recency  \\\n0   2020-12   59       50대     75579400.0             미혼         0       58   \n1   2022-06   62       60대     60247200.0             미혼         2       38   \n2   2021-11   51       50대     93096900.0         배우자 있음         0       26   \n3   2022-05   32       30대     34639800.0         배우자 있음         1       26   \n4   2022-04   35       30대     75780900.0         배우자 있음         1       94   \n\n   amount_alcohol  amount_fruit  amount_meat  ...  num_purchase_web  \\\n0          825500        114400       709800  ...                 8   \n1           14300          1300         7800  ...                 1   \n2          553800         63700       165100  ...                 8   \n3           14300          5200        26000  ...                 2   \n4          224900         55900       153400  ...                 5   \n\n   num_purchase_store  num_purchase_discount  num_purchase_total  promotion_1  \\\n0                   4                      3                  10            0   \n1                   2                      2                   6            0   \n2                  10                      1                  12            0   \n3                   4                      2                   8            0   \n4                   6                      5                  16            0   \n\n   promotion_2  promotion_3  promotion_4  promotion_5  promotion_6  \n0            0            0            0            0            1  \n1            0            0            0            0            0  \n2            0            0            0            0            0  \n3            0            0            0            0            0  \n4            0            0            0            0            0  \n\n[5 rows x 24 columns]",
      "text/html": "<div>\n<style scoped>\n    .dataframe tbody tr th:only-of-type {\n        vertical-align: middle;\n    }\n\n    .dataframe tbody tr th {\n        vertical-align: top;\n    }\n\n    .dataframe thead th {\n        text-align: right;\n    }\n</style>\n<table border=\"1\" class=\"dataframe\">\n  <thead>\n    <tr style=\"text-align: right;\">\n      <th></th>\n      <th>signup_ym</th>\n      <th>age</th>\n      <th>age_group</th>\n      <th>annual_income</th>\n      <th>marital_status</th>\n      <th>children</th>\n      <th>recency</th>\n      <th>amount_alcohol</th>\n      <th>amount_fruit</th>\n      <th>amount_meat</th>\n      <th>...</th>\n      <th>num_purchase_web</th>\n      <th>num_purchase_store</th>\n      <th>num_purchase_discount</th>\n      <th>num_purchase_total</th>\n      <th>promotion_1</th>\n      <th>promotion_2</th>\n      <th>promotion_3</th>\n      <th>promotion_4</th>\n      <th>promotion_5</th>\n      <th>promotion_6</th>\n    </tr>\n  </thead>\n  <tbody>\n    <tr>\n      <th>0</th>\n      <td>2020-12</td>\n      <td>59</td>\n      <td>50대</td>\n      <td>75579400.0</td>\n      <td>미혼</td>\n      <td>0</td>\n      <td>58</td>\n      <td>825500</td>\n      <td>114400</td>\n      <td>709800</td>\n      <td>...</td>\n      <td>8</td>\n      <td>4</td>\n      <td>3</td>\n      <td>10</td>\n      <td>0</td>\n      <td>0</td>\n      <td>0</td>\n      <td>0</td>\n      <td>0</td>\n      <td>1</td>\n    </tr>\n    <tr>\n      <th>1</th>\n      <td>2022-06</td>\n      <td>62</td>\n      <td>60대</td>\n      <td>60247200.0</td>\n      <td>미혼</td>\n      <td>2</td>\n      <td>38</td>\n      <td>14300</td>\n      <td>1300</td>\n      <td>7800</td>\n      <td>...</td>\n      <td>1</td>\n      <td>2</td>\n      <td>2</td>\n      <td>6</td>\n      <td>0</td>\n      <td>0</td>\n      <td>0</td>\n      <td>0</td>\n      <td>0</td>\n      <td>0</td>\n    </tr>\n    <tr>\n      <th>2</th>\n      <td>2021-11</td>\n      <td>51</td>\n      <td>50대</td>\n      <td>93096900.0</td>\n      <td>배우자 있음</td>\n      <td>0</td>\n      <td>26</td>\n      <td>553800</td>\n      <td>63700</td>\n      <td>165100</td>\n      <td>...</td>\n      <td>8</td>\n      <td>10</td>\n      <td>1</td>\n      <td>12</td>\n      <td>0</td>\n      <td>0</td>\n      <td>0</td>\n      <td>0</td>\n      <td>0</td>\n      <td>0</td>\n    </tr>\n    <tr>\n      <th>3</th>\n      <td>2022-05</td>\n      <td>32</td>\n      <td>30대</td>\n      <td>34639800.0</td>\n      <td>배우자 있음</td>\n      <td>1</td>\n      <td>26</td>\n      <td>14300</td>\n      <td>5200</td>\n      <td>26000</td>\n      <td>...</td>\n      <td>2</td>\n      <td>4</td>\n      <td>2</td>\n      <td>8</td>\n      <td>0</td>\n      <td>0</td>\n      <td>0</td>\n      <td>0</td>\n      <td>0</td>\n      <td>0</td>\n    </tr>\n    <tr>\n      <th>4</th>\n      <td>2022-04</td>\n      <td>35</td>\n      <td>30대</td>\n      <td>75780900.0</td>\n      <td>배우자 있음</td>\n      <td>1</td>\n      <td>94</td>\n      <td>224900</td>\n      <td>55900</td>\n      <td>153400</td>\n      <td>...</td>\n      <td>5</td>\n      <td>6</td>\n      <td>5</td>\n      <td>16</td>\n      <td>0</td>\n      <td>0</td>\n      <td>0</td>\n      <td>0</td>\n      <td>0</td>\n      <td>0</td>\n    </tr>\n  </tbody>\n</table>\n<p>5 rows × 24 columns</p>\n</div>"
     },
     "execution_count": 62,
     "metadata": {},
     "output_type": "execute_result"
    }
   ],
   "source": [
    "df.head()"
   ],
   "metadata": {
    "collapsed": false,
    "ExecuteTime": {
     "end_time": "2024-03-13T03:26:45.160601Z",
     "start_time": "2024-03-13T03:26:45.136207Z"
    }
   },
   "id": "b4d2509643862638",
   "execution_count": 62
  },
  {
   "cell_type": "code",
   "outputs": [
    {
     "data": {
      "text/plain": "age_group\n40대    717\n50대    480\n30대    454\n60대    377\n20대    146\n70대     39\n10대      0\ndtype: int64"
     },
     "execution_count": 63,
     "metadata": {},
     "output_type": "execute_result"
    }
   ],
   "source": [
    "# 나잇대 별 value_counts \n",
    "df.value_counts(df['age_group'])"
   ],
   "metadata": {
    "collapsed": false,
    "ExecuteTime": {
     "end_time": "2024-03-13T03:26:45.223487Z",
     "start_time": "2024-03-13T03:26:45.214990Z"
    }
   },
   "id": "1263b25712768b8b",
   "execution_count": 63
  },
  {
   "cell_type": "markdown",
   "source": [
    "아무래도 10대와 70대의 숫자가 너무 적은 것 같네요. 이렇게 특정 연령대에서 표본의 수가 너무 적으면 해당 연령대에 대한 통계 수치의 신뢰성이 떨어지고 분석 결과 역시 왜곡되기 쉽습니다. 그래서 10대와 20대를 20대 이하로, 60대와 70대를 60대 이상으로 바꾸어 연령대 값을 새롭게 구해 줄게요.\n",
    "이렇게 데이터 내 특정 값을 다른 값으로 바꾸고 싶을 때에는 replace() 함수를 이용하면 됩니다. 이때 replace() 함수에 값을 어떻게 바꿀지 입력해야 하는데요. 지금처럼 바꾸고자 하는 값이 여럿일 경우에는 변경 사항을 딕셔너리로 나타내면 좋아요. 딕셔너리의 키에는 기존 값을, 키에 대응하는 밸류에는 새로운 값을 넣어 알맞게 짝 지어 주세요. 그다음 age_group 컬럼 데이터에 대해 replace() 함수를 호출하고 그 결과를 age_group 컬럼으로 다시 넣어 줍시다."
   ],
   "metadata": {
    "collapsed": false
   },
   "id": "a34aed0d7a011efd"
  },
  {
   "cell_type": "code",
   "outputs": [
    {
     "data": {
      "text/plain": "  signup_ym  age age_group  annual_income marital_status  children  recency  \\\n0   2020-12   59       50대     75579400.0             미혼         0       58   \n1   2022-06   62    60대 이상     60247200.0             미혼         2       38   \n2   2021-11   51       50대     93096900.0         배우자 있음         0       26   \n3   2022-05   32       30대     34639800.0         배우자 있음         1       26   \n4   2022-04   35       30대     75780900.0         배우자 있음         1       94   \n\n   amount_alcohol  amount_fruit  amount_meat  ...  num_purchase_web  \\\n0          825500        114400       709800  ...                 8   \n1           14300          1300         7800  ...                 1   \n2          553800         63700       165100  ...                 8   \n3           14300          5200        26000  ...                 2   \n4          224900         55900       153400  ...                 5   \n\n   num_purchase_store  num_purchase_discount  num_purchase_total  promotion_1  \\\n0                   4                      3                  10            0   \n1                   2                      2                   6            0   \n2                  10                      1                  12            0   \n3                   4                      2                   8            0   \n4                   6                      5                  16            0   \n\n   promotion_2  promotion_3  promotion_4  promotion_5  promotion_6  \n0            0            0            0            0            1  \n1            0            0            0            0            0  \n2            0            0            0            0            0  \n3            0            0            0            0            0  \n4            0            0            0            0            0  \n\n[5 rows x 24 columns]",
      "text/html": "<div>\n<style scoped>\n    .dataframe tbody tr th:only-of-type {\n        vertical-align: middle;\n    }\n\n    .dataframe tbody tr th {\n        vertical-align: top;\n    }\n\n    .dataframe thead th {\n        text-align: right;\n    }\n</style>\n<table border=\"1\" class=\"dataframe\">\n  <thead>\n    <tr style=\"text-align: right;\">\n      <th></th>\n      <th>signup_ym</th>\n      <th>age</th>\n      <th>age_group</th>\n      <th>annual_income</th>\n      <th>marital_status</th>\n      <th>children</th>\n      <th>recency</th>\n      <th>amount_alcohol</th>\n      <th>amount_fruit</th>\n      <th>amount_meat</th>\n      <th>...</th>\n      <th>num_purchase_web</th>\n      <th>num_purchase_store</th>\n      <th>num_purchase_discount</th>\n      <th>num_purchase_total</th>\n      <th>promotion_1</th>\n      <th>promotion_2</th>\n      <th>promotion_3</th>\n      <th>promotion_4</th>\n      <th>promotion_5</th>\n      <th>promotion_6</th>\n    </tr>\n  </thead>\n  <tbody>\n    <tr>\n      <th>0</th>\n      <td>2020-12</td>\n      <td>59</td>\n      <td>50대</td>\n      <td>75579400.0</td>\n      <td>미혼</td>\n      <td>0</td>\n      <td>58</td>\n      <td>825500</td>\n      <td>114400</td>\n      <td>709800</td>\n      <td>...</td>\n      <td>8</td>\n      <td>4</td>\n      <td>3</td>\n      <td>10</td>\n      <td>0</td>\n      <td>0</td>\n      <td>0</td>\n      <td>0</td>\n      <td>0</td>\n      <td>1</td>\n    </tr>\n    <tr>\n      <th>1</th>\n      <td>2022-06</td>\n      <td>62</td>\n      <td>60대 이상</td>\n      <td>60247200.0</td>\n      <td>미혼</td>\n      <td>2</td>\n      <td>38</td>\n      <td>14300</td>\n      <td>1300</td>\n      <td>7800</td>\n      <td>...</td>\n      <td>1</td>\n      <td>2</td>\n      <td>2</td>\n      <td>6</td>\n      <td>0</td>\n      <td>0</td>\n      <td>0</td>\n      <td>0</td>\n      <td>0</td>\n      <td>0</td>\n    </tr>\n    <tr>\n      <th>2</th>\n      <td>2021-11</td>\n      <td>51</td>\n      <td>50대</td>\n      <td>93096900.0</td>\n      <td>배우자 있음</td>\n      <td>0</td>\n      <td>26</td>\n      <td>553800</td>\n      <td>63700</td>\n      <td>165100</td>\n      <td>...</td>\n      <td>8</td>\n      <td>10</td>\n      <td>1</td>\n      <td>12</td>\n      <td>0</td>\n      <td>0</td>\n      <td>0</td>\n      <td>0</td>\n      <td>0</td>\n      <td>0</td>\n    </tr>\n    <tr>\n      <th>3</th>\n      <td>2022-05</td>\n      <td>32</td>\n      <td>30대</td>\n      <td>34639800.0</td>\n      <td>배우자 있음</td>\n      <td>1</td>\n      <td>26</td>\n      <td>14300</td>\n      <td>5200</td>\n      <td>26000</td>\n      <td>...</td>\n      <td>2</td>\n      <td>4</td>\n      <td>2</td>\n      <td>8</td>\n      <td>0</td>\n      <td>0</td>\n      <td>0</td>\n      <td>0</td>\n      <td>0</td>\n      <td>0</td>\n    </tr>\n    <tr>\n      <th>4</th>\n      <td>2022-04</td>\n      <td>35</td>\n      <td>30대</td>\n      <td>75780900.0</td>\n      <td>배우자 있음</td>\n      <td>1</td>\n      <td>94</td>\n      <td>224900</td>\n      <td>55900</td>\n      <td>153400</td>\n      <td>...</td>\n      <td>5</td>\n      <td>6</td>\n      <td>5</td>\n      <td>16</td>\n      <td>0</td>\n      <td>0</td>\n      <td>0</td>\n      <td>0</td>\n      <td>0</td>\n      <td>0</td>\n    </tr>\n  </tbody>\n</table>\n<p>5 rows × 24 columns</p>\n</div>"
     },
     "execution_count": 64,
     "metadata": {},
     "output_type": "execute_result"
    }
   ],
   "source": [
    "# 10대, 70대의 데이터 수가 적어서 bin 통합하기\n",
    "# 10대 + 20대 -> 20대 이하 \n",
    "# 70대 + 60대 -> 60대 이상 \n",
    "age_group_replace = { \n",
    "    '10대': \"20대 이하\",\n",
    "    '20대': '20대 이하',\n",
    "    '70대': \"60대 이상\",\n",
    "    \"60대\": \"60대 이상\"\n",
    "}\n",
    "df['age_group'] = df['age_group'].replace(age_group_replace)\n",
    "\n",
    "df.head()"
   ],
   "metadata": {
    "collapsed": false,
    "ExecuteTime": {
     "end_time": "2024-03-13T03:26:45.279229Z",
     "start_time": "2024-03-13T03:26:45.254154Z"
    }
   },
   "id": "49599deb71238593",
   "execution_count": 64
  },
  {
   "cell_type": "code",
   "outputs": [
    {
     "data": {
      "text/plain": "20대 이하    146\n60대 이상    416\n30대       454\n50대       480\n40대       717\nName: age_group, dtype: int64"
     },
     "execution_count": 65,
     "metadata": {},
     "output_type": "execute_result"
    }
   ],
   "source": [
    "df['age_group'].value_counts().sort_values(ascending=True)"
   ],
   "metadata": {
    "collapsed": false,
    "ExecuteTime": {
     "end_time": "2024-03-13T03:26:45.310369Z",
     "start_time": "2024-03-13T03:26:45.302311Z"
    }
   },
   "id": "76d033c254c1cdff",
   "execution_count": 65
  },
  {
   "cell_type": "markdown",
   "source": [
    "- 분포와 비슷하게 20대 이하가 가장 적고 40대가 가장 많음 "
   ],
   "metadata": {
    "collapsed": false
   },
   "id": "55a5eb16524a765f"
  },
  {
   "cell_type": "markdown",
   "source": [
    "##### 3.1.2 연소득 분포 파악하기 \n",
    "- 이번에는 고객 연 소득 분포를 살펴볼게요. 나이 분포 때와 마찬가지로 seaborn의 histplot()을 이용하면 한눈에 확인할 수 있겠죠. 이번에도 그래프 크기와 제목, 그리고 X축과 Y축의 이름까지 설정하겠습니다. "
   ],
   "metadata": {
    "collapsed": false
   },
   "id": "a84fcdb85af4a4bb"
  },
  {
   "cell_type": "code",
   "outputs": [
    {
     "data": {
      "text/plain": "<Figure size 1000x700 with 1 Axes>",
      "image/png": "[encoded data removed]"
     },
     "metadata": {},
     "output_type": "display_data"
    }
   ],
   "source": [
    "plt.figure(figsize=(10,7))\n",
    "sns.histplot(data = df['annual_income'], color = 'skyblue')\n",
    "\n",
    "plt.show()"
   ],
   "metadata": {
    "collapsed": false,
    "ExecuteTime": {
     "end_time": "2024-03-13T03:26:45.856171Z",
     "start_time": "2024-03-13T03:26:45.383404Z"
    }
   },
   "id": "c24019392081fd54",
   "execution_count": 66
  },
  {
   "cell_type": "code",
   "outputs": [
    {
     "data": {
      "text/plain": "<AxesSubplot:xlabel='annual_income'>"
     },
     "execution_count": 67,
     "metadata": {},
     "output_type": "execute_result"
    },
    {
     "data": {
      "text/plain": "<Figure size 640x480 with 1 Axes>",
      "image/png": "[encoded data removed]"
     },
     "metadata": {},
     "output_type": "display_data"
    }
   ],
   "source": [
    "sns.boxplot(data = df, x='annual_income')"
   ],
   "metadata": {
    "collapsed": false,
    "ExecuteTime": {
     "end_time": "2024-03-13T03:26:46.028580Z",
     "start_time": "2024-03-13T03:26:45.859729Z"
    }
   },
   "id": "3fb54db97577ef25",
   "execution_count": 67
  },
  {
   "cell_type": "markdown",
   "source": [
    "- 이상치가 존재함 \n",
    "- 제거하자!"
   ],
   "metadata": {
    "collapsed": false
   },
   "id": "5dfe9e6de17cd38"
  },
  {
   "cell_type": "markdown",
   "source": [
    "iqr로 조작하기"
   ],
   "metadata": {
    "collapsed": false
   },
   "id": "81a056290f032154"
  },
  {
   "cell_type": "code",
   "outputs": [],
   "source": [
    "income = df['annual_income']\n",
    "q1 = income.quantile(q=0.25)\n",
    "q3 = income.quantile(q=0.75)\n",
    "iqr = q3 - q1\n",
    "lower_bound = q1 - 1.5*iqr\n",
    "upper_bound = q3 + 1.5*iqr\n",
    "\n",
    "normal_condition = (lower_bound <= income) & (income <= upper_bound)\n",
    "df = df[normal_condition]"
   ],
   "metadata": {
    "collapsed": false,
    "ExecuteTime": {
     "end_time": "2024-03-13T03:26:46.043557Z",
     "start_time": "2024-03-13T03:26:46.030969Z"
    }
   },
   "id": "1c849f4259e2ee9e",
   "execution_count": 68
  },
  {
   "cell_type": "code",
   "outputs": [
    {
     "data": {
      "text/plain": "<AxesSubplot:xlabel='annual_income'>"
     },
     "execution_count": 69,
     "metadata": {},
     "output_type": "execute_result"
    },
    {
     "data": {
      "text/plain": "<Figure size 640x480 with 1 Axes>",
      "image/png": "[encoded data removed]"
     },
     "metadata": {},
     "output_type": "display_data"
    }
   ],
   "source": [
    "sns.boxplot(data = df, x='annual_income')"
   ],
   "metadata": {
    "collapsed": false,
    "ExecuteTime": {
     "end_time": "2024-03-13T03:26:46.208190Z",
     "start_time": "2024-03-13T03:26:46.047387Z"
    }
   },
   "id": "77c5fd4f82e6837e",
   "execution_count": 69
  },
  {
   "cell_type": "code",
   "outputs": [
    {
     "data": {
      "text/plain": "<Figure size 1000x700 with 1 Axes>",
      "image/png": "[encoded data removed]"
     },
     "metadata": {},
     "output_type": "display_data"
    }
   ],
   "source": [
    "plt.figure(figsize=(10,7))\n",
    "sns.histplot(data = df['annual_income'], color = 'skyblue')\n",
    "\n",
    "plt.show()"
   ],
   "metadata": {
    "collapsed": false,
    "ExecuteTime": {
     "end_time": "2024-03-13T03:26:46.469053Z",
     "start_time": "2024-03-13T03:26:46.210449Z"
    }
   },
   "id": "e847b9e3b2987654",
   "execution_count": 70
  },
  {
   "cell_type": "markdown",
   "source": [
    "#### 3.2 RFM 고객 세그먼트 분류"
   ],
   "metadata": {
    "collapsed": false
   },
   "id": "3dfc48285d0b28f7"
  },
  {
   "cell_type": "markdown",
   "source": [
    "##### 3.2.1 Recency, Frequency, Monetary 등급 매기기\n",
    "- Recency 등급의 숫자는 클수록 더 최근에 구매했다는 뜻\n",
    "- Frequency 등급의 숫자는 클수록 더 자주 구매했다는 뜻 \n",
    "- Monetary 등급의 숫자는 클수록 돈을 더 많이 썼다는 뜻 "
   ],
   "metadata": {
    "collapsed": false
   },
   "id": "974309e6b8e639f2"
  },
  {
   "cell_type": "code",
   "outputs": [],
   "source": [
    "# 등급 넘버 선언언하기\n",
    "number_grades = 3"
   ],
   "metadata": {
    "collapsed": false,
    "ExecuteTime": {
     "end_time": "2024-03-13T03:26:46.473755Z",
     "start_time": "2024-03-13T03:26:46.470626Z"
    }
   },
   "id": "262f3cc0f0d9a327",
   "execution_count": 71
  },
  {
   "cell_type": "code",
   "outputs": [
    {
     "data": {
      "text/plain": "[1, 2, 3]"
     },
     "execution_count": 72,
     "metadata": {},
     "output_type": "execute_result"
    }
   ],
   "source": [
    "grade_labels = list(range(1, number_grades+1))\n",
    "grade_labels"
   ],
   "metadata": {
    "collapsed": false,
    "ExecuteTime": {
     "end_time": "2024-03-13T03:26:46.481329Z",
     "start_time": "2024-03-13T03:26:46.475914Z"
    }
   },
   "id": "de5e94e3336b4cfa",
   "execution_count": 72
  },
  {
   "cell_type": "markdown",
   "source": [
    "Recency"
   ],
   "metadata": {
    "collapsed": false
   },
   "id": "ac866ec6ceb7d9dc"
  },
  {
   "cell_type": "code",
   "outputs": [],
   "source": [
    "recency_grade = pd.qcut(x=df['recency'], q=number_grades, labels=grade_labels[::-1])\n",
    "df['recency_grade'] = recency_grade"
   ],
   "metadata": {
    "collapsed": false,
    "ExecuteTime": {
     "end_time": "2024-03-13T03:26:46.489985Z",
     "start_time": "2024-03-13T03:26:46.482731Z"
    }
   },
   "id": "3b68c947abe1c0f4",
   "execution_count": 73
  },
  {
   "cell_type": "code",
   "outputs": [
    {
     "data": {
      "text/plain": "3    752\n1    730\n2    723\nName: recency_grade, dtype: int64"
     },
     "execution_count": 74,
     "metadata": {},
     "output_type": "execute_result"
    }
   ],
   "source": [
    "df['recency_grade'].value_counts()"
   ],
   "metadata": {
    "collapsed": false,
    "ExecuteTime": {
     "end_time": "2024-03-13T03:26:46.497568Z",
     "start_time": "2024-03-13T03:26:46.491323Z"
    }
   },
   "id": "f08952728b96fb1d",
   "execution_count": 74
  },
  {
   "cell_type": "markdown",
   "source": [
    "- 1,2,3 등급의 수 비슷함  "
   ],
   "metadata": {
    "collapsed": false
   },
   "id": "41a9d5e0673ac75e"
  },
  {
   "cell_type": "code",
   "outputs": [
    {
     "data": {
      "text/plain": "  recency_grade    age  annual_income  children  recency  amount_alcohol  \\\n0             3  35078   5.059218e+10       678    11988       293945600   \n1             2  34460   4.818995e+10       724    35840       294073000   \n2             1  34308   4.919261e+10       690    60237       289602300   \n\n   amount_fruit  amount_meat  amount_fish  amount_snack  ...  \\\n0      26728000    157576900     37583000      25539800  ...   \n1      23675600    151742500     35046700      25147200  ...   \n2      25281100    164547500     35599200      27076400  ...   \n\n   num_purchase_web  num_purchase_store  num_purchase_discount  \\\n0              3103                4386                   1693   \n1              2992                4240                   1771   \n2              2947                4215                   1648   \n\n   num_purchase_total  promotion_1  promotion_2  promotion_3  promotion_4  \\\n0                7772           54           12           67           55   \n1                7782           47            8           47           52   \n2                7511           41           10           49           57   \n\n   promotion_5  promotion_6  \n0           60          179  \n1           48           95  \n2           53           59  \n\n[3 rows x 22 columns]",
      "text/html": "<div>\n<style scoped>\n    .dataframe tbody tr th:only-of-type {\n        vertical-align: middle;\n    }\n\n    .dataframe tbody tr th {\n        vertical-align: top;\n    }\n\n    .dataframe thead th {\n        text-align: right;\n    }\n</style>\n<table border=\"1\" class=\"dataframe\">\n  <thead>\n    <tr style=\"text-align: right;\">\n      <th></th>\n      <th>recency_grade</th>\n      <th>age</th>\n      <th>annual_income</th>\n      <th>children</th>\n      <th>recency</th>\n      <th>amount_alcohol</th>\n      <th>amount_fruit</th>\n      <th>amount_meat</th>\n      <th>amount_fish</th>\n      <th>amount_snack</th>\n      <th>...</th>\n      <th>num_purchase_web</th>\n      <th>num_purchase_store</th>\n      <th>num_purchase_discount</th>\n      <th>num_purchase_total</th>\n      <th>promotion_1</th>\n      <th>promotion_2</th>\n      <th>promotion_3</th>\n      <th>promotion_4</th>\n      <th>promotion_5</th>\n      <th>promotion_6</th>\n    </tr>\n  </thead>\n  <tbody>\n    <tr>\n      <th>0</th>\n      <td>3</td>\n      <td>35078</td>\n      <td>5.059218e+10</td>\n      <td>678</td>\n      <td>11988</td>\n      <td>293945600</td>\n      <td>26728000</td>\n      <td>157576900</td>\n      <td>37583000</td>\n      <td>25539800</td>\n      <td>...</td>\n      <td>3103</td>\n      <td>4386</td>\n      <td>1693</td>\n      <td>7772</td>\n      <td>54</td>\n      <td>12</td>\n      <td>67</td>\n      <td>55</td>\n      <td>60</td>\n      <td>179</td>\n    </tr>\n    <tr>\n      <th>1</th>\n      <td>2</td>\n      <td>34460</td>\n      <td>4.818995e+10</td>\n      <td>724</td>\n      <td>35840</td>\n      <td>294073000</td>\n      <td>23675600</td>\n      <td>151742500</td>\n      <td>35046700</td>\n      <td>25147200</td>\n      <td>...</td>\n      <td>2992</td>\n      <td>4240</td>\n      <td>1771</td>\n      <td>7782</td>\n      <td>47</td>\n      <td>8</td>\n      <td>47</td>\n      <td>52</td>\n      <td>48</td>\n      <td>95</td>\n    </tr>\n    <tr>\n      <th>2</th>\n      <td>1</td>\n      <td>34308</td>\n      <td>4.919261e+10</td>\n      <td>690</td>\n      <td>60237</td>\n      <td>289602300</td>\n      <td>25281100</td>\n      <td>164547500</td>\n      <td>35599200</td>\n      <td>27076400</td>\n      <td>...</td>\n      <td>2947</td>\n      <td>4215</td>\n      <td>1648</td>\n      <td>7511</td>\n      <td>41</td>\n      <td>10</td>\n      <td>49</td>\n      <td>57</td>\n      <td>53</td>\n      <td>59</td>\n    </tr>\n  </tbody>\n</table>\n<p>3 rows × 22 columns</p>\n</div>"
     },
     "execution_count": 75,
     "metadata": {},
     "output_type": "execute_result"
    }
   ],
   "source": [
    "gropubyrecency = df.groupby('recency_grade').sum().reset_index()\n",
    "gropubyrecency"
   ],
   "metadata": {
    "collapsed": false,
    "ExecuteTime": {
     "end_time": "2024-03-13T03:26:46.533800Z",
     "start_time": "2024-03-13T03:26:46.500767Z"
    }
   },
   "id": "695f8b13fea2bf1b",
   "execution_count": 75
  },
  {
   "cell_type": "code",
   "outputs": [
    {
     "data": {
      "text/plain": "<Figure size 700x800 with 1 Axes>",
      "image/png": "[encoded data removed]"
     },
     "metadata": {},
     "output_type": "display_data"
    }
   ],
   "source": [
    "plt.figure(figsize = (7,8))\n",
    "gropubyrecency['amount_total'].plot.pie(autopct = '%1.1f%%', startangle = 90, cmap = \"Set2\", fontsize=16)\n",
    "plt.title(\"total by recency\",  fontsize=20)\n",
    "plt.show()"
   ],
   "metadata": {
    "collapsed": false,
    "ExecuteTime": {
     "end_time": "2024-03-13T03:26:46.663458Z",
     "start_time": "2024-03-13T03:26:46.536081Z"
    }
   },
   "id": "8413a87889f47697",
   "execution_count": 76
  }
 ],
 "metadata": {
  "kernelspec": {
   "display_name": "Python 3",
   "language": "python",
   "name": "python3"
  },
  "language_info": {
   "codemirror_mode": {
    "name": "ipython",
    "version": 3
   },
   "file_extension": ".py",
   "mimetype": "text/x-python",
   "name": "python",
   "nbconvert_exporter": "python",
   "pygments_lexer": "ipython3",
   "version": "3.9.13"
  }
 },
 "nbformat": 4,
 "nbformat_minor": 5
}
