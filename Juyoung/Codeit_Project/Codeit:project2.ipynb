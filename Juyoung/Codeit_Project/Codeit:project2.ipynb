{
 "cells": [
  {
   "cell_type": "markdown",
   "source": [
    "### 1. 라이브러리 & 데이터 리딩"
   ],
   "metadata": {
    "collapsed": false
   },
   "id": "9e45b9cb8d8df8d1"
  },
  {
   "cell_type": "code",
   "outputs": [],
   "source": [
    "# 수치화를 위한 라이브러리 \n",
    "import pandas as pd \n",
    "import numpy as np \n",
    "\n",
    "# 시각화를 위한 라이브러리 \n",
    "import matplotlib.pyplot as plt\n",
    "import seaborn as sns"
   ],
   "metadata": {
    "collapsed": false,
    "ExecuteTime": {
     "end_time": "2024-03-02T15:32:42.817343Z",
     "start_time": "2024-03-02T15:32:42.813642Z"
    }
   },
   "id": "32e3ef6738020abc",
   "execution_count": 1
  },
  {
   "cell_type": "code",
   "outputs": [],
   "source": [
    "# 한글 깨짐 방지\n",
    "from matplotlib import rc\n",
    "rc('font', family ='AppleGothic')"
   ],
   "metadata": {
    "collapsed": false,
    "ExecuteTime": {
     "end_time": "2024-03-02T15:32:42.824535Z",
     "start_time": "2024-03-02T15:32:42.821170Z"
    }
   },
   "id": "71e596249eb42fa7",
   "execution_count": 2
  },
  {
   "cell_type": "code",
   "outputs": [],
   "source": [
    "jeju_reg_17_df = pd.read_csv('data-2/jeju_card_region_2017.csv')\n",
    "jeju_reg_18_df = pd.read_csv('data-2/jeju_card_region_2018.csv')\n",
    "jeju_pop_df = pd.read_csv('data-2/jeju_population.csv')"
   ],
   "metadata": {
    "collapsed": false,
    "ExecuteTime": {
     "end_time": "2024-03-02T15:32:43.321104Z",
     "start_time": "2024-03-02T15:32:42.826055Z"
    }
   },
   "id": "32d5e81b64798927",
   "execution_count": 3
  },
  {
   "cell_type": "markdown",
   "source": [
    "### 2. 결측치 및 칼럼처리 "
   ],
   "metadata": {
    "collapsed": false
   },
   "id": "9389e60dccded85"
  },
  {
   "cell_type": "markdown",
   "source": [
    "#### 결측치 및 unique 값 확인"
   ],
   "metadata": {
    "collapsed": false
   },
   "id": "ca54c682cc011caf"
  },
  {
   "cell_type": "code",
   "outputs": [
    {
     "name": "stdout",
     "output_type": "stream",
     "text": [
      "(26968, 7)\n",
      "(27183, 7)\n",
      "(527026, 6)\n"
     ]
    }
   ],
   "source": [
    "print(jeju_reg_17_df.shape)\n",
    "print(jeju_reg_18_df.shape)\n",
    "print(jeju_pop_df.shape)"
   ],
   "metadata": {
    "collapsed": false,
    "ExecuteTime": {
     "end_time": "2024-03-02T15:32:43.326150Z",
     "start_time": "2024-03-02T15:32:43.322441Z"
    }
   },
   "id": "6f2ab6f2553429d1",
   "execution_count": 4
  },
  {
   "cell_type": "code",
   "outputs": [
    {
     "data": {
      "text/plain": "           연월  시군구명 읍면동명            업종명  성별  이용자수      이용금액\n0  2017-01-01  서귀포시  남원읍     건강보조식품 소매업  남성    11    137500\n1  2017-01-01  서귀포시  천지동     건강보조식품 소매업  여성    61  12334400\n2  2017-01-01  서귀포시  대정읍  기타음식료품위주종합소매업  남성   555  17301300\n3  2017-01-01  서귀포시  대정읍         기타 주점업  남성   324  71843080\n4  2017-01-01  서귀포시  대정읍    기타 외국식 음식점업  남성    40    971000",
      "text/html": "<div>\n<style scoped>\n    .dataframe tbody tr th:only-of-type {\n        vertical-align: middle;\n    }\n\n    .dataframe tbody tr th {\n        vertical-align: top;\n    }\n\n    .dataframe thead th {\n        text-align: right;\n    }\n</style>\n<table border=\"1\" class=\"dataframe\">\n  <thead>\n    <tr style=\"text-align: right;\">\n      <th></th>\n      <th>연월</th>\n      <th>시군구명</th>\n      <th>읍면동명</th>\n      <th>업종명</th>\n      <th>성별</th>\n      <th>이용자수</th>\n      <th>이용금액</th>\n    </tr>\n  </thead>\n  <tbody>\n    <tr>\n      <th>0</th>\n      <td>2017-01-01</td>\n      <td>서귀포시</td>\n      <td>남원읍</td>\n      <td>건강보조식품 소매업</td>\n      <td>남성</td>\n      <td>11</td>\n      <td>137500</td>\n    </tr>\n    <tr>\n      <th>1</th>\n      <td>2017-01-01</td>\n      <td>서귀포시</td>\n      <td>천지동</td>\n      <td>건강보조식품 소매업</td>\n      <td>여성</td>\n      <td>61</td>\n      <td>12334400</td>\n    </tr>\n    <tr>\n      <th>2</th>\n      <td>2017-01-01</td>\n      <td>서귀포시</td>\n      <td>대정읍</td>\n      <td>기타음식료품위주종합소매업</td>\n      <td>남성</td>\n      <td>555</td>\n      <td>17301300</td>\n    </tr>\n    <tr>\n      <th>3</th>\n      <td>2017-01-01</td>\n      <td>서귀포시</td>\n      <td>대정읍</td>\n      <td>기타 주점업</td>\n      <td>남성</td>\n      <td>324</td>\n      <td>71843080</td>\n    </tr>\n    <tr>\n      <th>4</th>\n      <td>2017-01-01</td>\n      <td>서귀포시</td>\n      <td>대정읍</td>\n      <td>기타 외국식 음식점업</td>\n      <td>남성</td>\n      <td>40</td>\n      <td>971000</td>\n    </tr>\n  </tbody>\n</table>\n</div>"
     },
     "execution_count": 5,
     "metadata": {},
     "output_type": "execute_result"
    }
   ],
   "source": [
    "jeju_reg_17_df.head()"
   ],
   "metadata": {
    "collapsed": false,
    "ExecuteTime": {
     "end_time": "2024-03-02T15:32:43.347413Z",
     "start_time": "2024-03-02T15:32:43.327855Z"
    }
   },
   "id": "736256fc9a41e476",
   "execution_count": 5
  },
  {
   "cell_type": "code",
   "outputs": [
    {
     "data": {
      "text/plain": "           연월 시군구명  읍면동명                 업종명  성별  이용자수       이용금액\n0  2018-01-01  제주시   아라동         차량용 주유소 운영업  남성  3954  205339045\n1  2018-01-01  제주시  삼도1동         차량용 주유소 운영업  남성   490   29469792\n2  2018-01-01  제주시  삼도2동              육류 소매업  여성    89    2386740\n3  2018-01-01  제주시  삼도1동  스포츠 및 레크레이션 용품 임대업  남성   106   12517300\n4  2018-01-01  제주시  삼도1동             수산물 소매업  남성    37    2621000",
      "text/html": "<div>\n<style scoped>\n    .dataframe tbody tr th:only-of-type {\n        vertical-align: middle;\n    }\n\n    .dataframe tbody tr th {\n        vertical-align: top;\n    }\n\n    .dataframe thead th {\n        text-align: right;\n    }\n</style>\n<table border=\"1\" class=\"dataframe\">\n  <thead>\n    <tr style=\"text-align: right;\">\n      <th></th>\n      <th>연월</th>\n      <th>시군구명</th>\n      <th>읍면동명</th>\n      <th>업종명</th>\n      <th>성별</th>\n      <th>이용자수</th>\n      <th>이용금액</th>\n    </tr>\n  </thead>\n  <tbody>\n    <tr>\n      <th>0</th>\n      <td>2018-01-01</td>\n      <td>제주시</td>\n      <td>아라동</td>\n      <td>차량용 주유소 운영업</td>\n      <td>남성</td>\n      <td>3954</td>\n      <td>205339045</td>\n    </tr>\n    <tr>\n      <th>1</th>\n      <td>2018-01-01</td>\n      <td>제주시</td>\n      <td>삼도1동</td>\n      <td>차량용 주유소 운영업</td>\n      <td>남성</td>\n      <td>490</td>\n      <td>29469792</td>\n    </tr>\n    <tr>\n      <th>2</th>\n      <td>2018-01-01</td>\n      <td>제주시</td>\n      <td>삼도2동</td>\n      <td>육류 소매업</td>\n      <td>여성</td>\n      <td>89</td>\n      <td>2386740</td>\n    </tr>\n    <tr>\n      <th>3</th>\n      <td>2018-01-01</td>\n      <td>제주시</td>\n      <td>삼도1동</td>\n      <td>스포츠 및 레크레이션 용품 임대업</td>\n      <td>남성</td>\n      <td>106</td>\n      <td>12517300</td>\n    </tr>\n    <tr>\n      <th>4</th>\n      <td>2018-01-01</td>\n      <td>제주시</td>\n      <td>삼도1동</td>\n      <td>수산물 소매업</td>\n      <td>남성</td>\n      <td>37</td>\n      <td>2621000</td>\n    </tr>\n  </tbody>\n</table>\n</div>"
     },
     "execution_count": 6,
     "metadata": {},
     "output_type": "execute_result"
    }
   ],
   "source": [
    "jeju_reg_18_df.head()"
   ],
   "metadata": {
    "collapsed": false,
    "ExecuteTime": {
     "end_time": "2024-03-02T15:32:43.358579Z",
     "start_time": "2024-03-02T15:32:43.349077Z"
    }
   },
   "id": "db7ff3145b410597",
   "execution_count": 6
  },
  {
   "cell_type": "code",
   "outputs": [
    {
     "data": {
      "text/plain": "        연월일 시군구명 읍면동명 성별  연령대   방문인구\n0  20170101  제주시  한림읍  남  40대  19424\n1  20170101  제주시  애월읍  여  20대  27747\n2  20170101  제주시  구좌읍  남  70대   3459\n3  20170101  제주시  조천읍  남  40대  36695\n4  20170101  제주시  한경면  남  70대   1174",
      "text/html": "<div>\n<style scoped>\n    .dataframe tbody tr th:only-of-type {\n        vertical-align: middle;\n    }\n\n    .dataframe tbody tr th {\n        vertical-align: top;\n    }\n\n    .dataframe thead th {\n        text-align: right;\n    }\n</style>\n<table border=\"1\" class=\"dataframe\">\n  <thead>\n    <tr style=\"text-align: right;\">\n      <th></th>\n      <th>연월일</th>\n      <th>시군구명</th>\n      <th>읍면동명</th>\n      <th>성별</th>\n      <th>연령대</th>\n      <th>방문인구</th>\n    </tr>\n  </thead>\n  <tbody>\n    <tr>\n      <th>0</th>\n      <td>20170101</td>\n      <td>제주시</td>\n      <td>한림읍</td>\n      <td>남</td>\n      <td>40대</td>\n      <td>19424</td>\n    </tr>\n    <tr>\n      <th>1</th>\n      <td>20170101</td>\n      <td>제주시</td>\n      <td>애월읍</td>\n      <td>여</td>\n      <td>20대</td>\n      <td>27747</td>\n    </tr>\n    <tr>\n      <th>2</th>\n      <td>20170101</td>\n      <td>제주시</td>\n      <td>구좌읍</td>\n      <td>남</td>\n      <td>70대</td>\n      <td>3459</td>\n    </tr>\n    <tr>\n      <th>3</th>\n      <td>20170101</td>\n      <td>제주시</td>\n      <td>조천읍</td>\n      <td>남</td>\n      <td>40대</td>\n      <td>36695</td>\n    </tr>\n    <tr>\n      <th>4</th>\n      <td>20170101</td>\n      <td>제주시</td>\n      <td>한경면</td>\n      <td>남</td>\n      <td>70대</td>\n      <td>1174</td>\n    </tr>\n  </tbody>\n</table>\n</div>"
     },
     "execution_count": 7,
     "metadata": {},
     "output_type": "execute_result"
    }
   ],
   "source": [
    "jeju_pop_df.head()\n",
    "# 연월방문 인구 데이터 "
   ],
   "metadata": {
    "collapsed": false,
    "ExecuteTime": {
     "end_time": "2024-03-02T15:32:43.372607Z",
     "start_time": "2024-03-02T15:32:43.363032Z"
    }
   },
   "id": "6fe79fd5d0a994bd",
   "execution_count": 7
  },
  {
   "cell_type": "code",
   "outputs": [
    {
     "name": "stdout",
     "output_type": "stream",
     "text": [
      "연월일     20181231\n",
      "시군구명        서귀포시\n",
      "읍면동명         예래동\n",
      "성별             여\n",
      "연령대          50대\n",
      "방문인구       12314\n",
      "Name: 527025, dtype: object\n"
     ]
    }
   ],
   "source": [
    "print(jeju_pop_df.loc[527025])\n",
    "# 마지막  2018년 12월 31일 자료 "
   ],
   "metadata": {
    "collapsed": false,
    "ExecuteTime": {
     "end_time": "2024-03-02T15:32:43.379554Z",
     "start_time": "2024-03-02T15:32:43.374681Z"
    }
   },
   "id": "7877973367ddeb78",
   "execution_count": 8
  },
  {
   "cell_type": "code",
   "outputs": [
    {
     "name": "stdout",
     "output_type": "stream",
     "text": [
      "<class 'pandas.core.frame.DataFrame'>\n",
      "RangeIndex: 26968 entries, 0 to 26967\n",
      "Data columns (total 7 columns):\n",
      " #   Column  Non-Null Count  Dtype \n",
      "---  ------  --------------  ----- \n",
      " 0   연월      26968 non-null  object\n",
      " 1   시군구명    26968 non-null  object\n",
      " 2   읍면동명    26968 non-null  object\n",
      " 3   업종명     26968 non-null  object\n",
      " 4   성별      26968 non-null  object\n",
      " 5   이용자수    26968 non-null  int64 \n",
      " 6   이용금액    26968 non-null  int64 \n",
      "dtypes: int64(2), object(5)\n",
      "memory usage: 1.4+ MB\n"
     ]
    }
   ],
   "source": [
    "jeju_reg_17_df.info()"
   ],
   "metadata": {
    "collapsed": false,
    "ExecuteTime": {
     "end_time": "2024-03-02T15:32:43.417527Z",
     "start_time": "2024-03-02T15:32:43.382186Z"
    }
   },
   "id": "801fa2206a1cb567",
   "execution_count": 9
  },
  {
   "cell_type": "code",
   "outputs": [
    {
     "data": {
      "text/plain": "연월      0\n시군구명    0\n읍면동명    0\n업종명     0\n성별      0\n이용자수    0\n이용금액    0\ndtype: int64"
     },
     "execution_count": 10,
     "metadata": {},
     "output_type": "execute_result"
    }
   ],
   "source": [
    "jeju_reg_17_df.isnull().sum()"
   ],
   "metadata": {
    "collapsed": false,
    "ExecuteTime": {
     "end_time": "2024-03-02T15:32:43.449182Z",
     "start_time": "2024-03-02T15:32:43.420289Z"
    }
   },
   "id": "1d90a2f1bea093e2",
   "execution_count": 10
  },
  {
   "cell_type": "markdown",
   "source": [
    "결측치 없음 "
   ],
   "metadata": {
    "collapsed": false
   },
   "id": "ec834563a7618131"
  },
  {
   "cell_type": "code",
   "outputs": [
    {
     "name": "stdout",
     "output_type": "stream",
     "text": [
      "<class 'pandas.core.frame.DataFrame'>\n",
      "RangeIndex: 27183 entries, 0 to 27182\n",
      "Data columns (total 7 columns):\n",
      " #   Column  Non-Null Count  Dtype \n",
      "---  ------  --------------  ----- \n",
      " 0   연월      27183 non-null  object\n",
      " 1   시군구명    27183 non-null  object\n",
      " 2   읍면동명    27183 non-null  object\n",
      " 3   업종명     27183 non-null  object\n",
      " 4   성별      27183 non-null  object\n",
      " 5   이용자수    27183 non-null  int64 \n",
      " 6   이용금액    27183 non-null  int64 \n",
      "dtypes: int64(2), object(5)\n",
      "memory usage: 1.5+ MB\n"
     ]
    }
   ],
   "source": [
    "jeju_reg_18_df.info()"
   ],
   "metadata": {
    "collapsed": false,
    "ExecuteTime": {
     "end_time": "2024-03-02T15:32:43.484633Z",
     "start_time": "2024-03-02T15:32:43.451298Z"
    }
   },
   "id": "5b16c47a459494e1",
   "execution_count": 11
  },
  {
   "cell_type": "code",
   "outputs": [
    {
     "data": {
      "text/plain": "연월      0\n시군구명    0\n읍면동명    0\n업종명     0\n성별      0\n이용자수    0\n이용금액    0\ndtype: int64"
     },
     "execution_count": 12,
     "metadata": {},
     "output_type": "execute_result"
    }
   ],
   "source": [
    "jeju_reg_18_df.isnull().sum()"
   ],
   "metadata": {
    "collapsed": false,
    "ExecuteTime": {
     "end_time": "2024-03-02T15:32:43.517437Z",
     "start_time": "2024-03-02T15:32:43.486824Z"
    }
   },
   "id": "1b88ccf208dceb8a",
   "execution_count": 12
  },
  {
   "cell_type": "markdown",
   "source": [
    "결측치 없음 "
   ],
   "metadata": {
    "collapsed": false
   },
   "id": "eaafbc8b45449878"
  },
  {
   "cell_type": "code",
   "outputs": [
    {
     "name": "stdout",
     "output_type": "stream",
     "text": [
      "<class 'pandas.core.frame.DataFrame'>\n",
      "RangeIndex: 527026 entries, 0 to 527025\n",
      "Data columns (total 6 columns):\n",
      " #   Column  Non-Null Count   Dtype \n",
      "---  ------  --------------   ----- \n",
      " 0   연월일     527026 non-null  int64 \n",
      " 1   시군구명    527026 non-null  object\n",
      " 2   읍면동명    527026 non-null  object\n",
      " 3   성별      527026 non-null  object\n",
      " 4   연령대     527026 non-null  object\n",
      " 5   방문인구    527026 non-null  int64 \n",
      "dtypes: int64(2), object(4)\n",
      "memory usage: 24.1+ MB\n"
     ]
    }
   ],
   "source": [
    "jeju_pop_df.info()"
   ],
   "metadata": {
    "collapsed": false,
    "ExecuteTime": {
     "end_time": "2024-03-02T15:32:44.031990Z",
     "start_time": "2024-03-02T15:32:43.519394Z"
    }
   },
   "id": "be5974914f9720d3",
   "execution_count": 13
  },
  {
   "cell_type": "code",
   "outputs": [
    {
     "data": {
      "text/plain": "연월일     0\n시군구명    0\n읍면동명    0\n성별      0\n연령대     0\n방문인구    0\ndtype: int64"
     },
     "execution_count": 14,
     "metadata": {},
     "output_type": "execute_result"
    }
   ],
   "source": [
    "jeju_pop_df.isnull().sum()"
   ],
   "metadata": {
    "collapsed": false,
    "ExecuteTime": {
     "end_time": "2024-03-02T15:32:44.488786Z",
     "start_time": "2024-03-02T15:32:44.034519Z"
    }
   },
   "id": "a0333d44e3c37e7d",
   "execution_count": 14
  },
  {
   "cell_type": "markdown",
   "source": [
    "결측치 없음 "
   ],
   "metadata": {
    "collapsed": false
   },
   "id": "380500026b133ca8"
  },
  {
   "cell_type": "code",
   "outputs": [],
   "source": [
    "#### 2017년, 2018년 데이터 비교 및 전처리 \n",
    "#이를 위해, 각 DataFrame에 있는 object 타입 컬럼이 어떤 값으로 이루어져 있는지 비교해 볼 건데요. 아래와 같이  \n",
    "#print_unique_values()라는 함수를 만들어서 쓸 겁니다. 이 함수를 통해 각 컬럼의 unique 한 값의 개수와 종류를 출력해서 볼 수 있어요.\n",
    "\n",
    "def unique_value(df):\n",
    "    non_numeric_cols = df.columns[df.dtypes == 'object'] # Object 값만 추출 \n",
    "    for col in non_numeric_cols:\n",
    "        print(f'{col} unique 값: {df[col].nunique()}')\n",
    "        # print(f'{col} 컬럼의 unique 값 개수: {df[col].nunique()}')\n",
    "        print(sorted(df[col].unique()), '\\n')\n",
    "    "
   ],
   "metadata": {
    "collapsed": false,
    "ExecuteTime": {
     "end_time": "2024-03-02T15:32:44.496850Z",
     "start_time": "2024-03-02T15:32:44.491040Z"
    }
   },
   "id": "63cef01a56ab2d46",
   "execution_count": 15
  },
  {
   "cell_type": "code",
   "outputs": [
    {
     "name": "stdout",
     "output_type": "stream",
     "text": [
      "연월 unique 값: 12\n",
      "['2017-01-01', '2017-02-01', '2017-03-01', '2017-04-01', '2017-05-01', '2017-06-01', '2017-07-01', '2017-08-01', '2017-09-01', '2017-10-01', '2017-11-01', '2017-12-01'] \n",
      "\n",
      "시군구명 unique 값: 2\n",
      "['서귀포시', '제주시'] \n",
      "\n",
      "읍면동명 unique 값: 43\n",
      "['건입동', '구좌읍', '남원읍', '노형동', '대륜동', '대정읍', '대천동', '도두동', '동홍동', '봉개동', '삼도1동', '삼도2동', '삼양동', '서홍동', '성산읍', '송산동', '아라동', '안덕면', '애월읍', '연동', '영천동', '예래동', '오라동', '외도동', '용담1동', '용담2동', '우도면', '이도1동', '이도2동', '이호동', '일도1동', '일도2동', '정방동', '조천읍', '중문동', '중앙동', '천지동', '추자면', '표선면', '한경면', '한림읍', '화북동', '효돈동'] \n",
      "\n",
      "업종명 unique 값: 41\n",
      "['건강보조식품 소매업', '골프장 운영업', '과실 및 채소 소매업', '관광 민예품 및 선물용품 소매업', '그외 기타 분류안된 오락관련 서비스업', '그외 기타 스포츠시설 운영업', '그외 기타 종합 소매업', '기타 갬블링 및 베팅업', '기타 대형 종합 소매업', '기타 수상오락 서비스업', '기타 외국식 음식점업', '기타 주점업', '기타음식료품위주종합소매업', '내항 여객 운송업', '마사지업', '면세점', '버스 운송업', '비알콜 음료점업', '빵 및 과자류 소매업', '서양식 음식점업', '수산물 소매업', '슈퍼마켓', '스포츠 및 레크레이션 용품 임대업', '여관업', '여행사업', '욕탕업', '육류 소매업', '일반유흥 주점업', '일식 음식점업', '자동차 임대업', '전시 및 행사 대행업', '정기 항공 운송업', '중식 음식점업', '차량용 가스 충전업', '차량용 주유소 운영업', '체인화 편의점', '피자, 햄버거, 샌드위치 및 유사 음식점업', '한식 음식점업', '호텔업', '화장품 및 방향제 소매업', '휴양콘도 운영업'] \n",
      "\n",
      "성별 unique 값: 2\n",
      "['남성', '여성'] \n"
     ]
    }
   ],
   "source": [
    "unique_value(jeju_reg_17_df)"
   ],
   "metadata": {
    "collapsed": false,
    "ExecuteTime": {
     "end_time": "2024-03-02T15:32:44.524320Z",
     "start_time": "2024-03-02T15:32:44.498709Z"
    }
   },
   "id": "a54c139e23679230",
   "execution_count": 16
  },
  {
   "cell_type": "code",
   "outputs": [
    {
     "name": "stdout",
     "output_type": "stream",
     "text": [
      "연월 unique 값: 12\n",
      "['2018-01-01', '2018-02-01', '2018-03-01', '2018-04-01', '2018-05-01', '2018-06-01', '2018-07-01', '2018-08-01', '2018-09-01', '2018-10-01', '2018-11-01', '2018-12-01'] \n",
      "\n",
      "시군구명 unique 값: 2\n",
      "['서귀포시', '제주시'] \n",
      "\n",
      "읍면동명 unique 값: 43\n",
      "['건입동', '구좌읍', '남원읍', '노형동', '대륜동', '대정읍', '대천동', '도두동', '동홍동', '봉개동', '삼도1동', '삼도2동', '삼양동', '서홍동', '성산읍', '송산동', '아라동', '안덕면', '애월읍', '연동', '영천동', '예래동', '오라동', '외도동', '용담1동', '용담2동', '우도면', '이도1동', '이도2동', '이호동', '일도1동', '일도2동', '정방동', '조천읍', '중문동', '중앙동', '천지동', '추자면', '표선면', '한경면', '한림읍', '화북동', '효돈동'] \n",
      "\n",
      "업종명 unique 값: 41\n",
      "['건강보조식품 소매업', '골프장 운영업', '과실 및 채소 소매업', '관광 민예품 및 선물용품 소매업', '그외 기타 분류안된 오락관련 서비스업', '그외 기타 스포츠시설 운영업', '그외 기타 종합 소매업', '기타 대형 종합 소매업', '기타 수상오락 서비스업', '기타 외국식 음식점업', '기타 주점업', '기타음식료품위주종합소매업', '내항 여객 운송업', '마사지업', '면세점', '버스 운송업', '비알콜 음료점업', '빵 및 과자류 소매업', '서양식 음식점업', '수산물 소매업', '슈퍼마켓', '스포츠 및 레크레이션 용품 임대업', '여관업', '여행사업', '욕탕업', '육류 소매업', '일반유흥 주점업', '일식 음식점업', '자동차 임대업', '전시 및 행사 대행업', '정기 항공 운송업', '중식 음식점업', '차량용 가스 충전업', '차량용 주유소 운영업', '체인화 편의점', '택시 운송업', '피자, 햄버거, 샌드위치 및 유사 음식점업', '한식 음식점업', '호텔업', '화장품 및 방향제 소매업', '휴양콘도 운영업'] \n",
      "\n",
      "성별 unique 값: 2\n",
      "['남성', '여성'] \n"
     ]
    }
   ],
   "source": [
    "unique_value(jeju_reg_18_df)"
   ],
   "metadata": {
    "collapsed": false,
    "ExecuteTime": {
     "end_time": "2024-03-02T15:32:44.552621Z",
     "start_time": "2024-03-02T15:32:44.526241Z"
    }
   },
   "id": "9fb2b9b793f9b1cf",
   "execution_count": 17
  },
  {
   "cell_type": "code",
   "outputs": [
    {
     "name": "stdout",
     "output_type": "stream",
     "text": [
      "시군구명 unique 값: 2\n",
      "['서귀포시', '제주시'] \n",
      "\n",
      "읍면동명 unique 값: 43\n",
      "['건입동', '구좌읍', '남원읍', '노형동', '대륜동', '대정읍', '대천동', '도두동', '동홍동', '봉개동', '삼도1동', '삼도2동', '삼양동', '서홍동', '성산읍', '송산동', '아라동', '안덕면', '애월읍', '연동', '영천동', '예래동', '오라동', '외도동', '용담1동', '용담2동', '우도면', '이도1동', '이도2동', '이호동', '일도1동', '일도2동', '정방동', '조천읍', '중문동', '중앙동', '천지동', '추자면', '표선면', '한경면', '한림읍', '화북동', '효돈동'] \n",
      "성별 unique 값: 2\n",
      "['남', '여'] \n",
      "\n",
      "연령대 unique 값: 9\n",
      "['10대', '10세미만', '20대', '30대', '40대', '50대', '60대', '70대', '80대이상'] \n"
     ]
    }
   ],
   "source": [
    "unique_value(jeju_pop_df)"
   ],
   "metadata": {
    "collapsed": false,
    "ExecuteTime": {
     "end_time": "2024-03-02T15:32:44.992712Z",
     "start_time": "2024-03-02T15:32:44.553922Z"
    }
   },
   "id": "48c075868bf83d4b",
   "execution_count": 18
  },
  {
   "cell_type": "markdown",
   "source": [
    "#### 업종명: 2017년과 2018년도 unique 값 비교 & drop"
   ],
   "metadata": {
    "collapsed": false
   },
   "id": "161ea8bdb22489ca"
  },
  {
   "cell_type": "code",
   "outputs": [
    {
     "name": "stdout",
     "output_type": "stream",
     "text": [
      "only 2017: 기타 갬블링 및 베팅업\n",
      "only 2018: 택시 운송업\n"
     ]
    }
   ],
   "source": [
    "# 2017에만 있는 값\n",
    "for item in jeju_reg_17_df['업종명'].unique():\n",
    "    if item not in jeju_reg_18_df['업종명'].unique():\n",
    "        print(f'only 2017: {item}')\n",
    "        \n",
    "# 2018에만 있는 값\n",
    "for item in jeju_reg_18_df['업종명'].unique():\n",
    "    if item not in jeju_reg_17_df['업종명'].unique():\n",
    "        print(f'only 2018: {item}')        "
   ],
   "metadata": {
    "collapsed": false,
    "ExecuteTime": {
     "end_time": "2024-03-02T15:32:45.260041Z",
     "start_time": "2024-03-02T15:32:44.995136Z"
    }
   },
   "id": "fe51ec48aa589a37",
   "execution_count": 19
  },
  {
   "cell_type": "code",
   "outputs": [
    {
     "name": "stdout",
     "output_type": "stream",
     "text": [
      "(0, 7)\n",
      "(4, 7)\n"
     ]
    }
   ],
   "source": [
    "# 개수 확인하고 제외하기 \n",
    "print(jeju_reg_17_df[jeju_reg_17_df['업종명'] == '기타 갬블링 및 배팅업'].shape) # 왜 0이 나올까~~ \n",
    "print(jeju_reg_18_df[jeju_reg_18_df['업종명'] == '택시 운송업'].shape)\n"
   ],
   "metadata": {
    "collapsed": false,
    "ExecuteTime": {
     "end_time": "2024-03-02T15:32:45.272375Z",
     "start_time": "2024-03-02T15:32:45.261528Z"
    }
   },
   "id": "461d085b31632df",
   "execution_count": 20
  },
  {
   "cell_type": "code",
   "outputs": [],
   "source": [
    "# 갬블링, 택시 운송업 지우기 \n",
    "jeju_reg_17_df = jeju_reg_17_df[jeju_reg_17_df['업종명'] != '기타 갬블링 및 베팅업']\n",
    "jeju_reg_18_df = jeju_reg_18_df[jeju_reg_18_df['업종명'] != '택시 운송업']\n"
   ],
   "metadata": {
    "collapsed": false,
    "ExecuteTime": {
     "end_time": "2024-03-02T15:32:45.285636Z",
     "start_time": "2024-03-02T15:32:45.274042Z"
    }
   },
   "id": "7d398262e24c6989",
   "execution_count": 21
  },
  {
   "cell_type": "markdown",
   "source": [
    "#### 데이터 프레입 합치기"
   ],
   "metadata": {
    "collapsed": false
   },
   "id": "85fa9476e37e2588"
  },
  {
   "cell_type": "markdown",
   "source": [
    "2017년도 df와 2018년도 df를 하나의 df로 합치기"
   ],
   "metadata": {
    "collapsed": false
   },
   "id": "f3523227eac0ac2f"
  },
  {
   "cell_type": "code",
   "outputs": [
    {
     "data": {
      "text/plain": "           연월 시군구명  읍면동명                 업종명  성별  이용자수       이용금액\n0  2018-01-01  제주시   아라동         차량용 주유소 운영업  남성  3954  205339045\n1  2018-01-01  제주시  삼도1동         차량용 주유소 운영업  남성   490   29469792\n2  2018-01-01  제주시  삼도2동              육류 소매업  여성    89    2386740\n3  2018-01-01  제주시  삼도1동  스포츠 및 레크레이션 용품 임대업  남성   106   12517300\n4  2018-01-01  제주시  삼도1동             수산물 소매업  남성    37    2621000",
      "text/html": "<div>\n<style scoped>\n    .dataframe tbody tr th:only-of-type {\n        vertical-align: middle;\n    }\n\n    .dataframe tbody tr th {\n        vertical-align: top;\n    }\n\n    .dataframe thead th {\n        text-align: right;\n    }\n</style>\n<table border=\"1\" class=\"dataframe\">\n  <thead>\n    <tr style=\"text-align: right;\">\n      <th></th>\n      <th>연월</th>\n      <th>시군구명</th>\n      <th>읍면동명</th>\n      <th>업종명</th>\n      <th>성별</th>\n      <th>이용자수</th>\n      <th>이용금액</th>\n    </tr>\n  </thead>\n  <tbody>\n    <tr>\n      <th>0</th>\n      <td>2018-01-01</td>\n      <td>제주시</td>\n      <td>아라동</td>\n      <td>차량용 주유소 운영업</td>\n      <td>남성</td>\n      <td>3954</td>\n      <td>205339045</td>\n    </tr>\n    <tr>\n      <th>1</th>\n      <td>2018-01-01</td>\n      <td>제주시</td>\n      <td>삼도1동</td>\n      <td>차량용 주유소 운영업</td>\n      <td>남성</td>\n      <td>490</td>\n      <td>29469792</td>\n    </tr>\n    <tr>\n      <th>2</th>\n      <td>2018-01-01</td>\n      <td>제주시</td>\n      <td>삼도2동</td>\n      <td>육류 소매업</td>\n      <td>여성</td>\n      <td>89</td>\n      <td>2386740</td>\n    </tr>\n    <tr>\n      <th>3</th>\n      <td>2018-01-01</td>\n      <td>제주시</td>\n      <td>삼도1동</td>\n      <td>스포츠 및 레크레이션 용품 임대업</td>\n      <td>남성</td>\n      <td>106</td>\n      <td>12517300</td>\n    </tr>\n    <tr>\n      <th>4</th>\n      <td>2018-01-01</td>\n      <td>제주시</td>\n      <td>삼도1동</td>\n      <td>수산물 소매업</td>\n      <td>남성</td>\n      <td>37</td>\n      <td>2621000</td>\n    </tr>\n  </tbody>\n</table>\n</div>"
     },
     "execution_count": 22,
     "metadata": {},
     "output_type": "execute_result"
    }
   ],
   "source": [
    "df = pd.concat([jeju_reg_18_df, jeju_reg_17_df])\n",
    "df.head()"
   ],
   "metadata": {
    "collapsed": false,
    "ExecuteTime": {
     "end_time": "2024-03-02T15:32:45.302785Z",
     "start_time": "2024-03-02T15:32:45.291782Z"
    }
   },
   "id": "34e9b4421d351e1c",
   "execution_count": 22
  },
  {
   "cell_type": "code",
   "outputs": [
    {
     "data": {
      "text/plain": "                연월   시군구명   읍면동명      업종명     성별          이용자수          이용금액\ncount        54146  54146  54146    54146  54146  54146.000000  5.414600e+04\nunique          24      2     43       40      2           NaN           NaN\ntop     2018-09-01    제주시    노형동  체인화 편의점     남성           NaN           NaN\nfreq          2284  32299   1607     2064  27160           NaN           NaN\nmean           NaN    NaN    NaN      NaN    NaN   1715.253740  6.264114e+07\nstd            NaN    NaN    NaN      NaN    NaN   4356.928964  1.944597e+08\nmin            NaN    NaN    NaN      NaN    NaN      1.000000  1.000000e+01\n25%            NaN    NaN    NaN      NaN    NaN     44.000000  2.675588e+06\n50%            NaN    NaN    NaN      NaN    NaN    284.000000  1.222110e+07\n75%            NaN    NaN    NaN      NaN    NaN   1336.000000  4.923176e+07\nmax            NaN    NaN    NaN      NaN    NaN  63621.000000  5.092990e+09",
      "text/html": "<div>\n<style scoped>\n    .dataframe tbody tr th:only-of-type {\n        vertical-align: middle;\n    }\n\n    .dataframe tbody tr th {\n        vertical-align: top;\n    }\n\n    .dataframe thead th {\n        text-align: right;\n    }\n</style>\n<table border=\"1\" class=\"dataframe\">\n  <thead>\n    <tr style=\"text-align: right;\">\n      <th></th>\n      <th>연월</th>\n      <th>시군구명</th>\n      <th>읍면동명</th>\n      <th>업종명</th>\n      <th>성별</th>\n      <th>이용자수</th>\n      <th>이용금액</th>\n    </tr>\n  </thead>\n  <tbody>\n    <tr>\n      <th>count</th>\n      <td>54146</td>\n      <td>54146</td>\n      <td>54146</td>\n      <td>54146</td>\n      <td>54146</td>\n      <td>54146.000000</td>\n      <td>5.414600e+04</td>\n    </tr>\n    <tr>\n      <th>unique</th>\n      <td>24</td>\n      <td>2</td>\n      <td>43</td>\n      <td>40</td>\n      <td>2</td>\n      <td>NaN</td>\n      <td>NaN</td>\n    </tr>\n    <tr>\n      <th>top</th>\n      <td>2018-09-01</td>\n      <td>제주시</td>\n      <td>노형동</td>\n      <td>체인화 편의점</td>\n      <td>남성</td>\n      <td>NaN</td>\n      <td>NaN</td>\n    </tr>\n    <tr>\n      <th>freq</th>\n      <td>2284</td>\n      <td>32299</td>\n      <td>1607</td>\n      <td>2064</td>\n      <td>27160</td>\n      <td>NaN</td>\n      <td>NaN</td>\n    </tr>\n    <tr>\n      <th>mean</th>\n      <td>NaN</td>\n      <td>NaN</td>\n      <td>NaN</td>\n      <td>NaN</td>\n      <td>NaN</td>\n      <td>1715.253740</td>\n      <td>6.264114e+07</td>\n    </tr>\n    <tr>\n      <th>std</th>\n      <td>NaN</td>\n      <td>NaN</td>\n      <td>NaN</td>\n      <td>NaN</td>\n      <td>NaN</td>\n      <td>4356.928964</td>\n      <td>1.944597e+08</td>\n    </tr>\n    <tr>\n      <th>min</th>\n      <td>NaN</td>\n      <td>NaN</td>\n      <td>NaN</td>\n      <td>NaN</td>\n      <td>NaN</td>\n      <td>1.000000</td>\n      <td>1.000000e+01</td>\n    </tr>\n    <tr>\n      <th>25%</th>\n      <td>NaN</td>\n      <td>NaN</td>\n      <td>NaN</td>\n      <td>NaN</td>\n      <td>NaN</td>\n      <td>44.000000</td>\n      <td>2.675588e+06</td>\n    </tr>\n    <tr>\n      <th>50%</th>\n      <td>NaN</td>\n      <td>NaN</td>\n      <td>NaN</td>\n      <td>NaN</td>\n      <td>NaN</td>\n      <td>284.000000</td>\n      <td>1.222110e+07</td>\n    </tr>\n    <tr>\n      <th>75%</th>\n      <td>NaN</td>\n      <td>NaN</td>\n      <td>NaN</td>\n      <td>NaN</td>\n      <td>NaN</td>\n      <td>1336.000000</td>\n      <td>4.923176e+07</td>\n    </tr>\n    <tr>\n      <th>max</th>\n      <td>NaN</td>\n      <td>NaN</td>\n      <td>NaN</td>\n      <td>NaN</td>\n      <td>NaN</td>\n      <td>63621.000000</td>\n      <td>5.092990e+09</td>\n    </tr>\n  </tbody>\n</table>\n</div>"
     },
     "execution_count": 23,
     "metadata": {},
     "output_type": "execute_result"
    }
   ],
   "source": [
    "df.describe(include='all')"
   ],
   "metadata": {
    "collapsed": false,
    "ExecuteTime": {
     "end_time": "2024-03-02T15:32:45.365064Z",
     "start_time": "2024-03-02T15:32:45.304218Z"
    }
   },
   "id": "3637ac7f214ebc9d",
   "execution_count": 23
  },
  {
   "cell_type": "code",
   "outputs": [
    {
     "data": {
      "text/plain": "(54146, 7)"
     },
     "execution_count": 24,
     "metadata": {},
     "output_type": "execute_result"
    }
   ],
   "source": [
    "df.shape"
   ],
   "metadata": {
    "collapsed": false,
    "ExecuteTime": {
     "end_time": "2024-03-02T15:32:45.373019Z",
     "start_time": "2024-03-02T15:32:45.366669Z"
    }
   },
   "id": "ccf109ad1c5a8b5",
   "execution_count": 24
  },
  {
   "cell_type": "markdown",
   "source": [
    "#### 연월 str 슬라이싱"
   ],
   "metadata": {
    "collapsed": false
   },
   "id": "cea82215f5c9dfa2"
  },
  {
   "cell_type": "code",
   "outputs": [
    {
     "data": {
      "text/plain": "        연월 시군구명  읍면동명                 업종명  성별  이용자수       이용금액\n0  2018-01  제주시   아라동         차량용 주유소 운영업  남성  3954  205339045\n1  2018-01  제주시  삼도1동         차량용 주유소 운영업  남성   490   29469792\n2  2018-01  제주시  삼도2동              육류 소매업  여성    89    2386740\n3  2018-01  제주시  삼도1동  스포츠 및 레크레이션 용품 임대업  남성   106   12517300\n4  2018-01  제주시  삼도1동             수산물 소매업  남성    37    2621000",
      "text/html": "<div>\n<style scoped>\n    .dataframe tbody tr th:only-of-type {\n        vertical-align: middle;\n    }\n\n    .dataframe tbody tr th {\n        vertical-align: top;\n    }\n\n    .dataframe thead th {\n        text-align: right;\n    }\n</style>\n<table border=\"1\" class=\"dataframe\">\n  <thead>\n    <tr style=\"text-align: right;\">\n      <th></th>\n      <th>연월</th>\n      <th>시군구명</th>\n      <th>읍면동명</th>\n      <th>업종명</th>\n      <th>성별</th>\n      <th>이용자수</th>\n      <th>이용금액</th>\n    </tr>\n  </thead>\n  <tbody>\n    <tr>\n      <th>0</th>\n      <td>2018-01</td>\n      <td>제주시</td>\n      <td>아라동</td>\n      <td>차량용 주유소 운영업</td>\n      <td>남성</td>\n      <td>3954</td>\n      <td>205339045</td>\n    </tr>\n    <tr>\n      <th>1</th>\n      <td>2018-01</td>\n      <td>제주시</td>\n      <td>삼도1동</td>\n      <td>차량용 주유소 운영업</td>\n      <td>남성</td>\n      <td>490</td>\n      <td>29469792</td>\n    </tr>\n    <tr>\n      <th>2</th>\n      <td>2018-01</td>\n      <td>제주시</td>\n      <td>삼도2동</td>\n      <td>육류 소매업</td>\n      <td>여성</td>\n      <td>89</td>\n      <td>2386740</td>\n    </tr>\n    <tr>\n      <th>3</th>\n      <td>2018-01</td>\n      <td>제주시</td>\n      <td>삼도1동</td>\n      <td>스포츠 및 레크레이션 용품 임대업</td>\n      <td>남성</td>\n      <td>106</td>\n      <td>12517300</td>\n    </tr>\n    <tr>\n      <th>4</th>\n      <td>2018-01</td>\n      <td>제주시</td>\n      <td>삼도1동</td>\n      <td>수산물 소매업</td>\n      <td>남성</td>\n      <td>37</td>\n      <td>2621000</td>\n    </tr>\n  </tbody>\n</table>\n</div>"
     },
     "execution_count": 25,
     "metadata": {},
     "output_type": "execute_result"
    }
   ],
   "source": [
    "df['연월'] = df['연월'].str[:7]\n",
    "df.head()"
   ],
   "metadata": {
    "collapsed": false,
    "ExecuteTime": {
     "end_time": "2024-03-02T15:32:45.406868Z",
     "start_time": "2024-03-02T15:32:45.374125Z"
    }
   },
   "id": "9de13462138d78c3",
   "execution_count": 25
  },
  {
   "cell_type": "markdown",
   "source": [
    "### 3. 데이터 분석"
   ],
   "metadata": {
    "collapsed": false
   },
   "id": "48f51d80afc25893"
  },
  {
   "cell_type": "markdown",
   "source": [
    "#### 3-1. 카드 이용이 많은 업종 확인하기"
   ],
   "metadata": {
    "collapsed": false
   },
   "id": "8484d030fad30911"
  },
  {
   "cell_type": "markdown",
   "source": [],
   "metadata": {
    "collapsed": false
   },
   "id": "5c3855dd88ee55bd"
  },
  {
   "cell_type": "code",
   "outputs": [
    {
     "data": {
      "text/plain": "            업종명      이용자수          이용금액\n36      한식 음식점업  18828766  764903591034\n20         슈퍼마켓  11427536  303567124207\n33  차량용 주유소 운영업   5683264  302282701948\n14          면세점   2122760  216084015155\n34      체인화 편의점  22577070  208385597308",
      "text/html": "<div>\n<style scoped>\n    .dataframe tbody tr th:only-of-type {\n        vertical-align: middle;\n    }\n\n    .dataframe tbody tr th {\n        vertical-align: top;\n    }\n\n    .dataframe thead th {\n        text-align: right;\n    }\n</style>\n<table border=\"1\" class=\"dataframe\">\n  <thead>\n    <tr style=\"text-align: right;\">\n      <th></th>\n      <th>업종명</th>\n      <th>이용자수</th>\n      <th>이용금액</th>\n    </tr>\n  </thead>\n  <tbody>\n    <tr>\n      <th>36</th>\n      <td>한식 음식점업</td>\n      <td>18828766</td>\n      <td>764903591034</td>\n    </tr>\n    <tr>\n      <th>20</th>\n      <td>슈퍼마켓</td>\n      <td>11427536</td>\n      <td>303567124207</td>\n    </tr>\n    <tr>\n      <th>33</th>\n      <td>차량용 주유소 운영업</td>\n      <td>5683264</td>\n      <td>302282701948</td>\n    </tr>\n    <tr>\n      <th>14</th>\n      <td>면세점</td>\n      <td>2122760</td>\n      <td>216084015155</td>\n    </tr>\n    <tr>\n      <th>34</th>\n      <td>체인화 편의점</td>\n      <td>22577070</td>\n      <td>208385597308</td>\n    </tr>\n  </tbody>\n</table>\n</div>"
     },
     "execution_count": 26,
     "metadata": {},
     "output_type": "execute_result"
    }
   ],
   "source": [
    "#일단 이용 금액이 많은 업종은 무엇인지 알아볼 건데요. \n",
    "usebybiz = df.groupby('업종명').sum().reset_index()\n",
    "usebybiz.sort_values(by='이용금액', ascending = False).head()"
   ],
   "metadata": {
    "collapsed": false,
    "ExecuteTime": {
     "end_time": "2024-03-02T15:32:45.429410Z",
     "start_time": "2024-03-02T15:32:45.409274Z"
    }
   },
   "id": "cf0160de7c36c15f",
   "execution_count": 26
  },
  {
   "cell_type": "markdown",
   "source": [
    "- 한식 음식점업이 이용금액이 가장 크다. "
   ],
   "metadata": {
    "collapsed": false
   },
   "id": "5dc30697c827c401"
  },
  {
   "cell_type": "code",
   "outputs": [
    {
     "data": {
      "text/plain": "            업종명      이용자수          이용금액\n34      체인화 편의점  22577070  208385597308\n36      한식 음식점업  18828766  764903591034\n20         슈퍼마켓  11427536  303567124207\n33  차량용 주유소 운영업   5683264  302282701948\n18     서양식 음식점업   3483836   82613944504",
      "text/html": "<div>\n<style scoped>\n    .dataframe tbody tr th:only-of-type {\n        vertical-align: middle;\n    }\n\n    .dataframe tbody tr th {\n        vertical-align: top;\n    }\n\n    .dataframe thead th {\n        text-align: right;\n    }\n</style>\n<table border=\"1\" class=\"dataframe\">\n  <thead>\n    <tr style=\"text-align: right;\">\n      <th></th>\n      <th>업종명</th>\n      <th>이용자수</th>\n      <th>이용금액</th>\n    </tr>\n  </thead>\n  <tbody>\n    <tr>\n      <th>34</th>\n      <td>체인화 편의점</td>\n      <td>22577070</td>\n      <td>208385597308</td>\n    </tr>\n    <tr>\n      <th>36</th>\n      <td>한식 음식점업</td>\n      <td>18828766</td>\n      <td>764903591034</td>\n    </tr>\n    <tr>\n      <th>20</th>\n      <td>슈퍼마켓</td>\n      <td>11427536</td>\n      <td>303567124207</td>\n    </tr>\n    <tr>\n      <th>33</th>\n      <td>차량용 주유소 운영업</td>\n      <td>5683264</td>\n      <td>302282701948</td>\n    </tr>\n    <tr>\n      <th>18</th>\n      <td>서양식 음식점업</td>\n      <td>3483836</td>\n      <td>82613944504</td>\n    </tr>\n  </tbody>\n</table>\n</div>"
     },
     "execution_count": 27,
     "metadata": {},
     "output_type": "execute_result"
    }
   ],
   "source": [
    "# 이용자수이 많은 업종은 무엇인지 알아볼 건데요. \n",
    "usebybiz.sort_values(by='이용자수', ascending = False).head()"
   ],
   "metadata": {
    "collapsed": false,
    "ExecuteTime": {
     "end_time": "2024-03-02T15:32:45.440170Z",
     "start_time": "2024-03-02T15:32:45.431384Z"
    }
   },
   "id": "218e09a34955d536",
   "execution_count": 27
  },
  {
   "cell_type": "markdown",
   "source": [
    "- 이용자수가 가장 많은 업종은 체인화 편의점"
   ],
   "metadata": {
    "collapsed": false
   },
   "id": "9dafb56e27424bf1"
  },
  {
   "cell_type": "code",
   "outputs": [],
   "source": [
    "pd.options.display.float_format = '{:.3f}'.format"
   ],
   "metadata": {
    "collapsed": false,
    "ExecuteTime": {
     "end_time": "2024-03-02T15:32:45.445020Z",
     "start_time": "2024-03-02T15:32:45.441760Z"
    }
   },
   "id": "9587c216ed5d8141",
   "execution_count": 28
  },
  {
   "cell_type": "code",
   "outputs": [
    {
     "data": {
      "text/plain": "             업종명    이용자수          이용금액     인당 이용금액\n15        버스 운송업       5       6564000 1312800.000\n26      일반유흥 주점업  541603  116184655729  214519.963\n37           호텔업  261891   55612663219  212350.418\n10        기타 주점업  262989   51724117734  196677.875\n8   기타 수상오락 서비스업    1188     214491300  180548.232",
      "text/html": "<div>\n<style scoped>\n    .dataframe tbody tr th:only-of-type {\n        vertical-align: middle;\n    }\n\n    .dataframe tbody tr th {\n        vertical-align: top;\n    }\n\n    .dataframe thead th {\n        text-align: right;\n    }\n</style>\n<table border=\"1\" class=\"dataframe\">\n  <thead>\n    <tr style=\"text-align: right;\">\n      <th></th>\n      <th>업종명</th>\n      <th>이용자수</th>\n      <th>이용금액</th>\n      <th>인당 이용금액</th>\n    </tr>\n  </thead>\n  <tbody>\n    <tr>\n      <th>15</th>\n      <td>버스 운송업</td>\n      <td>5</td>\n      <td>6564000</td>\n      <td>1312800.000</td>\n    </tr>\n    <tr>\n      <th>26</th>\n      <td>일반유흥 주점업</td>\n      <td>541603</td>\n      <td>116184655729</td>\n      <td>214519.963</td>\n    </tr>\n    <tr>\n      <th>37</th>\n      <td>호텔업</td>\n      <td>261891</td>\n      <td>55612663219</td>\n      <td>212350.418</td>\n    </tr>\n    <tr>\n      <th>10</th>\n      <td>기타 주점업</td>\n      <td>262989</td>\n      <td>51724117734</td>\n      <td>196677.875</td>\n    </tr>\n    <tr>\n      <th>8</th>\n      <td>기타 수상오락 서비스업</td>\n      <td>1188</td>\n      <td>214491300</td>\n      <td>180548.232</td>\n    </tr>\n  </tbody>\n</table>\n</div>"
     },
     "execution_count": 29,
     "metadata": {},
     "output_type": "execute_result"
    }
   ],
   "source": [
    "# 1인당 사용금애기 높은 업종 확인하기 \n",
    "usebybiz['인당 이용금액'] = usebybiz['이용금액'] / usebybiz['이용자수']\n",
    "usebybiz.sort_values(by='인당 이용금액', ascending = False).head()"
   ],
   "metadata": {
    "collapsed": false,
    "ExecuteTime": {
     "end_time": "2024-03-02T15:32:45.458685Z",
     "start_time": "2024-03-02T15:32:45.448253Z"
    }
   },
   "id": "cf17b443373affb6",
   "execution_count": 29
  },
  {
   "cell_type": "markdown",
   "source": [
    "버스 운송업은 데이터 프레임에서 제외"
   ],
   "metadata": {
    "collapsed": false
   },
   "id": "dee29e2efc92bda5"
  },
  {
   "cell_type": "code",
   "outputs": [
    {
     "data": {
      "text/plain": "                   업종명     이용자수          이용금액    인당 이용금액\n25            일반유흥 주점업   541603  116184655729 214519.963\n36                 호텔업   261891   55612663219 212350.418\n10              기타 주점업   262989   51724117734 196677.875\n8         기타 수상오락 서비스업     1188     214491300 180548.232\n0           건강보조식품 소매업    43738    7042351269 161012.192\n29           정기 항공 운송업   640930  102803758104 160397.794\n1              골프장 운영업   454602   63978385373 140734.940\n13                마사지업     3621     441834050 122019.898\n20  스포츠 및 레크레이션 용품 임대업   991236  112011498985 113001.847\n14                 면세점  2122760  216084015155 101793.898",
      "text/html": "<div>\n<style scoped>\n    .dataframe tbody tr th:only-of-type {\n        vertical-align: middle;\n    }\n\n    .dataframe tbody tr th {\n        vertical-align: top;\n    }\n\n    .dataframe thead th {\n        text-align: right;\n    }\n</style>\n<table border=\"1\" class=\"dataframe\">\n  <thead>\n    <tr style=\"text-align: right;\">\n      <th></th>\n      <th>업종명</th>\n      <th>이용자수</th>\n      <th>이용금액</th>\n      <th>인당 이용금액</th>\n    </tr>\n  </thead>\n  <tbody>\n    <tr>\n      <th>25</th>\n      <td>일반유흥 주점업</td>\n      <td>541603</td>\n      <td>116184655729</td>\n      <td>214519.963</td>\n    </tr>\n    <tr>\n      <th>36</th>\n      <td>호텔업</td>\n      <td>261891</td>\n      <td>55612663219</td>\n      <td>212350.418</td>\n    </tr>\n    <tr>\n      <th>10</th>\n      <td>기타 주점업</td>\n      <td>262989</td>\n      <td>51724117734</td>\n      <td>196677.875</td>\n    </tr>\n    <tr>\n      <th>8</th>\n      <td>기타 수상오락 서비스업</td>\n      <td>1188</td>\n      <td>214491300</td>\n      <td>180548.232</td>\n    </tr>\n    <tr>\n      <th>0</th>\n      <td>건강보조식품 소매업</td>\n      <td>43738</td>\n      <td>7042351269</td>\n      <td>161012.192</td>\n    </tr>\n    <tr>\n      <th>29</th>\n      <td>정기 항공 운송업</td>\n      <td>640930</td>\n      <td>102803758104</td>\n      <td>160397.794</td>\n    </tr>\n    <tr>\n      <th>1</th>\n      <td>골프장 운영업</td>\n      <td>454602</td>\n      <td>63978385373</td>\n      <td>140734.940</td>\n    </tr>\n    <tr>\n      <th>13</th>\n      <td>마사지업</td>\n      <td>3621</td>\n      <td>441834050</td>\n      <td>122019.898</td>\n    </tr>\n    <tr>\n      <th>20</th>\n      <td>스포츠 및 레크레이션 용품 임대업</td>\n      <td>991236</td>\n      <td>112011498985</td>\n      <td>113001.847</td>\n    </tr>\n    <tr>\n      <th>14</th>\n      <td>면세점</td>\n      <td>2122760</td>\n      <td>216084015155</td>\n      <td>101793.898</td>\n    </tr>\n  </tbody>\n</table>\n</div>"
     },
     "execution_count": 30,
     "metadata": {},
     "output_type": "execute_result"
    }
   ],
   "source": [
    "df = df[df['업종명'] != '버스 운송업']\n",
    "usebybiz = df.groupby('업종명').sum().reset_index()\n",
    "usebybiz['인당 이용금액'] = usebybiz['이용금액'] / usebybiz['이용자수']\n",
    "\n",
    "#상위 10개 업종 추출\n",
    "usebybiz.sort_values(by='인당 이용금액', ascending = False).head(10)"
   ],
   "metadata": {
    "collapsed": false,
    "ExecuteTime": {
     "end_time": "2024-03-02T15:32:45.495925Z",
     "start_time": "2024-03-02T15:32:45.461893Z"
    }
   },
   "id": "d695062d8bc177e",
   "execution_count": 30
  },
  {
   "cell_type": "code",
   "outputs": [
    {
     "data": {
      "text/plain": "<Figure size 1500x800 with 1 Axes>",
      "image/png": "[encoded data removed]"
     },
     "metadata": {},
     "output_type": "display_data"
    }
   ],
   "source": [
    "# 업종 별 이용금액 시각화 \n",
    "plt.figure(figsize=(15,8))\n",
    "sns.barplot(data = usebybiz, x = '업종명', y = '이용금액', palette = 'Set2')\n",
    "plt.xticks(rotation = 90)\n",
    "plt.gca().yaxis.set_major_formatter(plt.FuncFormatter(lambda x, _: f'{x/100000000:,.0f}'))\n",
    "plt.ylabel('이용금액(억)')\n",
    "plt.show()"
   ],
   "metadata": {
    "collapsed": false,
    "ExecuteTime": {
     "end_time": "2024-03-02T15:32:47.530821Z",
     "start_time": "2024-03-02T15:32:45.497756Z"
    }
   },
   "id": "3b8cb6e7447f2421",
   "execution_count": 31
  },
  {
   "cell_type": "markdown",
   "source": [
    "#### 3-2. 카드 이용이 많은 지역 확인하기 "
   ],
   "metadata": {
    "collapsed": false
   },
   "id": "638c2e0be9e57a8e"
  },
  {
   "cell_type": "code",
   "outputs": [
    {
     "data": {
      "text/plain": "  읍면동명     이용자수          이용금액\n0  건입동  1247860   46077137130\n1  구좌읍  1593134   48035516926\n2  남원읍  1209827   52349473146\n3  노형동  7642921  245644045189\n4  대륜동  1735095   67069487603",
      "text/html": "<div>\n<style scoped>\n    .dataframe tbody tr th:only-of-type {\n        vertical-align: middle;\n    }\n\n    .dataframe tbody tr th {\n        vertical-align: top;\n    }\n\n    .dataframe thead th {\n        text-align: right;\n    }\n</style>\n<table border=\"1\" class=\"dataframe\">\n  <thead>\n    <tr style=\"text-align: right;\">\n      <th></th>\n      <th>읍면동명</th>\n      <th>이용자수</th>\n      <th>이용금액</th>\n    </tr>\n  </thead>\n  <tbody>\n    <tr>\n      <th>0</th>\n      <td>건입동</td>\n      <td>1247860</td>\n      <td>46077137130</td>\n    </tr>\n    <tr>\n      <th>1</th>\n      <td>구좌읍</td>\n      <td>1593134</td>\n      <td>48035516926</td>\n    </tr>\n    <tr>\n      <th>2</th>\n      <td>남원읍</td>\n      <td>1209827</td>\n      <td>52349473146</td>\n    </tr>\n    <tr>\n      <th>3</th>\n      <td>노형동</td>\n      <td>7642921</td>\n      <td>245644045189</td>\n    </tr>\n    <tr>\n      <th>4</th>\n      <td>대륜동</td>\n      <td>1735095</td>\n      <td>67069487603</td>\n    </tr>\n  </tbody>\n</table>\n</div>"
     },
     "execution_count": 33,
     "metadata": {},
     "output_type": "execute_result"
    }
   ],
   "source": [
    "usebyreg = df.groupby('읍면동명').sum().reset_index()\n",
    "usebyreg.head()"
   ],
   "metadata": {
    "collapsed": false,
    "ExecuteTime": {
     "end_time": "2024-03-02T15:32:52.395647Z",
     "start_time": "2024-03-02T15:32:52.377308Z"
    }
   },
   "id": "a13e6bad932aaa38",
   "execution_count": 33
  },
  {
   "cell_type": "code",
   "outputs": [
    {
     "data": {
      "text/plain": "    읍면동명     이용자수          이용금액\n19    연동  7100596  340461915654\n25  용담2동  5820083  289912196043\n3    노형동  7642921  245644045189\n15   송산동  5468346  205357714141\n28  이도2동  6742075  201304448132\n36   천지동  3683576  132477575549\n18   애월읍  3397281  120988320522\n35   중앙동  3053162  118137020208\n32   정방동  3053162  118137020208\n31  일도2동  3145294  106631315225",
      "text/html": "<div>\n<style scoped>\n    .dataframe tbody tr th:only-of-type {\n        vertical-align: middle;\n    }\n\n    .dataframe tbody tr th {\n        vertical-align: top;\n    }\n\n    .dataframe thead th {\n        text-align: right;\n    }\n</style>\n<table border=\"1\" class=\"dataframe\">\n  <thead>\n    <tr style=\"text-align: right;\">\n      <th></th>\n      <th>읍면동명</th>\n      <th>이용자수</th>\n      <th>이용금액</th>\n    </tr>\n  </thead>\n  <tbody>\n    <tr>\n      <th>19</th>\n      <td>연동</td>\n      <td>7100596</td>\n      <td>340461915654</td>\n    </tr>\n    <tr>\n      <th>25</th>\n      <td>용담2동</td>\n      <td>5820083</td>\n      <td>289912196043</td>\n    </tr>\n    <tr>\n      <th>3</th>\n      <td>노형동</td>\n      <td>7642921</td>\n      <td>245644045189</td>\n    </tr>\n    <tr>\n      <th>15</th>\n      <td>송산동</td>\n      <td>5468346</td>\n      <td>205357714141</td>\n    </tr>\n    <tr>\n      <th>28</th>\n      <td>이도2동</td>\n      <td>6742075</td>\n      <td>201304448132</td>\n    </tr>\n    <tr>\n      <th>36</th>\n      <td>천지동</td>\n      <td>3683576</td>\n      <td>132477575549</td>\n    </tr>\n    <tr>\n      <th>18</th>\n      <td>애월읍</td>\n      <td>3397281</td>\n      <td>120988320522</td>\n    </tr>\n    <tr>\n      <th>35</th>\n      <td>중앙동</td>\n      <td>3053162</td>\n      <td>118137020208</td>\n    </tr>\n    <tr>\n      <th>32</th>\n      <td>정방동</td>\n      <td>3053162</td>\n      <td>118137020208</td>\n    </tr>\n    <tr>\n      <th>31</th>\n      <td>일도2동</td>\n      <td>3145294</td>\n      <td>106631315225</td>\n    </tr>\n  </tbody>\n</table>\n</div>"
     },
     "execution_count": 35,
     "metadata": {},
     "output_type": "execute_result"
    }
   ],
   "source": [
    "usebyreg.sort_values(by='이용금액', ascending=False).head(10)"
   ],
   "metadata": {
    "collapsed": false,
    "ExecuteTime": {
     "end_time": "2024-03-02T15:33:37.655615Z",
     "start_time": "2024-03-02T15:33:37.629016Z"
    }
   },
   "id": "a719161f0da4ed3e",
   "execution_count": 35
  },
  {
   "cell_type": "markdown",
   "source": [
    "- 연동, 용담2동, 노형동, 송산동, 이도2동이 카드사용 상위 5위를 차지함 "
   ],
   "metadata": {
    "collapsed": false
   },
   "id": "d0b68328c7ad7940"
  },
  {
   "cell_type": "code",
   "outputs": [
    {
     "data": {
      "text/plain": "    읍면동명     이용자수          이용금액\n3    노형동  7642921  245644045189\n19    연동  7100596  340461915654\n28  이도2동  6742075  201304448132\n25  용담2동  5820083  289912196043\n15   송산동  5468346  205357714141\n36   천지동  3683576  132477575549\n16   아라동  3653006   80280971143\n18   애월읍  3397281  120988320522\n31  일도2동  3145294  106631315225\n35   중앙동  3053162  118137020208",
      "text/html": "<div>\n<style scoped>\n    .dataframe tbody tr th:only-of-type {\n        vertical-align: middle;\n    }\n\n    .dataframe tbody tr th {\n        vertical-align: top;\n    }\n\n    .dataframe thead th {\n        text-align: right;\n    }\n</style>\n<table border=\"1\" class=\"dataframe\">\n  <thead>\n    <tr style=\"text-align: right;\">\n      <th></th>\n      <th>읍면동명</th>\n      <th>이용자수</th>\n      <th>이용금액</th>\n    </tr>\n  </thead>\n  <tbody>\n    <tr>\n      <th>3</th>\n      <td>노형동</td>\n      <td>7642921</td>\n      <td>245644045189</td>\n    </tr>\n    <tr>\n      <th>19</th>\n      <td>연동</td>\n      <td>7100596</td>\n      <td>340461915654</td>\n    </tr>\n    <tr>\n      <th>28</th>\n      <td>이도2동</td>\n      <td>6742075</td>\n      <td>201304448132</td>\n    </tr>\n    <tr>\n      <th>25</th>\n      <td>용담2동</td>\n      <td>5820083</td>\n      <td>289912196043</td>\n    </tr>\n    <tr>\n      <th>15</th>\n      <td>송산동</td>\n      <td>5468346</td>\n      <td>205357714141</td>\n    </tr>\n    <tr>\n      <th>36</th>\n      <td>천지동</td>\n      <td>3683576</td>\n      <td>132477575549</td>\n    </tr>\n    <tr>\n      <th>16</th>\n      <td>아라동</td>\n      <td>3653006</td>\n      <td>80280971143</td>\n    </tr>\n    <tr>\n      <th>18</th>\n      <td>애월읍</td>\n      <td>3397281</td>\n      <td>120988320522</td>\n    </tr>\n    <tr>\n      <th>31</th>\n      <td>일도2동</td>\n      <td>3145294</td>\n      <td>106631315225</td>\n    </tr>\n    <tr>\n      <th>35</th>\n      <td>중앙동</td>\n      <td>3053162</td>\n      <td>118137020208</td>\n    </tr>\n  </tbody>\n</table>\n</div>"
     },
     "execution_count": 36,
     "metadata": {},
     "output_type": "execute_result"
    }
   ],
   "source": [
    "usebyreg.sort_values(by='이용자수', ascending=False).head(10)"
   ],
   "metadata": {
    "collapsed": false,
    "ExecuteTime": {
     "end_time": "2024-03-02T15:34:35.246182Z",
     "start_time": "2024-03-02T15:34:35.216735Z"
    }
   },
   "id": "f501931d278fa321",
   "execution_count": 36
  },
  {
   "cell_type": "markdown",
   "source": [
    "- 이용금액과 다르게 이용자수는 노형동, 연동, 이도2동, 용담2동, 송산동이 상위 5위를 차지함 \n",
    "- 순서는 다르지만 상위 5위 후보는 같음 "
   ],
   "metadata": {
    "collapsed": false
   },
   "id": "3539a832089790a7"
  },
  {
   "cell_type": "markdown",
   "source": [
    "1인당 소비 금액이 많은 지역을 확인하자!"
   ],
   "metadata": {
    "collapsed": false
   },
   "id": "dec061ed45098280"
  },
  {
   "cell_type": "code",
   "outputs": [
    {
     "data": {
      "text/plain": "    읍면동명     이용자수          이용금액   인당 이용금액\n21   예래동  1259725   72430813294 57497.321\n20   영천동   652686   35970307258 55111.198\n25  용담2동  5820083  289912196043 49812.382\n19    연동  7100596  340461915654 47948.358\n30  일도1동  1161659   55313193619 47615.689",
      "text/html": "<div>\n<style scoped>\n    .dataframe tbody tr th:only-of-type {\n        vertical-align: middle;\n    }\n\n    .dataframe tbody tr th {\n        vertical-align: top;\n    }\n\n    .dataframe thead th {\n        text-align: right;\n    }\n</style>\n<table border=\"1\" class=\"dataframe\">\n  <thead>\n    <tr style=\"text-align: right;\">\n      <th></th>\n      <th>읍면동명</th>\n      <th>이용자수</th>\n      <th>이용금액</th>\n      <th>인당 이용금액</th>\n    </tr>\n  </thead>\n  <tbody>\n    <tr>\n      <th>21</th>\n      <td>예래동</td>\n      <td>1259725</td>\n      <td>72430813294</td>\n      <td>57497.321</td>\n    </tr>\n    <tr>\n      <th>20</th>\n      <td>영천동</td>\n      <td>652686</td>\n      <td>35970307258</td>\n      <td>55111.198</td>\n    </tr>\n    <tr>\n      <th>25</th>\n      <td>용담2동</td>\n      <td>5820083</td>\n      <td>289912196043</td>\n      <td>49812.382</td>\n    </tr>\n    <tr>\n      <th>19</th>\n      <td>연동</td>\n      <td>7100596</td>\n      <td>340461915654</td>\n      <td>47948.358</td>\n    </tr>\n    <tr>\n      <th>30</th>\n      <td>일도1동</td>\n      <td>1161659</td>\n      <td>55313193619</td>\n      <td>47615.689</td>\n    </tr>\n  </tbody>\n</table>\n</div>"
     },
     "execution_count": 38,
     "metadata": {},
     "output_type": "execute_result"
    }
   ],
   "source": [
    "usebyreg['인당 이용금액'] = usebyreg['이용금액'] / usebyreg['이용자수']\n",
    "usebyreg.sort_values(by='인당 이용금액', ascending = False).head()"
   ],
   "metadata": {
    "collapsed": false,
    "ExecuteTime": {
     "end_time": "2024-03-02T15:37:54.085687Z",
     "start_time": "2024-03-02T15:37:54.065554Z"
    }
   },
   "id": "f0c2ef5a8e7e388c",
   "execution_count": 38
  },
  {
   "cell_type": "markdown",
   "source": [
    "- 예래동, 영천동, 용담2동, 연동, 일도1동이 상위 5위를 차지함"
   ],
   "metadata": {
    "collapsed": false
   },
   "id": "66343763f15cee17"
  },
  {
   "cell_type": "code",
   "outputs": [],
   "source": [
    "# 240302 카드 사용수가 많은 지역까지 작업함"
   ],
   "metadata": {
    "collapsed": false
   },
   "id": "25269308cd04ce60"
  }
 ],
 "metadata": {
  "kernelspec": {
   "display_name": "Python 3",
   "language": "python",
   "name": "python3"
  },
  "language_info": {
   "codemirror_mode": {
    "name": "ipython",
    "version": 2
   },
   "file_extension": ".py",
   "mimetype": "text/x-python",
   "name": "python",
   "nbconvert_exporter": "python",
   "pygments_lexer": "ipython2",
   "version": "2.7.6"
  }
 },
 "nbformat": 4,
 "nbformat_minor": 5
}
