{
 "cells": [
  {
   "cell_type": "markdown",
   "source": [
    "### 1. 라이브러리 & 데이터 리딩"
   ],
   "metadata": {
    "collapsed": false
   },
   "id": "9e45b9cb8d8df8d1"
  },
  {
   "cell_type": "code",
   "outputs": [],
   "source": [
    "# 수치화를 위한 라이브러리 \n",
    "import pandas as pd \n",
    "import numpy as np \n",
    "\n",
    "# 시각화를 위한 라이브러리 \n",
    "import matplotlib.pyplot as plt\n",
    "import seaborn as sns"
   ],
   "metadata": {
    "collapsed": false,
    "is_executing": true
   },
   "id": "32e3ef6738020abc",
   "execution_count": null
  },
  {
   "cell_type": "code",
   "outputs": [],
   "source": [
    "# 한글 깨짐 방지\n",
    "from matplotlib import rc\n",
    "rc('font', family ='AppleGothic')"
   ],
   "metadata": {
    "collapsed": false
   },
   "id": "71e596249eb42fa7",
   "execution_count": null
  },
  {
   "cell_type": "code",
   "outputs": [],
   "source": [
    "jeju_reg_17_df = pd.read_csv('data-2/jeju_card_region_2017.csv')\n",
    "jeju_reg_18_df = pd.read_csv('data-2/jeju_card_region_2018.csv')\n",
    "jeju_pop_df = pd.read_csv('data-2/jeju_population.csv')"
   ],
   "metadata": {
    "collapsed": false
   },
   "id": "32d5e81b64798927",
   "execution_count": null
  },
  {
   "cell_type": "markdown",
   "source": [
    "### 2. 결측치 및 칼럼처리 "
   ],
   "metadata": {
    "collapsed": false
   },
   "id": "9389e60dccded85"
  },
  {
   "cell_type": "markdown",
   "source": [
    "#### 결측치 및 unique 값 확인"
   ],
   "metadata": {
    "collapsed": false
   },
   "id": "ca54c682cc011caf"
  },
  {
   "cell_type": "code",
   "outputs": [],
   "source": [
    "print(jeju_reg_17_df.shape)\n",
    "print(jeju_reg_18_df.shape)\n",
    "print(jeju_pop_df.shape)"
   ],
   "metadata": {
    "collapsed": false
   },
   "id": "6f2ab6f2553429d1",
   "execution_count": null
  },
  {
   "cell_type": "code",
   "outputs": [],
   "source": [
    "jeju_reg_17_df.head()"
   ],
   "metadata": {
    "collapsed": false
   },
   "id": "736256fc9a41e476",
   "execution_count": null
  },
  {
   "cell_type": "code",
   "outputs": [],
   "source": [
    "jeju_reg_18_df.head()"
   ],
   "metadata": {
    "collapsed": false
   },
   "id": "db7ff3145b410597",
   "execution_count": null
  },
  {
   "cell_type": "code",
   "outputs": [],
   "source": [
    "jeju_pop_df.head()\n",
    "# 연월방문 인구 데이터 "
   ],
   "metadata": {
    "collapsed": false
   },
   "id": "6fe79fd5d0a994bd",
   "execution_count": null
  },
  {
   "cell_type": "code",
   "outputs": [],
   "source": [
    "print(jeju_pop_df.loc[527025])\n",
    "# 마지막  2018년 12월 31일 자료 "
   ],
   "metadata": {
    "collapsed": false
   },
   "id": "7877973367ddeb78",
   "execution_count": null
  },
  {
   "cell_type": "code",
   "outputs": [],
   "source": [
    "jeju_reg_17_df.info()"
   ],
   "metadata": {
    "collapsed": false
   },
   "id": "801fa2206a1cb567",
   "execution_count": null
  },
  {
   "cell_type": "code",
   "outputs": [],
   "source": [
    "jeju_reg_17_df.isnull().sum()"
   ],
   "metadata": {
    "collapsed": false
   },
   "id": "1d90a2f1bea093e2",
   "execution_count": null
  },
  {
   "cell_type": "markdown",
   "source": [
    "결측치 없음 "
   ],
   "metadata": {
    "collapsed": false
   },
   "id": "ec834563a7618131"
  },
  {
   "cell_type": "code",
   "outputs": [],
   "source": [
    "jeju_reg_18_df.info()"
   ],
   "metadata": {
    "collapsed": false
   },
   "id": "5b16c47a459494e1",
   "execution_count": null
  },
  {
   "cell_type": "code",
   "outputs": [],
   "source": [
    "jeju_reg_18_df.isnull().sum()"
   ],
   "metadata": {
    "collapsed": false
   },
   "id": "1b88ccf208dceb8a",
   "execution_count": null
  },
  {
   "cell_type": "markdown",
   "source": [
    "결측치 없음 "
   ],
   "metadata": {
    "collapsed": false
   },
   "id": "eaafbc8b45449878"
  },
  {
   "cell_type": "code",
   "outputs": [],
   "source": [
    "jeju_pop_df.info()"
   ],
   "metadata": {
    "collapsed": false
   },
   "id": "be5974914f9720d3",
   "execution_count": null
  },
  {
   "cell_type": "code",
   "outputs": [],
   "source": [
    "jeju_pop_df.isnull().sum()"
   ],
   "metadata": {
    "collapsed": false
   },
   "id": "a0333d44e3c37e7d",
   "execution_count": null
  },
  {
   "cell_type": "markdown",
   "source": [
    "결측치 없음 "
   ],
   "metadata": {
    "collapsed": false
   },
   "id": "380500026b133ca8"
  },
  {
   "cell_type": "code",
   "outputs": [],
   "source": [
    "#### 2017년, 2018년 데이터 비교 및 전처리 \n",
    "#이를 위해, 각 DataFrame에 있는 object 타입 컬럼이 어떤 값으로 이루어져 있는지 비교해 볼 건데요. 아래와 같이  \n",
    "#print_unique_values()라는 함수를 만들어서 쓸 겁니다. 이 함수를 통해 각 컬럼의 unique 한 값의 개수와 종류를 출력해서 볼 수 있어요.\n",
    "\n",
    "def unique_value(df):\n",
    "    non_numeric_cols = df.columns[df.dtypes == 'object'] # Object 값만 추출 \n",
    "    for col in non_numeric_cols:\n",
    "        print(f'{col} unique 값: {df[col].nunique()}')\n",
    "        # print(f'{col} 컬럼의 unique 값 개수: {df[col].nunique()}')\n",
    "        print(sorted(df[col].unique()), '\\n')\n",
    "    "
   ],
   "metadata": {
    "collapsed": false
   },
   "id": "63cef01a56ab2d46",
   "execution_count": null
  },
  {
   "cell_type": "code",
   "outputs": [],
   "source": [
    "unique_value(jeju_reg_17_df)"
   ],
   "metadata": {
    "collapsed": false
   },
   "id": "a54c139e23679230",
   "execution_count": null
  },
  {
   "cell_type": "code",
   "outputs": [],
   "source": [
    "unique_value(jeju_reg_18_df)"
   ],
   "metadata": {
    "collapsed": false
   },
   "id": "9fb2b9b793f9b1cf",
   "execution_count": null
  },
  {
   "cell_type": "code",
   "outputs": [],
   "source": [
    "unique_value(jeju_pop_df)"
   ],
   "metadata": {
    "collapsed": false
   },
   "id": "48c075868bf83d4b",
   "execution_count": null
  },
  {
   "cell_type": "markdown",
   "source": [
    "#### 업종명: 2017년과 2018년도 unique 값 비교 & drop"
   ],
   "metadata": {
    "collapsed": false
   },
   "id": "161ea8bdb22489ca"
  },
  {
   "cell_type": "code",
   "outputs": [],
   "source": [
    "# 2017에만 있는 값\n",
    "for item in jeju_reg_17_df['업종명'].unique():\n",
    "    if item not in jeju_reg_18_df['업종명'].unique():\n",
    "        print(f'only 2017: {item}')\n",
    "        \n",
    "# 2018에만 있는 값\n",
    "for item in jeju_reg_18_df['업종명'].unique():\n",
    "    if item not in jeju_reg_17_df['업종명'].unique():\n",
    "        print(f'only 2018: {item}')        "
   ],
   "metadata": {
    "collapsed": false
   },
   "id": "fe51ec48aa589a37",
   "execution_count": null
  },
  {
   "cell_type": "code",
   "outputs": [],
   "source": [
    "# 개수 확인하고 제외하기 \n",
    "print(jeju_reg_17_df[jeju_reg_17_df['업종명'] == '기타 갬블링 및 배팅업'].shape) # 왜 0이 나올까~~ \n",
    "print(jeju_reg_18_df[jeju_reg_18_df['업종명'] == '택시 운송업'].shape)\n"
   ],
   "metadata": {
    "collapsed": false
   },
   "id": "461d085b31632df",
   "execution_count": null
  },
  {
   "cell_type": "code",
   "outputs": [],
   "source": [
    "# 갬블링, 택시 운송업 지우기 \n",
    "jeju_reg_17_df = jeju_reg_17_df[jeju_reg_17_df['업종명'] != '기타 갬블링 및 베팅업']\n",
    "jeju_reg_18_df = jeju_reg_18_df[jeju_reg_18_df['업종명'] != '택시 운송업']\n"
   ],
   "metadata": {
    "collapsed": false
   },
   "id": "7d398262e24c6989",
   "execution_count": null
  },
  {
   "cell_type": "markdown",
   "source": [
    "#### 데이터 프레입 합치기"
   ],
   "metadata": {
    "collapsed": false
   },
   "id": "85fa9476e37e2588"
  },
  {
   "cell_type": "markdown",
   "source": [
    "2017년도 df와 2018년도 df를 하나의 df로 합치기"
   ],
   "metadata": {
    "collapsed": false
   },
   "id": "f3523227eac0ac2f"
  },
  {
   "cell_type": "code",
   "outputs": [],
   "source": [
    "df = pd.concat([jeju_reg_18_df, jeju_reg_17_df])\n",
    "df.head()"
   ],
   "metadata": {
    "collapsed": false
   },
   "id": "34e9b4421d351e1c",
   "execution_count": null
  },
  {
   "cell_type": "code",
   "outputs": [],
   "source": [
    "df.describe(include='all')"
   ],
   "metadata": {
    "collapsed": false
   },
   "id": "3637ac7f214ebc9d",
   "execution_count": null
  },
  {
   "cell_type": "code",
   "outputs": [],
   "source": [
    "df.shape"
   ],
   "metadata": {
    "collapsed": false
   },
   "id": "ccf109ad1c5a8b5",
   "execution_count": null
  },
  {
   "cell_type": "markdown",
   "source": [
    "#### 연월 str 슬라이싱"
   ],
   "metadata": {
    "collapsed": false
   },
   "id": "cea82215f5c9dfa2"
  },
  {
   "cell_type": "code",
   "outputs": [],
   "source": [
    "df['연월'] = df['연월'].str[:7]\n",
    "df.head()"
   ],
   "metadata": {
    "collapsed": false
   },
   "id": "9de13462138d78c3",
   "execution_count": null
  },
  {
   "cell_type": "markdown",
   "source": [
    "### 3. 데이터 분석"
   ],
   "metadata": {
    "collapsed": false
   },
   "id": "48f51d80afc25893"
  },
  {
   "cell_type": "markdown",
   "source": [
    "#### 3-1. 카드 이용이 많은 업종 확인하기"
   ],
   "metadata": {
    "collapsed": false
   },
   "id": "8484d030fad30911"
  },
  {
   "cell_type": "markdown",
   "source": [],
   "metadata": {
    "collapsed": false
   },
   "id": "5c3855dd88ee55bd"
  },
  {
   "cell_type": "code",
   "outputs": [],
   "source": [
    "#일단 이용 금액이 많은 업종은 무엇인지 알아볼 건데요. \n",
    "usebybiz = df.groupby('업종명').sum().reset_index()\n",
    "usebybiz.sort_values(by='이용금액', ascending = False).head()"
   ],
   "metadata": {
    "collapsed": false
   },
   "id": "cf0160de7c36c15f",
   "execution_count": null
  },
  {
   "cell_type": "markdown",
   "source": [
    "- 한식 음식점업이 이용금액이 가장 크다. "
   ],
   "metadata": {
    "collapsed": false
   },
   "id": "5dc30697c827c401"
  },
  {
   "cell_type": "code",
   "outputs": [],
   "source": [
    "# 이용자수이 많은 업종은 무엇인지 알아볼 건데요. \n",
    "usebybiz.sort_values(by='이용자수', ascending = False).head()"
   ],
   "metadata": {
    "collapsed": false
   },
   "id": "218e09a34955d536",
   "execution_count": null
  },
  {
   "cell_type": "markdown",
   "source": [
    "- 이용자수가 가장 많은 업종은 체인화 편의점"
   ],
   "metadata": {
    "collapsed": false
   },
   "id": "9dafb56e27424bf1"
  },
  {
   "cell_type": "code",
   "outputs": [],
   "source": [
    "pd.options.display.float_format = '{:.3f}'.format"
   ],
   "metadata": {
    "collapsed": false
   },
   "id": "9587c216ed5d8141",
   "execution_count": null
  },
  {
   "cell_type": "code",
   "outputs": [],
   "source": [
    "# 1인당 사용금애기 높은 업종 확인하기 \n",
    "usebybiz['인당 이용금액'] = usebybiz['이용금액'] / usebybiz['이용자수']\n",
    "usebybiz.sort_values(by='인당 이용금액', ascending = False).head()"
   ],
   "metadata": {
    "collapsed": false
   },
   "id": "cf17b443373affb6",
   "execution_count": null
  },
  {
   "cell_type": "markdown",
   "source": [
    "버스 운송업은 데이터 프레임에서 제외"
   ],
   "metadata": {
    "collapsed": false
   },
   "id": "dee29e2efc92bda5"
  },
  {
   "cell_type": "code",
   "outputs": [],
   "source": [
    "df = df[df['업종명'] != '버스 운송업']\n",
    "usebybiz = df.groupby('업종명').sum().reset_index()\n",
    "usebybiz['인당 이용금액'] = usebybiz['이용금액'] / usebybiz['이용자수']\n",
    "\n",
    "#상위 10개 업종 추출\n",
    "usebybiz.sort_values(by='인당 이용금액', ascending = False).head(10)"
   ],
   "metadata": {
    "collapsed": false
   },
   "id": "d695062d8bc177e",
   "execution_count": null
  },
  {
   "cell_type": "code",
   "outputs": [],
   "source": [
    "# 업종 별 이용금액 시각화 \n",
    "plt.figure(figsize=(15,8))\n",
    "sns.barplot(data = usebybiz, x = '업종명', y = '이용금액', palette = 'Set2')\n",
    "plt.xticks(rotation = 90)\n",
    "plt.gca().yaxis.set_major_formatter(plt.FuncFormatter(lambda x, _: f'{x/100000000:,.0f}'))\n",
    "plt.ylabel('이용금액(억)')\n",
    "plt.show()"
   ],
   "metadata": {
    "collapsed": false
   },
   "id": "3b8cb6e7447f2421",
   "execution_count": null
  },
  {
   "cell_type": "markdown",
   "source": [
    "#### 3-2. 카드 이용이 많은 지역 확인하기 "
   ],
   "metadata": {
    "collapsed": false
   },
   "id": "638c2e0be9e57a8e"
  },
  {
   "cell_type": "code",
   "outputs": [],
   "source": [
    "usebyreg = df.groupby('읍면동명').sum().reset_index()\n",
    "usebyreg.head()"
   ],
   "metadata": {
    "collapsed": false
   },
   "id": "a13e6bad932aaa38",
   "execution_count": null
  },
  {
   "cell_type": "code",
   "outputs": [],
   "source": [
    "usebyreg.sort_values(by='이용금액', ascending=False).head(10)"
   ],
   "metadata": {
    "collapsed": false
   },
   "id": "a719161f0da4ed3e",
   "execution_count": null
  },
  {
   "cell_type": "markdown",
   "source": [
    "- 연동, 용담2동, 노형동, 송산동, 이도2동이 카드사용 상위 5위를 차지함 "
   ],
   "metadata": {
    "collapsed": false
   },
   "id": "d0b68328c7ad7940"
  },
  {
   "cell_type": "code",
   "outputs": [],
   "source": [
    "usebyreg.sort_values(by='이용자수', ascending=False).head(10)"
   ],
   "metadata": {
    "collapsed": false
   },
   "id": "f501931d278fa321",
   "execution_count": null
  },
  {
   "cell_type": "markdown",
   "source": [
    "- 이용금액과 다르게 이용자수는 노형동, 연동, 이도2동, 용담2동, 송산동이 상위 5위를 차지함 \n",
    "- 순서는 다르지만 상위 5위 후보는 같음 "
   ],
   "metadata": {
    "collapsed": false
   },
   "id": "3539a832089790a7"
  },
  {
   "cell_type": "markdown",
   "source": [
    "1인당 소비 금액이 많은 지역을 확인하자!"
   ],
   "metadata": {
    "collapsed": false
   },
   "id": "dec061ed45098280"
  },
  {
   "cell_type": "code",
   "outputs": [],
   "source": [
    "usebyreg['인당 이용금액'] = usebyreg['이용금액'] / usebyreg['이용자수']\n",
    "usebyreg.sort_values(by='인당 이용금액', ascending = False).head()"
   ],
   "metadata": {
    "collapsed": false
   },
   "id": "f0c2ef5a8e7e388c",
   "execution_count": null
  },
  {
   "cell_type": "markdown",
   "source": [
    "- 예래동, 영천동, 용담2동, 연동, 일도1동이 상위 5위를 차지함"
   ],
   "metadata": {
    "collapsed": false
   },
   "id": "66343763f15cee17"
  },
  {
   "cell_type": "code",
   "outputs": [],
   "source": [
    "# 240302 카드 사용수가 많은 지역까지 작업함 \n",
    "# 업데이트 되라 제발.. \n"
   ],
   "metadata": {
    "collapsed": false
   },
   "id": "25269308cd04ce60"
  }
 ],
 "metadata": {
  "kernelspec": {
   "display_name": "Python 3",
   "language": "python",
   "name": "python3"
  },
  "language_info": {
   "codemirror_mode": {
    "name": "ipython",
    "version": 2
   },
   "file_extension": ".py",
   "mimetype": "text/x-python",
   "name": "python",
   "nbconvert_exporter": "python",
   "pygments_lexer": "ipython2",
   "version": "2.7.6"
  }
 },
 "nbformat": 4,
 "nbformat_minor": 5
}
